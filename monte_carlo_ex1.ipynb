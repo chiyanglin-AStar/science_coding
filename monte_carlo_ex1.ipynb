{
  "nbformat": 4,
  "nbformat_minor": 0,
  "metadata": {
    "colab": {
      "provenance": [],
      "authorship_tag": "ABX9TyNt8YyC7DJkjbxt8Y8mSxjh",
      "include_colab_link": true
    },
    "kernelspec": {
      "name": "python3",
      "display_name": "Python 3"
    },
    "language_info": {
      "name": "python"
    }
  },
  "cells": [
    {
      "cell_type": "markdown",
      "metadata": {
        "id": "view-in-github",
        "colab_type": "text"
      },
      "source": [
        "<a href=\"https://colab.research.google.com/github/chiyanglin-AStar/science_coding/blob/main/monte_carlo_ex1.ipynb\" target=\"_parent\"><img src=\"https://colab.research.google.com/assets/colab-badge.svg\" alt=\"Open In Colab\"/></a>"
      ]
    },
    {
      "cell_type": "markdown",
      "source": [
        "## Monte Carlo Simulation\n",
        "\n",
        "Monte Carlo Simulation is a statistical technique used to model the probability of different outcomes in a process that cannot easily be predicted due to the presence of random variables. It relies on the generation of random samples to obtain numerical results and is named after the Monte Carlo Casino in Monaco, as the method involves randomness and chance, much like games of chance at a casino.\n",
        "\n",
        "Here's a basic overview of how Monte Carlo Simulation works:\n",
        "\n",
        "Define the Problem:\n",
        "\n",
        "Clearly define the problem or system you want to analyze.\n",
        "Identify Variables:\n",
        "\n",
        "Identify the key variables and parameters that influence the system or process.\n",
        "Assign Probability Distributions:\n",
        "\n",
        "Assign probability distributions to the variables. These distributions represent the range of possible values for each variable and their likelihood.\n",
        "Generate Random Samples:\n",
        "\n",
        "Use random number generators to create samples from the specified probability distributions for each variable.\n",
        "Run Simulations:\n",
        "\n",
        "For each set of randomly generated values, run the simulation to determine the outcome or behavior of the system.\n",
        "Aggregate Results:\n",
        "\n",
        "Collect and aggregate the results from all simulations to analyze the overall behavior and generate probability distributions for the outcomes.\n",
        "Monte Carlo Simulation is widely used in various fields, including finance, engineering, project management, physics, and operations research. It provides a powerful tool for decision-making and risk analysis by allowing analysts to model complex systems and assess the likelihood of different scenarios. The more simulations conducted, the more accurate and reliable the results become."
      ],
      "metadata": {
        "id": "w-UPy7J0owKV"
      }
    },
    {
      "cell_type": "markdown",
      "source": [
        "Certainly! Let's consider a simple example of using Monte Carlo Simulation to estimate the value of π (pi), which is the ratio of a circle's circumference to its diameter.\n",
        "\n",
        "Define the Problem:\n",
        "\n",
        "Estimate the value of π using Monte Carlo Simulation.\n",
        "Identify Variables:\n",
        "\n",
        "We'll use random points within a square to simulate points within a circle.\n",
        "Assign Probability Distributions:\n",
        "\n",
        "For each point's x and y coordinates, we'll use a uniform distribution between -1 and 1, as our square will have side length 2 centered at the origin.\n",
        "Generate Random Samples:\n",
        "\n",
        "Generate a large number of random points within the square.\n",
        "Run Simulations:\n",
        "\n",
        "For each point, determine if it falls inside a unit circle (using the equation x^2 + y^2 ≤ 1).\n",
        "Aggregate Results:\n",
        "\n",
        "Calculate the ratio of points inside the circle to the total points generated. This ratio multiplied by 4 will provide an estimate of π.\n",
        "Here's a simple Python code snippet to demonstrate this:"
      ],
      "metadata": {
        "id": "_E3HbdLLpKuw"
      }
    },
    {
      "cell_type": "code",
      "execution_count": 4,
      "metadata": {
        "colab": {
          "base_uri": "https://localhost:8080/"
        },
        "id": "qh2TUCdHonwf",
        "outputId": "af46d22a-8e6e-46bb-ff18-7259b87a3335"
      },
      "outputs": [
        {
          "output_type": "stream",
          "name": "stdout",
          "text": [
            "Estimated value of pi: 3.1419948\n"
          ]
        }
      ],
      "source": [
        "import random\n",
        "\n",
        "def monte_carlo_pi(num_samples):\n",
        "    inside_circle = 0\n",
        "\n",
        "    for _ in range(num_samples):\n",
        "        x = random.uniform(-1, 1)\n",
        "        y = random.uniform(-1, 1)\n",
        "\n",
        "        if x**2 + y**2 <= 1:\n",
        "            inside_circle += 1\n",
        "\n",
        "    pi_estimate = (inside_circle / num_samples) * 4\n",
        "    return pi_estimate\n",
        "\n",
        "# Example with 10000 samples\n",
        "estimated_pi = monte_carlo_pi(10000000)\n",
        "print(\"Estimated value of pi:\", estimated_pi)"
      ]
    }
  ]
}