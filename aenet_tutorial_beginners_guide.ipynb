{
  "nbformat": 4,
  "nbformat_minor": 0,
  "metadata": {
    "colab": {
      "provenance": [],
      "toc_visible": true,
      "include_colab_link": true
    },
    "kernelspec": {
      "display_name": "Python 3",
      "name": "python3"
    }
  },
  "cells": [
    {
      "cell_type": "markdown",
      "metadata": {
        "id": "view-in-github",
        "colab_type": "text"
      },
      "source": [
        "<a href=\"https://colab.research.google.com/github/chiyanglin-AStar/science_coding/blob/main/aenet_tutorial_beginners_guide.ipynb\" target=\"_parent\"><img src=\"https://colab.research.google.com/assets/colab-badge.svg\" alt=\"Open In Colab\"/></a>"
      ]
    },
    {
      "cell_type": "markdown",
      "metadata": {
        "id": "vuYYPrBClq8C"
      },
      "source": [
        "Copyright (c) 2021 April M. Misch <<miksch@theochem.uni-stuttgart.de>>, Alex Urban <<a.urban@columbia.edu>>, and Nong Artrith <<nartrith@atomistic.net>><br/>\n",
        "Distributed under the terms of the Mozilla Public License, version 2.0 (https://www.mozilla.org/en-US/MPL/2.0/)\n",
        "\n",
        "----\n",
        "\n",
        "\n",
        "This notebook is a companion to Miksch, Morawietz, Kaestner, Urban, Artrith, to be published (2021).\n",
        "\n",
        "The tutorial demonstrates the construction of an artificial neural network (ANN) interatomic potential for water clusters with six water molecules, using the data set from [1].\n",
        "\n",
        "[1] A. M. Cooper, J. Kästner, A. Urban, N. Artrith, npj Comput. Mater. 6, 54 (2020);<br/> Data: https://archive.materialscloud.org/record/2020.0037/v1"
      ]
    },
    {
      "cell_type": "markdown",
      "source": [
        "# New section"
      ],
      "metadata": {
        "id": "TjidXvh-vUTB"
      }
    },
    {
      "cell_type": "markdown",
      "metadata": {
        "id": "eZGPu72_h5pq"
      },
      "source": [
        "# Prerequisites - installation of ænet and ASE\n",
        "\n",
        "We will use the atomic energy network (ænet) package (http://ann.atomistic.net) artificial neural network (ANN) potential package\n",
        "\n",
        "    N. Artrith and A. Urban, Comput. Mater. Sci. 114 (2016) 135-150.\n",
        "    N. Artrith, A. Urban, and G. Ceder, Phys. Rev. B 96 (2017) 014112.\n",
        "\n",
        "and the atomic simulation environment (ASE) package (https://wiki.fysik.dtu.dk/ase) for structure manipulation and to perform MD simulations\n",
        "\n",
        "    Larsen et al., J. Phys.: Condens. Matter Vol. 29 273002, 2017\n",
        "\n",
        "Also *clone* the companion GitHub repository with files for this tutorial (https://github.com/atomisticnet/MLP-beginners-guide)."
      ]
    },
    {
      "cell_type": "code",
      "metadata": {
        "colab": {
          "base_uri": "https://localhost:8080/"
        },
        "id": "B0r4CvQlRwO3",
        "outputId": "416264fe-3463-49da-b9de-89f43b92c28e"
      },
      "source": [
        "try:\n",
        "  import aenet\n",
        "  print(\"successfully imported aenet\")\n",
        "except ImportError:\n",
        "  !! git clone https://github.com/atomisticnet/aenet.git\n",
        "  !! cd aenet/lib && make\n",
        "  !! cd aenet/src && make -f makefiles/Makefile.gfortran_serial\n",
        "  !! cd aenet/src && make -f makefiles/Makefile.gfortran_serial lib\n",
        "  !! cd aenet/python3 && python3 setup.py build_ext --inplace\n",
        "  !! cd aenet/python3 && pip install -e . --user\n",
        "  print(\"completed installation of aenet\")"
      ],
      "execution_count": null,
      "outputs": [
        {
          "output_type": "stream",
          "text": [
            "completed installation of aenet\n"
          ],
          "name": "stdout"
        }
      ]
    },
    {
      "cell_type": "code",
      "metadata": {
        "id": "1JVG6Tn8mddT",
        "colab": {
          "base_uri": "https://localhost:8080/"
        },
        "outputId": "f0f30572-795e-4a61-c858-1aa0a533c56d"
      },
      "source": [
        "try:\n",
        "  import ase\n",
        "  print(\"successfully imported ase\")\n",
        "except ImportError:\n",
        "  !! pip install ase --user --upgrade\n",
        "  print(\"completed installing ASE\")"
      ],
      "execution_count": null,
      "outputs": [
        {
          "output_type": "stream",
          "text": [
            "completed installing ASE\n"
          ],
          "name": "stdout"
        }
      ]
    },
    {
      "cell_type": "markdown",
      "metadata": {
        "id": "39tCY3Fkcy-c"
      },
      "source": [
        "Get additional materials for this tutorial from GitHub (https://github.com/atomisticnet/MLP-beginners-guide)."
      ]
    },
    {
      "cell_type": "code",
      "metadata": {
        "id": "wKSif77qeH_E"
      },
      "source": [
        "import os\n",
        "if not os.path.exists('MLP-beginners-guide'):\n",
        "  !! git clone https://github.com/atomisticnet/MLP-beginners-guide.git\n",
        "else:\n",
        "  print(\"Tutorial files are already installed.\")"
      ],
      "execution_count": null,
      "outputs": []
    },
    {
      "cell_type": "markdown",
      "metadata": {
        "id": "kJEk9SasdRX5"
      },
      "source": [
        "Now: Notebook has to be restarted to activate the packages that we just installed."
      ]
    },
    {
      "cell_type": "code",
      "metadata": {
        "id": "cmH3-ytveRYB",
        "colab": {
          "base_uri": "https://localhost:8080/"
        },
        "outputId": "dc3881b7-ea8c-4339-b0a9-b41a68f1002d"
      },
      "source": [
        "try:\n",
        "  import aenet\n",
        "  import ase\n",
        "  print(\"Both aenet and ase could be imported. You are all set for the tutorial.\")\n",
        "except ImportError:\n",
        "  print(\"The notebook needs to be restarted. Run this cell again once the restart is done.\")\n",
        "  import os\n",
        "  os.kill(os.getpid(), 9)"
      ],
      "execution_count": null,
      "outputs": [
        {
          "output_type": "stream",
          "text": [
            "Both aenet and ase could be imported. You are all set for the tutorial.\n"
          ],
          "name": "stdout"
        }
      ]
    },
    {
      "cell_type": "markdown",
      "metadata": {
        "id": "5W9yFvLzw-h-"
      },
      "source": [
        "# Python imports\n",
        "\n",
        "We need to import Python packages/libaries that we will use below."
      ]
    },
    {
      "cell_type": "code",
      "metadata": {
        "id": "l6PNmN8TxXLN"
      },
      "source": [
        "import numpy as np\n",
        "import pandas as pd\n",
        "import re\n",
        "from IPython.display import Image\n",
        "%matplotlib inline\n",
        "import matplotlib.pyplot as plt\n",
        "plt.rcParams.update({\"font.size\": 15})\n",
        "plt.close(\"all\")"
      ],
      "execution_count": null,
      "outputs": []
    },
    {
      "cell_type": "markdown",
      "metadata": {
        "id": "w86o9KTBmapd"
      },
      "source": [
        "# 01-generate: Generating the reference data set\n",
        "\n",
        "The first step is the transformation of the atomic structures in the reference data set into a feature-vector representation of local atomic environments.  This is done with the ænet tool `generate.x`.\n",
        "\n",
        "We enter a subdirectory in which we will generate the reference data set."
      ]
    },
    {
      "cell_type": "code",
      "metadata": {
        "id": "YjnrBkdF0GeL",
        "colab": {
          "base_uri": "https://localhost:8080/"
        },
        "outputId": "d4cf470a-7084-4c5c-ef6b-be60fdc53b17"
      },
      "source": [
        "%cd /content/MLP-beginners-guide/tutorial/01_generate/\n",
        "%ls"
      ],
      "execution_count": null,
      "outputs": [
        {
          "output_type": "stream",
          "text": [
            "/content/MLP-beginners-guide/tutorial/01_generate\n",
            "generate.in        O.fingerprint.stp  sort-list.dat\n",
            "H.fingerprint.stp  \u001b[0m\u001b[01;34moutput\u001b[0m/            Stuttgart-HCP-generate.in\n"
          ],
          "name": "stdout"
        }
      ]
    },
    {
      "cell_type": "markdown",
      "metadata": {
        "id": "xcvWC5UDfyE_"
      },
      "source": [
        "`generate.x` is a command-line tool that reads input parameters from text files. The file `generate.in` is the pricipal input file containing information about the chemical species and the structures in the reference data set:\n",
        "\n",
        "- The name of the *training set* output file to be generated,\n",
        "- Atomic energies for each species that are subtracted from the total energy before the potential is trained,\n",
        "- The file names of the *fingerprint* set-ups for each species that define how the local atomic environment is described, and\n",
        "- The paths of the atomic structure files in the reference data set.\n",
        "\n",
        "For more details, see also the aenet documentation: http://ann.atomistic.net/documentation/"
      ]
    },
    {
      "cell_type": "code",
      "metadata": {
        "id": "HcTkLbfsgI3x",
        "colab": {
          "base_uri": "https://localhost:8080/"
        },
        "outputId": "8c6a7344-594d-4692-e4fa-f436bfbf7f82"
      },
      "source": [
        "! head -n 15 generate.in"
      ],
      "execution_count": null,
      "outputs": [
        {
          "output_type": "stream",
          "text": [
            "OUTPUT H2O.train\n",
            "\n",
            "TYPES\n",
            "2\n",
            "H 0.000000000\n",
            "O 0.000000000\n",
            "\n",
            "SETUPS\n",
            "H    H.fingerprint.stp\n",
            "O    O.fingerprint.stp\n",
            "\n",
            "FILES\n",
            "1886\n",
            "../water-clusters-BLYP-D3/train_2000_xsf/train0500_1.xsf\n",
            "../water-clusters-BLYP-D3/train_2000_xsf/train0500_10.xsf\n"
          ],
          "name": "stdout"
        }
      ]
    },
    {
      "cell_type": "markdown",
      "metadata": {
        "id": "5B02iXHrhLEs"
      },
      "source": [
        "Let's take a look at the *fingerprint* set-up file for oxygen.  The one for hydrogen is similar.  This example uses\n",
        "\n",
        "- A BP2011 descriptor [1] with 30 symmetry functions of type 2 and 4,\n",
        "- The radial cutoff distance is set to 12 Bohr (6.35 Å), and\n",
        "- The minimal distance between atoms is set to be 0.75 Bohr (0.4 Å).\n",
        "\n",
        "[1] J. Behler, [J. Chem. Phys. 134, 074106 (2011)](https://doi.org/10.1063/1.3553717).\n",
        "\n",
        "**Note:** The water reference data uses the units Hartree and Bohr for energies and lenghts.  aenet ANN potentials are agnostic to the choice of units, but the aenet will (incorrectly) report electronvolts (eV) and Angstrom (Å) units in its output files."
      ]
    },
    {
      "cell_type": "code",
      "metadata": {
        "id": "nNv2sF8Ihp_5",
        "colab": {
          "base_uri": "https://localhost:8080/"
        },
        "outputId": "c6a175bb-ba54-4595-c929-d61053d6d22a"
      },
      "source": [
        "! cat O.fingerprint.stp"
      ],
      "execution_count": null,
      "outputs": [
        {
          "output_type": "stream",
          "text": [
            "DESCR\n",
            "  Structural fingerprint setup for O in bulk TiO2.\n",
            "  Ref.: N. Artrith and A. Urban, Comp. Mater. Sci. (2016)\n",
            "END DESCR\n",
            "\n",
            "ATOM O\n",
            "\n",
            "ENV  2\n",
            "H\n",
            "O\n",
            "\n",
            "RMIN 0.75d0\n",
            "\n",
            "SYMMFUNC type=Behler2011\n",
            "30\n",
            "G=2 type2=H   eta=0.001  Rs=0.0000  Rc=12.0000\n",
            "G=2 type2=O   eta=0.001  Rs=0.0000  Rc=12.0000\n",
            "G=2 type2=H   eta=0.010  Rs=0.0000  Rc=12.0000\n",
            "G=2 type2=O   eta=0.010  Rs=0.0000  Rc=12.0000\n",
            "G=2 type2=H   eta=0.030  Rs=0.0000  Rc=12.0000\n",
            "G=2 type2=O   eta=0.030  Rs=0.0000  Rc=12.0000\n",
            "G=2 type2=H   eta=0.090  Rs=0.0000  Rc=12.0000\n",
            "G=2 type2=O   eta=0.090  Rs=0.0000  Rc=12.0000\n",
            "G=2 type2=H   eta=0.150  Rs=0.9000  Rc=12.0000\n",
            "G=2 type2=O   eta=0.150  Rs=4.0000  Rc=12.0000\n",
            "G=2 type2=H   eta=0.300  Rs=0.9000  Rc=12.0000\n",
            "G=2 type2=O   eta=0.300  Rs=4.0000  Rc=12.0000\n",
            "G=2 type2=H   eta=0.600  Rs=0.9000  Rc=12.0000\n",
            "G=2 type2=O   eta=0.600  Rs=4.0000  Rc=12.0000\n",
            "G=2 type2=H   eta=1.500  Rs=0.9000  Rc=12.0000\n",
            "G=2 type2=O   eta=1.500  Rs=4.0000  Rc=12.0000\n",
            "G=4 type2=H  type3=O    eta=0.001 lambda= -1.0  zeta= 4.0  Rc=12.0000\n",
            "G=4 type2=O  type3=O    eta=0.001 lambda= -1.0  zeta= 4.0  Rc=12.0000\n",
            "G=4 type2=H  type3=O    eta=0.001 lambda=  1.0  zeta= 4.0  Rc=12.0000\n",
            "G=4 type2=O  type3=O    eta=0.001 lambda=  1.0  zeta= 4.0  Rc=12.0000\n",
            "G=4 type2=H  type3=H    eta=0.010 lambda= -1.0  zeta= 4.0  Rc=12.0000\n",
            "G=4 type2=H  type3=H    eta=0.010 lambda=  1.0  zeta= 4.0  Rc=12.0000\n",
            "G=4 type2=H  type3=H    eta=0.030 lambda= -1.0  zeta= 1.0  Rc=12.0000\n",
            "G=4 type2=O  type3=O    eta=0.030 lambda= -1.0  zeta= 1.0  Rc=12.0000\n",
            "G=4 type2=O  type3=O    eta=0.030 lambda= -1.0  zeta= 1.0  Rc=12.0000\n",
            "G=4 type2=H  type3=H    eta=0.030 lambda=  1.0  zeta= 1.0  Rc=12.0000\n",
            "G=4 type2=H  type3=O    eta=0.030 lambda=  1.0  zeta= 1.0  Rc=12.0000\n",
            "G=4 type2=O  type3=O    eta=0.030 lambda=  1.0  zeta= 1.0  Rc=12.0000\n",
            "G=4 type2=H  type3=O    eta=0.070 lambda= -1.0  zeta= 1.0  Rc=12.0000\n",
            "G=4 type2=H  type3=O    eta=0.070 lambda=  1.0  zeta= 1.0  Rc=12.0000\n",
            "\n"
          ],
          "name": "stdout"
        }
      ]
    },
    {
      "cell_type": "markdown",
      "metadata": {
        "id": "UaSQ9iIOiOIR"
      },
      "source": [
        "In this example, everything is already prepared to start with the reference data set generation.  So, we can simply run `generate.x` and wait until all structures have been processed.  We collect the output that `generate.x` prints to the screen in a file named `generate.out`.  Note that this can take a minute:"
      ]
    },
    {
      "cell_type": "code",
      "metadata": {
        "id": "iPlLAU4G-ND1",
        "colab": {
          "base_uri": "https://localhost:8080/"
        },
        "outputId": "fa292d7b-bfe3-4728-b417-5060ba42b529"
      },
      "source": [
        "! /content/aenet/bin/generate.x-2.0.4-gfortran_serial generate.in > generate.out\n",
        "print(\"Reference data set generation completed.\")\n",
        "%ls"
      ],
      "execution_count": null,
      "outputs": [
        {
          "output_type": "stream",
          "text": [
            "Reference data set generation completed.\n",
            "generate.in   H2O.train          O.fingerprint.stp  sort-list.dat\n",
            "generate.out  H.fingerprint.stp  \u001b[0m\u001b[01;34moutput\u001b[0m/            Stuttgart-HCP-generate.in\n"
          ],
          "name": "stdout"
        }
      ]
    },
    {
      "cell_type": "markdown",
      "metadata": {
        "id": "mZ8mVFVAjNu1"
      },
      "source": [
        "The training-set file `H2O.train` has been generated. **Note that training-set files are binary files and cannot be opened with a text editor.**\n",
        "\n",
        "Now, we are ready to train our H2O cluster potential.  Let's return to the main directory."
      ]
    },
    {
      "cell_type": "code",
      "metadata": {
        "id": "KP_OPFvW-Nev",
        "colab": {
          "base_uri": "https://localhost:8080/"
        },
        "outputId": "4ce23fd2-65ef-421c-d07b-883884783faf"
      },
      "source": [
        "%cd /content/"
      ],
      "execution_count": null,
      "outputs": [
        {
          "output_type": "stream",
          "text": [
            "/content\n"
          ],
          "name": "stdout"
        }
      ]
    },
    {
      "cell_type": "markdown",
      "metadata": {
        "id": "CkTpMJt3kF0Q"
      },
      "source": [
        "# 02-train: Training an ANN potential\n",
        "\n",
        "In this section, we will use the reference data set generated in the previous section to train an artificial neural network (ANN) potential.\n",
        "\n",
        "Potential training is also done with a command-line tool, which is named `train.x`.  "
      ]
    },
    {
      "cell_type": "code",
      "metadata": {
        "id": "5mBXhNy7kS8C",
        "colab": {
          "base_uri": "https://localhost:8080/"
        },
        "outputId": "7c41c0f1-c2ab-4ede-8da9-05fe37919e71"
      },
      "source": [
        "%cd /content/MLP-beginners-guide/tutorial/02_train/\n",
        "%ls"
      ],
      "execution_count": null,
      "outputs": [
        {
          "output_type": "stream",
          "text": [
            "/content/MLP-beginners-guide/tutorial/02_train\n",
            "train.in\n"
          ],
          "name": "stdout"
        }
      ]
    },
    {
      "cell_type": "markdown",
      "metadata": {
        "id": "tJ776eltkb5S"
      },
      "source": [
        "An input file for `train.x`, named `train.in`, has already been prepared for us.  This file contains the following instructions\n",
        "\n",
        "- The path to the reference data set file (`H2O.train`),\n",
        "- The fraction of the data set that should be set aside as validation set,\n",
        "- The number of training iterations (epochs) to perform,\n",
        "- The training method and its parameters, and\n",
        "- The *architecture* of the atomic-energy ANNs for each species.\n",
        "\n",
        "For more details, see also the aenet documentation: http://ann.atomistic.net/documentation/"
      ]
    },
    {
      "cell_type": "code",
      "metadata": {
        "id": "L7ioXI4_k3oE",
        "colab": {
          "base_uri": "https://localhost:8080/"
        },
        "outputId": "0ed68da1-c4be-42d2-dd00-cf5783617d66"
      },
      "source": [
        "%cat train.in"
      ],
      "execution_count": null,
      "outputs": [
        {
          "output_type": "stream",
          "text": [
            "TRAININGSET H2O.train\n",
            "TESTPERCENT 10\n",
            "ITERATIONS  100 \n",
            "\n",
            "METHOD\n",
            "bfgs\n",
            "\n",
            "SAVE_ENERGIES\n",
            "\n",
            "NETWORKS\n",
            "! atom   network         hidden\n",
            "! types  file-name       layers  nodes:activation\n",
            "  O      O.10t-10t.nn    2       10:tanh 10:tanh\n",
            "  H      H.10t-10t.nn    2       10:tanh 10:tanh\n",
            "\n"
          ],
          "name": "stdout"
        }
      ]
    },
    {
      "cell_type": "markdown",
      "metadata": {
        "id": "RrEQxtMGlZcf"
      },
      "source": [
        "Before we can start with training, the reference data set file needs to be made available.  We will create a symbolic link to it in the present directory."
      ]
    },
    {
      "cell_type": "code",
      "metadata": {
        "id": "337GVD3sl5kh",
        "colab": {
          "base_uri": "https://localhost:8080/"
        },
        "outputId": "08f82dd1-ecec-4928-c399-ae44d2294104"
      },
      "source": [
        "! ln -s /content/MLP-beginners-guide/tutorial/01_generate/H2O.train\n",
        "%ls"
      ],
      "execution_count": null,
      "outputs": [
        {
          "output_type": "stream",
          "text": [
            "\u001b[0m\u001b[01;36mH2O.train\u001b[0m@  train.in\n"
          ],
          "name": "stdout"
        }
      ]
    },
    {
      "cell_type": "markdown",
      "metadata": {
        "id": "ocO9H_KEmE0Z"
      },
      "source": [
        "Now, we perform the training.  Note that this can take a few minutes.  We can observe the training iterations."
      ]
    },
    {
      "cell_type": "code",
      "metadata": {
        "id": "MWD660xXmRWk",
        "colab": {
          "base_uri": "https://localhost:8080/"
        },
        "outputId": "eed24371-4622-4013-a4f4-2a1b9348505a"
      },
      "source": [
        "! /content/aenet/bin/train.x-2.0.4-gfortran_serial train.in | tee train.out\n",
        "!! tar cfvz nn.tar.gz *.nn-* && rm -f *.nn-*\n",
        "%ls"
      ],
      "execution_count": null,
      "outputs": [
        {
          "output_type": "stream",
          "text": [
            " ======================================================================\n",
            "                       Training process started.                       \n",
            " ======================================================================\n",
            "                                                                       \n",
            "                          2021-03-26  01:11:28                         \n",
            "                                                                       \n",
            "\n",
            " Copyright (C) 2015-2018 Nongnuch Artrith and Alexander Urban\n",
            "\n",
            " This program is distributed in the hope that it will be useful, but\n",
            " WITHOUT ANY WARRANTY; without even the implied warranty of\n",
            " MERCHANTABILITY or FITNESS FOR A PARTICULAR PURPOSE.  See the\n",
            " Mozilla Public License, v. 2.0, for more details.\n",
            "\n",
            " ----------------------------------------------------------------------\n",
            "                       Training set normalization                      \n",
            " ----------------------------------------------------------------------\n",
            "\n",
            " The training set will be normalized now.  Depending on its size this\n",
            " process can take a while.  The normalized data set will be written to\n",
            " another file. Load that file in future to avoid this step.\n",
            "\n",
            " Name of the new training set file: H2O.train.scaled\n",
            "\n",
            " The network output energy will be normalized to the interval [-1,1].\n",
            "   Energy scaling factor: f = 392.531310\n",
            "   Atomic energy shift  : s = -25.483040\n",
            "\n",
            " Training set normalization done.\n",
            "\n",
            " ----------------------------------------------------------------------\n",
            "                                Networks                               \n",
            " ----------------------------------------------------------------------\n",
            "\n",
            " Creating a new H network\n",
            "\n",
            " Number of layers :   4\n",
            "\n",
            " Number of nodes (without bias) \n",
            " and activation type per layer :\n",
            "\n",
            "       1 :    27\n",
            "       2 :    10  hyperbolic tangent (tanh)\n",
            "       3 :    10  hyperbolic tangent (tanh)\n",
            "       4 :     1  linear function (linear)\n",
            "\n",
            " Required memory (words) :      48919 (    382.18 KB)\n",
            "\n",
            " Total number of weights (incl. bias) :      401\n",
            "\n",
            " Creating a new O network\n",
            "\n",
            " Number of layers :   4\n",
            "\n",
            " Number of nodes (without bias) \n",
            " and activation type per layer :\n",
            "\n",
            "       1 :    30\n",
            "       2 :    10  hyperbolic tangent (tanh)\n",
            "       3 :    10  hyperbolic tangent (tanh)\n",
            "       4 :     1  linear function (linear)\n",
            "\n",
            " Required memory (words) :      65443 (    511.27 KB)\n",
            "\n",
            " Total number of weights (incl. bias) :      431\n",
            "\n",
            " ----------------------------------------------------------------------\n",
            "                            Storing networks                           \n",
            " ----------------------------------------------------------------------\n",
            "\n",
            " Saving the H network to file : H.10t-10t.nn\n",
            " Saving the O network to file : O.10t-10t.nn\n",
            "\n",
            " ----------------------------------------------------------------------\n",
            "                           Training set info.                          \n",
            " ----------------------------------------------------------------------\n",
            "\n",
            " Training set file                   : H2O.train.scaled\n",
            " Number of structures in the data set: 1886\n",
            "\n",
            " Atomic species in training set      : 2\n",
            "   Species : H O\n",
            "\n",
            " Average energy (eV/atom) : -0.375722\n",
            " Minimum energy (eV/atom) : -1.000000\n",
            " Maximum energy (eV/atom) : 1.000000\n",
            "\n",
            " The input and output values have been normalized to [-1.0, 1.0].\n",
            " Structures outside of this interval will not be used for training.\n",
            "   Energy scaling factor: 392.531310\n",
            "   Atomic energy shift  : -25.483040\n",
            "\n",
            " ----------------------------------------------------------------------\n",
            "                            Training details                           \n",
            " ----------------------------------------------------------------------\n",
            "\n",
            " Training method         : Limited Memory BFGS\n",
            "\n",
            " Number of iterations    : 100\n",
            "\n",
            " Training structures     : 1698\n",
            " Testing  structures     : 188\n",
            "\n",
            " Testing set : \n",
            "\n",
            "      22       23       34       79      106      107      145      146 \n",
            "     153      154      158      165      172      173      175      186 \n",
            "     189      192      200      201      216      221      222      225 \n",
            "     228      239      242      248      258      263      278      304 \n",
            "     309      369      371      384      399      407      439      446 \n",
            "     448      449      455      480      489      492      493      499 \n",
            "     515      520      523      526      529      530      540      542 \n",
            "     556      557      558      580      591      621      627      642 \n",
            "     705      709      720      741      764      779      799      800 \n",
            "     807      813      835      836      837      843      857      869 \n",
            "     870      871      875      876      879      887      889      898 \n",
            "     905      907      912      916      917      920      951      963 \n",
            "     970      974      988     1003     1010     1032     1050     1075 \n",
            "    1091     1101     1116     1133     1178     1190     1192     1200 \n",
            "    1201     1202     1210     1211     1218     1220     1227     1241 \n",
            "    1254     1258     1264     1269     1293     1304     1305     1313 \n",
            "    1317     1344     1369     1396     1408     1411     1422     1427 \n",
            "    1434     1439     1444     1458     1472     1473     1488     1489 \n",
            "    1498     1515     1519     1537     1547     1551     1556     1561 \n",
            "    1566     1572     1584     1591     1603     1616     1628     1643 \n",
            "    1663     1668     1672     1694     1707     1714     1730     1733 \n",
            "    1739     1742     1745     1752     1772     1774     1779     1789 \n",
            "    1797     1802     1806     1836     1838     1870     1881     1882 \n",
            "    1883     1884     1885     1886 \n",
            "\n",
            " ----------------------------------------------------------------------\n",
            "                            Training process                           \n",
            " ----------------------------------------------------------------------\n",
            "\n",
            " Weight optimization for 100 epochs using the Limited Memory BFGS method.\n",
            "\n",
            " Sampling type               : sequential\n",
            "\n",
            "        |------------TRAIN-----------|  |------------TEST------------|\n",
            " epoch             MAE          <RMSE>             MAE          <RMSE>\n",
            "     0    1.033603E-03    1.148417E-03    1.018974E-03    1.122986E-03 <\n",
            "     1    1.033603E-03    1.148417E-03    1.018974E-03    1.122986E-03 <\n",
            "     2    2.166109E-03    2.246213E-03    2.196121E-03    2.276394E-03 <\n",
            "     3    4.565986E-04    6.007754E-04    4.632075E-04    6.097483E-04 <\n",
            "     4    4.511391E-04    5.939909E-04    4.577195E-04    6.023597E-04 <\n",
            "     5    4.255899E-04    5.602556E-04    4.319588E-04    5.642586E-04 <\n",
            "     6    3.902296E-04    5.160038E-04    3.933712E-04    5.186351E-04 <\n",
            "     7    3.368786E-04    4.488755E-04    3.308854E-04    4.502780E-04 <\n",
            "     8    3.211041E-04    4.258351E-04    3.236831E-04    4.268577E-04 <\n",
            "     9    3.136198E-04    4.168514E-04    3.166364E-04    4.184181E-04 <\n",
            "    10    2.955220E-04    3.892955E-04    2.983596E-04    3.880847E-04 <\n",
            "    11    2.887204E-04    3.891358E-04    2.989816E-04    3.927048E-04 <\n",
            "    12    2.829289E-04    3.775348E-04    2.900341E-04    3.794371E-04 <\n",
            "    13    2.802000E-04    3.676670E-04    2.815336E-04    3.669067E-04 <\n",
            "    14    2.755465E-04    3.612800E-04    2.769950E-04    3.605580E-04 <\n",
            "    15    2.647098E-04    3.466123E-04    2.640697E-04    3.479910E-04 <\n",
            "    16    2.595012E-04    3.394793E-04    2.580787E-04    3.414323E-04 <\n",
            "    17    2.370662E-04    3.100946E-04    2.339838E-04    3.123945E-04 <\n",
            "    18    2.337471E-04    3.008693E-04    2.395406E-04    3.055868E-04 <\n",
            "    19    2.268971E-04    2.934815E-04    2.330907E-04    2.982068E-04 <\n",
            "    20    2.248515E-04    2.895063E-04    2.276577E-04    2.921501E-04 <\n",
            "    21    2.223819E-04    2.856329E-04    2.241942E-04    2.870008E-04 <\n",
            "    22    2.173449E-04    2.772653E-04    2.174006E-04    2.757714E-04 <\n",
            "    23    2.083253E-04    2.669012E-04    2.110166E-04    2.682129E-04 <\n",
            "    24    1.998556E-04    2.564870E-04    2.058861E-04    2.647704E-04 <\n",
            "    25    1.959174E-04    2.534612E-04    2.132867E-04    2.686368E-04 <\n",
            "    26    1.936206E-04    2.499747E-04    2.048505E-04    2.635938E-04 <\n",
            "    27    1.937651E-04    2.492560E-04    2.055867E-04    2.625658E-04 <\n",
            "    28    1.928636E-04    2.488269E-04    2.067811E-04    2.647462E-04 <\n",
            "    29    1.925338E-04    2.483930E-04    2.068436E-04    2.643365E-04 <\n",
            "    30    1.914316E-04    2.467108E-04    2.065054E-04    2.631613E-04 <\n",
            "    31    1.869370E-04    2.421160E-04    2.030784E-04    2.606717E-04 <\n",
            "    32    1.829402E-04    2.381880E-04    2.025181E-04    2.614156E-04 <\n",
            "    33    1.804692E-04    2.339805E-04    2.007122E-04    2.572027E-04 <\n",
            "    34    1.795198E-04    2.324865E-04    2.012405E-04    2.569332E-04 <\n",
            "    35    1.792674E-04    2.316891E-04    2.002535E-04    2.551111E-04 <\n",
            "    36    1.781684E-04    2.296759E-04    1.993036E-04    2.530169E-04 <\n",
            "    37    1.751723E-04    2.245031E-04    1.958489E-04    2.485075E-04 <\n",
            "    38    1.722181E-04    2.206138E-04    1.925807E-04    2.467608E-04 <\n",
            "    39    1.703024E-04    2.182084E-04    1.916979E-04    2.470471E-04 <\n",
            "    40    1.691496E-04    2.177356E-04    1.901338E-04    2.484444E-04 <\n",
            "    41    1.690010E-04    2.171057E-04    1.891774E-04    2.464770E-04 <\n",
            "    42    1.688544E-04    2.167164E-04    1.889427E-04    2.455960E-04 <\n",
            "    43    1.683767E-04    2.158630E-04    1.878563E-04    2.441562E-04 <\n",
            "    44    1.675097E-04    2.146245E-04    1.863411E-04    2.423612E-04 <\n",
            "    45    1.665121E-04    2.130464E-04    1.841892E-04    2.403688E-04 <\n",
            "    46    1.658652E-04    2.119906E-04    1.833203E-04    2.391548E-04 <\n",
            "    47    1.648537E-04    2.102443E-04    1.818766E-04    2.367171E-04 <\n",
            "    48    1.642254E-04    2.091858E-04    1.810193E-04    2.357356E-04 <\n",
            "    49    1.637187E-04    2.079052E-04    1.805250E-04    2.342208E-04 <\n",
            "    50    1.630771E-04    2.070710E-04    1.796467E-04    2.329858E-04 <\n",
            "    51    1.605315E-04    2.046810E-04    1.761535E-04    2.282891E-04 <\n",
            "    52    1.590510E-04    2.034341E-04    1.754205E-04    2.286828E-04 <\n",
            "    53    1.578123E-04    2.023113E-04    1.735749E-04    2.256973E-04 <\n",
            "    54    1.573606E-04    2.018453E-04    1.731150E-04    2.245282E-04 <\n",
            "    55    1.570008E-04    2.007736E-04    1.720384E-04    2.223401E-04 <\n",
            "    56    1.558888E-04    1.997868E-04    1.688461E-04    2.185228E-04 <\n",
            "    57    1.550335E-04    1.981869E-04    1.679077E-04    2.177343E-04 <\n",
            "    58    1.538111E-04    1.961046E-04    1.651505E-04    2.153109E-04 <\n",
            "    59    1.513926E-04    1.930885E-04    1.620274E-04    2.134456E-04 <\n",
            "    60    1.493786E-04    1.902116E-04    1.603575E-04    2.133748E-04 <\n",
            "    61    1.477363E-04    1.882616E-04    1.594608E-04    2.128924E-04 <\n",
            "    62    1.472945E-04    1.871904E-04    1.595254E-04    2.123202E-04 <\n",
            "    63    1.469744E-04    1.868992E-04    1.588538E-04    2.116729E-04 <\n",
            "    64    1.467176E-04    1.866993E-04    1.588095E-04    2.118256E-04 <\n",
            "    65    1.464792E-04    1.865064E-04    1.584639E-04    2.114123E-04 <\n",
            "    66    1.461396E-04    1.861042E-04    1.579258E-04    2.107437E-04 <\n",
            "    67    1.454881E-04    1.852273E-04    1.570508E-04    2.092243E-04 <\n",
            "    68    1.438568E-04    1.830345E-04    1.555225E-04    2.056587E-04 <\n",
            "    69    1.422773E-04    1.809235E-04    1.552719E-04    2.033153E-04 <\n",
            "    70    1.408547E-04    1.797084E-04    1.518029E-04    1.991498E-04 <\n",
            "    71    1.399832E-04    1.785291E-04    1.532917E-04    1.997879E-04 <\n",
            "    72    1.396206E-04    1.775502E-04    1.542046E-04    1.975011E-04 <\n",
            "    73    1.387268E-04    1.767161E-04    1.543735E-04    1.981247E-04 <\n",
            "    74    1.380552E-04    1.760245E-04    1.537950E-04    1.974635E-04 <\n",
            "    75    1.366021E-04    1.745122E-04    1.542513E-04    1.984114E-04 <\n",
            "    76    1.357735E-04    1.729659E-04    1.495163E-04    1.925038E-04 <\n",
            "    77    1.338512E-04    1.712325E-04    1.482238E-04    1.906963E-04 <\n",
            "    78    1.327490E-04    1.702392E-04    1.476157E-04    1.893032E-04 <\n",
            "    79    1.321737E-04    1.692463E-04    1.468382E-04    1.879966E-04 <\n",
            "    80    1.313195E-04    1.683857E-04    1.450348E-04    1.859832E-04 <\n",
            "    81    1.305454E-04    1.673256E-04    1.427661E-04    1.835142E-04 <\n",
            "    82    1.296041E-04    1.663495E-04    1.427473E-04    1.821443E-04 <\n",
            "    83    1.288414E-04    1.653386E-04    1.417771E-04    1.813121E-04 <\n",
            "    84    1.279385E-04    1.636387E-04    1.396086E-04    1.810077E-04 <\n",
            "    85    1.271749E-04    1.627539E-04    1.388339E-04    1.807320E-04 <\n",
            "    86    1.261391E-04    1.612894E-04    1.378697E-04    1.804301E-04 <\n",
            "    87    1.260048E-04    1.611350E-04    1.375876E-04    1.799634E-04 <\n",
            "    88    1.256679E-04    1.605907E-04    1.372713E-04    1.795006E-04 <\n",
            "    89    1.247128E-04    1.593181E-04    1.369849E-04    1.786199E-04 <\n",
            "    90    1.239220E-04    1.584206E-04    1.362135E-04    1.775382E-04 <\n",
            "    91    1.231302E-04    1.575818E-04    1.349549E-04    1.756548E-04 <\n",
            "    92    1.227922E-04    1.568080E-04    1.333947E-04    1.744178E-04 <\n",
            "    93    1.221576E-04    1.560244E-04    1.319948E-04    1.729666E-04 <\n",
            "    94    1.206247E-04    1.537319E-04    1.293860E-04    1.707281E-04 <\n",
            "    95    1.193319E-04    1.517209E-04    1.254854E-04    1.679133E-04 <\n",
            "    96    1.190118E-04    1.508329E-04    1.250284E-04    1.676690E-04 <\n",
            "    97    1.189787E-04    1.504166E-04    1.244464E-04    1.669604E-04 <\n",
            "    98    1.183739E-04    1.495744E-04    1.240743E-04    1.665498E-04 <\n",
            "    99    1.177252E-04    1.489369E-04    1.229352E-04    1.645564E-04 <\n",
            "   100    1.165869E-04    1.478403E-04    1.207679E-04    1.610750E-04 <\n",
            "\n",
            " Training finished.\n",
            "\n",
            " ----------------------------------------------------------------------\n",
            "                         Storing final energies                        \n",
            " ----------------------------------------------------------------------\n",
            "\n",
            " Energies of training structures : energies.train.PROCESS\n",
            " Energies of testing structures  : energies.test.PROCESS\n",
            " (Manually concatenate the files from different processes.)\n",
            "\n",
            " Final MAE of training set  =      0.1 meV/atom\n",
            " Final MAE of testing set   =      0.1 meV/atom\n",
            "\n",
            " Final RMSE of training set =      0.1 meV/atom\n",
            " Final RMSE of testing set  =      0.2 meV/atom\n",
            "\n",
            " ----------------------------------------------------------------------\n",
            "                            Storing networks                           \n",
            " ----------------------------------------------------------------------\n",
            "\n",
            " Saving the H network to file : H.10t-10t.nn\n",
            " Saving the O network to file : O.10t-10t.nn\n",
            "\n",
            "                                                                       \n",
            "                          2021-03-26  01:14:53                         \n",
            "                                                                       \n",
            " ======================================================================\n",
            "                     Neural Network training done.                     \n",
            " ======================================================================\n",
            "energies.test.0   \u001b[0m\u001b[01;36mH2O.train\u001b[0m@        O.10t-10t.nn  train.restart\n",
            "energies.train.0  H2O.train.scaled  train.in      train.rngstate\n",
            "H.10t-10t.nn      nn.tar.gz         train.out\n"
          ],
          "name": "stdout"
        }
      ]
    },
    {
      "cell_type": "markdown",
      "metadata": {
        "id": "cC0CslJGnDhy"
      },
      "source": [
        "Once training has completed, the ANN potentials for oxygen and hydrogen are available in `O.10t-10t.nn` and `H.10t-10t.nn`.  **Note that ANN potential files are binary and cannot be open in a text editor.**"
      ]
    },
    {
      "cell_type": "code",
      "metadata": {
        "id": "lQOSgmlIkX2k",
        "colab": {
          "base_uri": "https://localhost:8080/"
        },
        "outputId": "7c3013fd-a9e1-4ad5-f023-aa6dbcba7487"
      },
      "source": [
        "%cd /content/"
      ],
      "execution_count": null,
      "outputs": [
        {
          "output_type": "stream",
          "name": "stdout",
          "text": [
            "/content\n"
          ]
        }
      ]
    },
    {
      "cell_type": "markdown",
      "metadata": {
        "id": "mObA2fNMqakz"
      },
      "source": [
        "# Analyzing the training results\n",
        "\n",
        "Was the training successful?  One measure is the performance of the trained potential on the validation set, which is reported for each training epoch on lines that like the following:\n",
        "\n",
        "    N  MAE_train  RMSE_train  MAE_val  RMSE_val  <\n",
        "\n",
        "`N` is the training iteration (or *epoch*), `MAE_train` and `RMSE_train` are the *mean absolute error* and *root mean squared error* on the training set, and `MAE_val` and `RMSE_val` are the same for the validation set.\n",
        "\n",
        "**Note:** As explained in the companion manuscript, the performance on the validation set is not necessarily a good estimate for the true accuracy of the ANN potential.  A more robust accuracy estimate should be obtained from testing on an independently generated test set.\n",
        "\n",
        "Plotting the RMSE of both training and validation set together can be helpful to detect overfitting.  \n",
        "\n",
        "**Note:** As explained above, the energy unit in the water reference data set is Hartree, even though aenet reports electronvolts."
      ]
    },
    {
      "cell_type": "code",
      "metadata": {
        "id": "Z73qdEnsqvPn",
        "colab": {
          "base_uri": "https://localhost:8080/",
          "height": 207
        },
        "outputId": "4858b1de-8737-4874-ddc2-1bd1653bf4ce"
      },
      "source": [
        "errors = []\n",
        "with open(\"/content/MLP-beginners-guide/tutorial/02_train/train.out\") as fp:\n",
        "  for line in fp:\n",
        "    if re.match(\"^ *[0-9].*<$\", line):\n",
        "      errors.append([float(a) for a in line.split()[1:-1]])\n",
        "errors = np.array(errors)\n",
        "errors = pd.DataFrame(\n",
        "    data=errors,\n",
        "    columns=['MAE_train', 'RMSE_train', 'MAE_test', 'RMSE_test'])\n",
        "ax = errors[['RMSE_train', 'RMSE_test']].plot(logy=True)\n",
        "ax.set_xlabel(\"Epoch\"); ax.set_ylabel(\"RMSE (Ha/atom)\")\n",
        "plt.show()"
      ],
      "execution_count": null,
      "outputs": [
        {
          "output_type": "error",
          "ename": "FileNotFoundError",
          "evalue": "[Errno 2] No such file or directory: '/content/MLP-beginners-guide/tutorial/02_train/train.out'",
          "traceback": [
            "\u001b[0;31m---------------------------------------------------------------------------\u001b[0m",
            "\u001b[0;31mFileNotFoundError\u001b[0m                         Traceback (most recent call last)",
            "\u001b[0;32m<ipython-input-7-f89b8791eb39>\u001b[0m in \u001b[0;36m<cell line: 2>\u001b[0;34m()\u001b[0m\n\u001b[1;32m      1\u001b[0m \u001b[0merrors\u001b[0m \u001b[0;34m=\u001b[0m \u001b[0;34m[\u001b[0m\u001b[0;34m]\u001b[0m\u001b[0;34m\u001b[0m\u001b[0;34m\u001b[0m\u001b[0m\n\u001b[0;32m----> 2\u001b[0;31m \u001b[0;32mwith\u001b[0m \u001b[0mopen\u001b[0m\u001b[0;34m(\u001b[0m\u001b[0;34m\"/content/MLP-beginners-guide/tutorial/02_train/train.out\"\u001b[0m\u001b[0;34m)\u001b[0m \u001b[0;32mas\u001b[0m \u001b[0mfp\u001b[0m\u001b[0;34m:\u001b[0m\u001b[0;34m\u001b[0m\u001b[0;34m\u001b[0m\u001b[0m\n\u001b[0m\u001b[1;32m      3\u001b[0m   \u001b[0;32mfor\u001b[0m \u001b[0mline\u001b[0m \u001b[0;32min\u001b[0m \u001b[0mfp\u001b[0m\u001b[0;34m:\u001b[0m\u001b[0;34m\u001b[0m\u001b[0;34m\u001b[0m\u001b[0m\n\u001b[1;32m      4\u001b[0m     \u001b[0;32mif\u001b[0m \u001b[0mre\u001b[0m\u001b[0;34m.\u001b[0m\u001b[0mmatch\u001b[0m\u001b[0;34m(\u001b[0m\u001b[0;34m\"^ *[0-9].*<$\"\u001b[0m\u001b[0;34m,\u001b[0m \u001b[0mline\u001b[0m\u001b[0;34m)\u001b[0m\u001b[0;34m:\u001b[0m\u001b[0;34m\u001b[0m\u001b[0;34m\u001b[0m\u001b[0m\n\u001b[1;32m      5\u001b[0m       \u001b[0merrors\u001b[0m\u001b[0;34m.\u001b[0m\u001b[0mappend\u001b[0m\u001b[0;34m(\u001b[0m\u001b[0;34m[\u001b[0m\u001b[0mfloat\u001b[0m\u001b[0;34m(\u001b[0m\u001b[0ma\u001b[0m\u001b[0;34m)\u001b[0m \u001b[0;32mfor\u001b[0m \u001b[0ma\u001b[0m \u001b[0;32min\u001b[0m \u001b[0mline\u001b[0m\u001b[0;34m.\u001b[0m\u001b[0msplit\u001b[0m\u001b[0;34m(\u001b[0m\u001b[0;34m)\u001b[0m\u001b[0;34m[\u001b[0m\u001b[0;36m1\u001b[0m\u001b[0;34m:\u001b[0m\u001b[0;34m-\u001b[0m\u001b[0;36m1\u001b[0m\u001b[0;34m]\u001b[0m\u001b[0;34m]\u001b[0m\u001b[0;34m)\u001b[0m\u001b[0;34m\u001b[0m\u001b[0;34m\u001b[0m\u001b[0m\n",
            "\u001b[0;31mFileNotFoundError\u001b[0m: [Errno 2] No such file or directory: '/content/MLP-beginners-guide/tutorial/02_train/train.out'"
          ]
        }
      ]
    },
    {
      "cell_type": "markdown",
      "metadata": {
        "id": "z2Y-5paEr2gm"
      },
      "source": [
        "As seen in the figure, the training-set RMSE (`RMSE_train`) continues to decrease until the final training iteration.  The validation set RMSE (`RMSE_test`) also decreases but exhibits more noise."
      ]
    },
    {
      "cell_type": "markdown",
      "metadata": {
        "id": "CTEK5p8UgzZG"
      },
      "source": [
        "## Comparison of training and validation errors\n",
        "\n",
        "`train.x` can export the errors for all training samples in the training and validation sets.  Here, we visualize the results for one example (set003)."
      ]
    },
    {
      "cell_type": "code",
      "metadata": {
        "id": "0cssQj_qhIjq",
        "colab": {
          "base_uri": "https://localhost:8080/",
          "height": 207
        },
        "outputId": "7323c0ce-a419-452b-df72-a71cd4e0c94c"
      },
      "source": [
        "test = \"/content/MLP-beginners-guide/tutorial/02_train/energies.test.0\"\n",
        "test_errors = np.loadtxt(test, skiprows=1, usecols=(3,4))\n",
        "limits = np.linspace(-25.485, -25.481)\n",
        "plt.plot(limits, limits, color=\"black\")\n",
        "plt.ticklabel_format(useOffset=False)\n",
        "plt.scatter(test_errors[:,0], test_errors[:,1], color=\"red\", s=20, label=\"validation\")\n",
        "plt.xlabel('DFT (Ha/atom)')\n",
        "plt.ylabel('ANN (Ha/atom)')\n",
        "plt.show()"
      ],
      "execution_count": null,
      "outputs": [
        {
          "output_type": "error",
          "ename": "NameError",
          "evalue": "name 'np' is not defined",
          "traceback": [
            "\u001b[0;31m---------------------------------------------------------------------------\u001b[0m",
            "\u001b[0;31mNameError\u001b[0m                                 Traceback (most recent call last)",
            "\u001b[0;32m<ipython-input-5-034198a2e3db>\u001b[0m in \u001b[0;36m<cell line: 2>\u001b[0;34m()\u001b[0m\n\u001b[1;32m      1\u001b[0m \u001b[0mtest\u001b[0m \u001b[0;34m=\u001b[0m \u001b[0;34m\"/content/MLP-beginners-guide/tutorial/02_train/energies.test.0\"\u001b[0m\u001b[0;34m\u001b[0m\u001b[0;34m\u001b[0m\u001b[0m\n\u001b[0;32m----> 2\u001b[0;31m \u001b[0mtest_errors\u001b[0m \u001b[0;34m=\u001b[0m \u001b[0mnp\u001b[0m\u001b[0;34m.\u001b[0m\u001b[0mloadtxt\u001b[0m\u001b[0;34m(\u001b[0m\u001b[0mtest\u001b[0m\u001b[0;34m,\u001b[0m \u001b[0mskiprows\u001b[0m\u001b[0;34m=\u001b[0m\u001b[0;36m1\u001b[0m\u001b[0;34m,\u001b[0m \u001b[0musecols\u001b[0m\u001b[0;34m=\u001b[0m\u001b[0;34m(\u001b[0m\u001b[0;36m3\u001b[0m\u001b[0;34m,\u001b[0m\u001b[0;36m4\u001b[0m\u001b[0;34m)\u001b[0m\u001b[0;34m)\u001b[0m\u001b[0;34m\u001b[0m\u001b[0;34m\u001b[0m\u001b[0m\n\u001b[0m\u001b[1;32m      3\u001b[0m \u001b[0mlimits\u001b[0m \u001b[0;34m=\u001b[0m \u001b[0mnp\u001b[0m\u001b[0;34m.\u001b[0m\u001b[0mlinspace\u001b[0m\u001b[0;34m(\u001b[0m\u001b[0;34m-\u001b[0m\u001b[0;36m25.485\u001b[0m\u001b[0;34m,\u001b[0m \u001b[0;34m-\u001b[0m\u001b[0;36m25.481\u001b[0m\u001b[0;34m)\u001b[0m\u001b[0;34m\u001b[0m\u001b[0;34m\u001b[0m\u001b[0m\n\u001b[1;32m      4\u001b[0m \u001b[0mplt\u001b[0m\u001b[0;34m.\u001b[0m\u001b[0mplot\u001b[0m\u001b[0;34m(\u001b[0m\u001b[0mlimits\u001b[0m\u001b[0;34m,\u001b[0m \u001b[0mlimits\u001b[0m\u001b[0;34m,\u001b[0m \u001b[0mcolor\u001b[0m\u001b[0;34m=\u001b[0m\u001b[0;34m\"black\"\u001b[0m\u001b[0;34m)\u001b[0m\u001b[0;34m\u001b[0m\u001b[0;34m\u001b[0m\u001b[0m\n\u001b[1;32m      5\u001b[0m \u001b[0mplt\u001b[0m\u001b[0;34m.\u001b[0m\u001b[0mticklabel_format\u001b[0m\u001b[0;34m(\u001b[0m\u001b[0museOffset\u001b[0m\u001b[0;34m=\u001b[0m\u001b[0;32mFalse\u001b[0m\u001b[0;34m)\u001b[0m\u001b[0;34m\u001b[0m\u001b[0;34m\u001b[0m\u001b[0m\n",
            "\u001b[0;31mNameError\u001b[0m: name 'np' is not defined"
          ]
        }
      ]
    },
    {
      "cell_type": "markdown",
      "metadata": {
        "id": "AjubLo8Xu0xw"
      },
      "source": [
        "# 04-anetLib-ann-md: The ænet-Python interface\n",
        "\n",
        "Trained ænet ANN potentials can be used with a number of standard simulations packages.  Here we will take a look at the ænet Python interface, which enables compatibility with the Atomic Simulation Environment (ase, see above)."
      ]
    },
    {
      "cell_type": "code",
      "metadata": {
        "id": "0EEmGfRBmlnA",
        "outputId": "cd3599aa-2601-4401-ef04-112189f84e31",
        "colab": {
          "base_uri": "https://localhost:8080/",
          "height": 378
        }
      },
      "source": [
        "import aenet\n",
        "from aenet.ase_calculator import ANNCalculator\n",
        "import ase\n",
        "import ase.spacegroup\n",
        "import ase.visualize"
      ],
      "execution_count": null,
      "outputs": [
        {
          "output_type": "error",
          "ename": "ModuleNotFoundError",
          "evalue": "No module named 'aenet'",
          "traceback": [
            "\u001b[0;31m---------------------------------------------------------------------------\u001b[0m",
            "\u001b[0;31mModuleNotFoundError\u001b[0m                       Traceback (most recent call last)",
            "\u001b[0;32m<ipython-input-4-d558e5b61313>\u001b[0m in \u001b[0;36m<cell line: 1>\u001b[0;34m()\u001b[0m\n\u001b[0;32m----> 1\u001b[0;31m \u001b[0;32mimport\u001b[0m \u001b[0maenet\u001b[0m\u001b[0;34m\u001b[0m\u001b[0;34m\u001b[0m\u001b[0m\n\u001b[0m\u001b[1;32m      2\u001b[0m \u001b[0;32mfrom\u001b[0m \u001b[0maenet\u001b[0m\u001b[0;34m.\u001b[0m\u001b[0mase_calculator\u001b[0m \u001b[0;32mimport\u001b[0m \u001b[0mANNCalculator\u001b[0m\u001b[0;34m\u001b[0m\u001b[0;34m\u001b[0m\u001b[0m\n\u001b[1;32m      3\u001b[0m \u001b[0;32mimport\u001b[0m \u001b[0mase\u001b[0m\u001b[0;34m\u001b[0m\u001b[0;34m\u001b[0m\u001b[0m\n\u001b[1;32m      4\u001b[0m \u001b[0;32mimport\u001b[0m \u001b[0mase\u001b[0m\u001b[0;34m.\u001b[0m\u001b[0mspacegroup\u001b[0m\u001b[0;34m\u001b[0m\u001b[0;34m\u001b[0m\u001b[0m\n\u001b[1;32m      5\u001b[0m \u001b[0;32mimport\u001b[0m \u001b[0mase\u001b[0m\u001b[0;34m.\u001b[0m\u001b[0mvisualize\u001b[0m\u001b[0;34m\u001b[0m\u001b[0;34m\u001b[0m\u001b[0m\n",
            "\u001b[0;31mModuleNotFoundError\u001b[0m: No module named 'aenet'",
            "",
            "\u001b[0;31m---------------------------------------------------------------------------\u001b[0;32m\nNOTE: If your import is failing due to a missing package, you can\nmanually install dependencies using either !pip or !apt.\n\nTo view examples of installing some common dependencies, click the\n\"Open Examples\" button below.\n\u001b[0;31m---------------------------------------------------------------------------\u001b[0m\n"
          ],
          "errorDetails": {
            "actions": [
              {
                "action": "open_url",
                "actionText": "Open Examples",
                "url": "/notebooks/snippets/importing_libraries.ipynb"
              }
            ]
          }
        }
      ]
    },
    {
      "cell_type": "markdown",
      "metadata": {
        "id": "71jUroBU6_Zg"
      },
      "source": [
        "We create a new directory and copy the trained potentials into it."
      ]
    },
    {
      "cell_type": "code",
      "metadata": {
        "id": "lZKlnkAWqDHN",
        "colab": {
          "base_uri": "https://localhost:8080/"
        },
        "outputId": "5a7f2d7c-99ed-45bf-8a03-9919dd0a660c"
      },
      "source": [
        "! mkdir -p /content/MLP-beginners-guide/tutorial/03_md\n",
        "%cd /content/MLP-beginners-guide/tutorial/03_md\n",
        "%ls"
      ],
      "execution_count": null,
      "outputs": [
        {
          "output_type": "stream",
          "text": [
            "/content/MLP-beginners-guide/tutorial/03_md\n"
          ],
          "name": "stdout"
        }
      ]
    },
    {
      "cell_type": "markdown",
      "metadata": {
        "id": "-MZPZGFi7i8R"
      },
      "source": [
        "Next, we create an ase structure object from one of the water cluster structures."
      ]
    },
    {
      "cell_type": "code",
      "metadata": {
        "id": "Y-NqFMVWqlYO",
        "colab": {
          "base_uri": "https://localhost:8080/",
          "height": 459
        },
        "outputId": "6b9aa0c4-b329-480a-f54b-a17be2267fc7"
      },
      "source": [
        "atoms = ase.io.read(\"/content/MLP-beginners-guide/tutorial/water-clusters-BLYP-D3/train_0500_xsf/train0500_1.xsf\")\n",
        "ase.io.write('6h2o.traj', atoms)\n",
        "ase.io.write('6h2o.png', atoms)\n",
        "Image(\"6h2o.png\")\n",
        "#ase.visualize.view(atoms, viewer='x3d')"
      ],
      "execution_count": null,
      "outputs": [
        {
          "output_type": "execute_result",
          "data": {
            "image/png": "[encoded data removed]",
            "text/plain": [
              "<IPython.core.display.Image object>"
            ]
          },
          "metadata": {
            "tags": []
          },
          "execution_count": 17
        }
      ]
    },
    {
      "cell_type": "markdown",
      "metadata": {
        "id": "sOVqjvtGuj10"
      },
      "source": [
        "The ænet Python package provides an ASE *Calculator* class that can load ænet ANN potentials.  In this case, we use an ANN potential that was trained with the same input file parameters as above but for more iterations."
      ]
    },
    {
      "cell_type": "code",
      "metadata": {
        "id": "mnzFeaXepeSh"
      },
      "source": [
        "pot = {\"H\": \"/content/MLP-beginners-guide/tutorial/02_train/H.10t-10t.nn\",\n",
        "       \"O\": \"/content/MLP-beginners-guide/tutorial/02_train/O.10t-10t.nn\"}\n",
        "calc = ANNCalculator(pot)"
      ],
      "execution_count": null,
      "outputs": []
    },
    {
      "cell_type": "markdown",
      "metadata": {
        "id": "f4eJfHwLzSnv"
      },
      "source": [
        "This calculator can then be used to predict energies (and atomic forces) for a given atomic structure."
      ]
    },
    {
      "cell_type": "code",
      "metadata": {
        "id": "ua-xbaNjqz4_",
        "colab": {
          "base_uri": "https://localhost:8080/"
        },
        "outputId": "8b46576b-baf4-4a3b-d659-242d54911ab8"
      },
      "source": [
        "atoms.set_calculator(calc)\n",
        "E = atoms.get_potential_energy()\n",
        "print(\"Total energy = {} Ha\".format(E))\n"
      ],
      "execution_count": null,
      "outputs": [
        {
          "output_type": "stream",
          "text": [
            "Total energy = -458.68794485712954 Ha\n"
          ],
          "name": "stdout"
        }
      ]
    },
    {
      "cell_type": "code",
      "metadata": {
        "id": "GD3yfcxA7Xyj",
        "colab": {
          "base_uri": "https://localhost:8080/"
        },
        "outputId": "fa605a67-3927-4de3-e49d-bb97d85c8fb8"
      },
      "source": [
        "%cd /content"
      ],
      "execution_count": null,
      "outputs": [
        {
          "output_type": "stream",
          "text": [
            "/content\n"
          ],
          "name": "stdout"
        }
      ]
    },
    {
      "cell_type": "markdown",
      "metadata": {
        "id": "SClCzPmo-9zL"
      },
      "source": [
        "# Python/ASE Example: Molecular Dynamics Simulation\n",
        "\n",
        "In this example, we use the `ANNCalculator` and ASE to perform a molecular dynamics (MD) simulation with constant energy (NVE ensemble).\n",
        "\n",
        "**Note:** This is an educational example.  MD simulations with ASE in a Google Colab notebook are *not* very efficient.  For production simulations, an actual workstation is recommended.  Furthermore, ænet also provides a C-compatible library (*ænetLib*) that can be interfaced with other MD software [1].\n",
        "\n",
        "[1] N. Artrith and A. Urban, [Comput. Mater. Sci. 114 (2016) 135-150](https://doi.org/10.1016/j.commatsci.2015.11.047)."
      ]
    },
    {
      "cell_type": "code",
      "metadata": {
        "id": "vG6yvi6ywLfk",
        "colab": {
          "base_uri": "https://localhost:8080/"
        },
        "outputId": "2eeb5693-a51d-4d3e-9235-a6bbba6c0acf"
      },
      "source": [
        "%cd /content/MLP-beginners-guide/tutorial/03_md"
      ],
      "execution_count": null,
      "outputs": [
        {
          "output_type": "stream",
          "text": [
            "/content/MLP-beginners-guide/tutorial/03_md\n"
          ],
          "name": "stdout"
        }
      ]
    },
    {
      "cell_type": "markdown",
      "metadata": {
        "id": "cwtOS2UTQi4N"
      },
      "source": [
        "The next cell runs the MD simulation.  Note that the instructions are purely based on ASE and are not specific to ænet.\n",
        "\n",
        "The MD simulation is performed in the microcanonical NVE ensemble, i.e., the cell volume and total energy are kept constant.  We use a time step of 0.25 femtoseconds for the integration of the integration of motion with the *velocity Verlet* algorithm.  Atomic momenta are initialized according to a Maxwell-Boltzmann distribution at a temperature of 300 K.\n",
        "\n",
        "**Note:** It can be required to execute the following cell twice."
      ]
    },
    {
      "cell_type": "code",
      "metadata": {
        "id": "FT8FLp8aDvIi",
        "colab": {
          "base_uri": "https://localhost:8080/"
        },
        "outputId": "760b07fb-fdad-4363-f7b3-174d2a01c539"
      },
      "source": [
        "from ase.md.velocitydistribution import MaxwellBoltzmannDistribution\n",
        "from ase.md.verlet import VelocityVerlet\n",
        "from ase.units import kB, fs\n",
        "import aenet\n",
        "\n",
        "pot = {\"H\": \"/content/MLP-beginners-guide/tutorial/02_train/H.10t-10t.nn\",\n",
        "       \"O\": \"/content/MLP-beginners-guide/tutorial/02_train/O.10t-10t.nn\"}\n",
        "\n",
        "calc = ANNCalculator(pot)\n",
        "\n",
        "dt = 0.25  # 0.25 fs time step\n",
        "T = 300.0  # 300 K temperature\n",
        "\n",
        "md_atoms = ase.io.read(\"6h2o.traj\")\n",
        "md_atoms.set_calculator(calc)\n",
        "MaxwellBoltzmannDistribution(md_atoms, T*kB)\n",
        "dyn = VelocityVerlet(md_atoms, dt*fs)\n",
        "\n",
        "md_step = 0\n",
        "\n",
        "def printenergy(atoms=md_atoms, i=[0.0, dt/1000]):\n",
        "  \"\"\" Print status at each MD step. \"\"\"\n",
        "  E_pot = atoms.get_potential_energy()/len(atoms)\n",
        "  E_kin = atoms.get_kinetic_energy()/len(atoms)\n",
        "  E_tot = E_pot + E_kin\n",
        "  T = E_kin/(1.5*kB)\n",
        "  print(\"{:6.3f}  {:6.1f}  {:15.3f}  {:15.3f}  {:15.3f}\".format(\n",
        "        i[0], T, E_pot, E_kin, E_tot))\n",
        "  i[0] += i[1]\n",
        "\n",
        "print(\"t (ps)   T (K)  E_pot (Ha/atom)  E_kin (Ha/atom)  E_tot (Ha/atom)\")\n",
        "dyn.attach(printenergy, interval=1)\n",
        "printenergy()\n",
        "dyn.run(100)"
      ],
      "execution_count": null,
      "outputs": [
        {
          "output_type": "stream",
          "text": [
            "/root/.local/lib/python3.7/site-packages/ase/md/md.py:48: FutureWarning: Specify the temperature in K using the 'temperature_K' argument\n",
            "  warnings.warn(FutureWarning(w))\n"
          ],
          "name": "stderr"
        },
        {
          "output_type": "stream",
          "text": [
            "t (ps)   T (K)  E_pot (Ha/atom)  E_kin (Ha/atom)  E_tot (Ha/atom)\n",
            " 0.000   285.4          -25.483            0.037          -25.446\n",
            " 0.000   285.4          -25.483            0.037          -25.446\n",
            " 0.001   285.4          -25.483            0.037          -25.446\n",
            " 0.001   285.3          -25.483            0.037          -25.446\n",
            " 0.001   285.2          -25.483            0.037          -25.446\n",
            " 0.001   285.1          -25.483            0.037          -25.446\n",
            " 0.002   284.9          -25.483            0.037          -25.446\n",
            " 0.002   284.7          -25.483            0.037          -25.446\n",
            " 0.002   284.5          -25.483            0.037          -25.446\n",
            " 0.002   284.2          -25.483            0.037          -25.446\n",
            " 0.003   283.9          -25.482            0.037          -25.446\n",
            " 0.003   283.5          -25.482            0.037          -25.446\n",
            " 0.003   283.2          -25.482            0.037          -25.446\n",
            " 0.003   282.8          -25.482            0.037          -25.446\n",
            " 0.004   282.4          -25.482            0.037          -25.446\n",
            " 0.004   282.0          -25.482            0.036          -25.446\n",
            " 0.004   281.6          -25.482            0.036          -25.446\n",
            " 0.004   281.1          -25.482            0.036          -25.446\n",
            " 0.005   280.7          -25.482            0.036          -25.446\n",
            " 0.005   280.3          -25.482            0.036          -25.446\n",
            " 0.005   279.8          -25.482            0.036          -25.446\n",
            " 0.005   279.3          -25.482            0.036          -25.446\n",
            " 0.006   278.7          -25.482            0.036          -25.446\n",
            " 0.006   278.2          -25.482            0.036          -25.446\n",
            " 0.006   277.6          -25.482            0.036          -25.446\n",
            " 0.006   277.1          -25.482            0.036          -25.446\n",
            " 0.007   276.5          -25.482            0.036          -25.446\n",
            " 0.007   276.0          -25.481            0.036          -25.446\n",
            " 0.007   275.4          -25.481            0.036          -25.446\n",
            " 0.007   274.9          -25.481            0.036          -25.446\n",
            " 0.008   274.4          -25.481            0.035          -25.446\n",
            " 0.008   273.9          -25.481            0.035          -25.446\n",
            " 0.008   273.4          -25.481            0.035          -25.446\n",
            " 0.008   272.9          -25.481            0.035          -25.446\n",
            " 0.009   272.4          -25.481            0.035          -25.446\n",
            " 0.009   272.0          -25.481            0.035          -25.446\n",
            " 0.009   271.5          -25.481            0.035          -25.446\n",
            " 0.009   271.0          -25.481            0.035          -25.446\n",
            " 0.010   270.5          -25.481            0.035          -25.446\n",
            " 0.010   270.0          -25.481            0.035          -25.446\n",
            " 0.010   269.4          -25.481            0.035          -25.446\n",
            " 0.010   268.9          -25.481            0.035          -25.446\n",
            " 0.011   268.4          -25.480            0.035          -25.446\n",
            " 0.011   267.9          -25.480            0.035          -25.446\n",
            " 0.011   267.3          -25.480            0.035          -25.446\n",
            " 0.011   266.8          -25.480            0.034          -25.446\n",
            " 0.012   266.3          -25.480            0.034          -25.446\n",
            " 0.012   265.8          -25.480            0.034          -25.446\n",
            " 0.012   265.3          -25.480            0.034          -25.446\n",
            " 0.012   264.8          -25.480            0.034          -25.446\n",
            " 0.013   264.4          -25.480            0.034          -25.446\n",
            " 0.013   264.0          -25.480            0.034          -25.446\n",
            " 0.013   263.5          -25.480            0.034          -25.446\n",
            " 0.013   263.1          -25.480            0.034          -25.446\n",
            " 0.014   262.7          -25.480            0.034          -25.446\n",
            " 0.014   262.4          -25.480            0.034          -25.446\n",
            " 0.014   262.0          -25.480            0.034          -25.446\n",
            " 0.014   261.6          -25.480            0.034          -25.446\n",
            " 0.015   261.3          -25.480            0.034          -25.446\n",
            " 0.015   260.9          -25.479            0.034          -25.446\n",
            " 0.015   260.6          -25.479            0.034          -25.446\n",
            " 0.015   260.3          -25.479            0.034          -25.446\n",
            " 0.016   260.0          -25.479            0.034          -25.446\n",
            " 0.016   259.7          -25.479            0.034          -25.446\n",
            " 0.016   259.4          -25.479            0.034          -25.446\n",
            " 0.016   259.1          -25.479            0.033          -25.446\n",
            " 0.017   258.7          -25.479            0.033          -25.446\n",
            " 0.017   258.4          -25.479            0.033          -25.446\n",
            " 0.017   258.1          -25.479            0.033          -25.446\n",
            " 0.017   257.8          -25.479            0.033          -25.446\n",
            " 0.018   257.5          -25.479            0.033          -25.446\n",
            " 0.018   257.2          -25.479            0.033          -25.446\n",
            " 0.018   256.9          -25.479            0.033          -25.446\n",
            " 0.018   256.6          -25.479            0.033          -25.446\n",
            " 0.019   256.3          -25.479            0.033          -25.446\n",
            " 0.019   255.9          -25.479            0.033          -25.446\n",
            " 0.019   255.6          -25.479            0.033          -25.446\n",
            " 0.019   255.3          -25.479            0.033          -25.446\n",
            " 0.020   255.0          -25.479            0.033          -25.446\n",
            " 0.020   254.7          -25.479            0.033          -25.446\n",
            " 0.020   254.3          -25.479            0.033          -25.446\n",
            " 0.020   254.0          -25.479            0.033          -25.446\n",
            " 0.021   253.7          -25.479            0.033          -25.446\n",
            " 0.021   253.4          -25.479            0.033          -25.446\n",
            " 0.021   253.1          -25.478            0.033          -25.446\n",
            " 0.021   252.8          -25.478            0.033          -25.446\n",
            " 0.022   252.6          -25.478            0.033          -25.446\n",
            " 0.022   252.3          -25.478            0.033          -25.446\n",
            " 0.022   252.0          -25.478            0.033          -25.446\n",
            " 0.022   251.8          -25.478            0.033          -25.446\n",
            " 0.023   251.6          -25.478            0.033          -25.446\n",
            " 0.023   251.4          -25.478            0.032          -25.446\n",
            " 0.023   251.2          -25.478            0.032          -25.446\n",
            " 0.023   251.0          -25.478            0.032          -25.446\n",
            " 0.024   250.8          -25.478            0.032          -25.446\n",
            " 0.024   250.7          -25.478            0.032          -25.446\n",
            " 0.024   250.5          -25.478            0.032          -25.446\n",
            " 0.024   250.3          -25.478            0.032          -25.446\n",
            " 0.025   250.2          -25.478            0.032          -25.446\n",
            " 0.025   250.1          -25.478            0.032          -25.446\n",
            " 0.025   249.9          -25.478            0.032          -25.446\n",
            " 0.025   249.8          -25.478            0.032          -25.446\n"
          ],
          "name": "stdout"
        },
        {
          "output_type": "execute_result",
          "data": {
            "text/plain": [
              "True"
            ]
          },
          "metadata": {
            "tags": []
          },
          "execution_count": 23
        }
      ]
    },
    {
      "cell_type": "markdown",
      "metadata": {
        "id": "UnJWG5tVJHTX"
      },
      "source": [
        "We can now take a look at the final structure.  "
      ]
    },
    {
      "cell_type": "code",
      "metadata": {
        "id": "zY-isuM7_gKI",
        "colab": {
          "base_uri": "https://localhost:8080/",
          "height": 463
        },
        "outputId": "8fb94044-e540-472e-a329-ee58bb6c0da6"
      },
      "source": [
        "ase.io.write('6h2o-md.png', md_atoms)\n",
        "Image(\"6h2o-md.png\")\n",
        "#ase.visualize.view(md_atoms, viewer='x3d')"
      ],
      "execution_count": null,
      "outputs": [
        {
          "output_type": "execute_result",
          "data": {
            "image/png": "[encoded data removed]",
            "text/plain": [
              "<IPython.core.display.Image object>"
            ]
          },
          "metadata": {
            "tags": []
          },
          "execution_count": 27
        }
      ]
    },
    {
      "cell_type": "code",
      "metadata": {
        "id": "jKflzprbwTlC",
        "colab": {
          "base_uri": "https://localhost:8080/"
        },
        "outputId": "a01d65a8-bc23-4d40-fabe-7e066b4e4bd8"
      },
      "source": [
        "%cd /content/"
      ],
      "execution_count": null,
      "outputs": [
        {
          "output_type": "stream",
          "text": [
            "/content\n"
          ],
          "name": "stdout"
        }
      ]
    },
    {
      "cell_type": "markdown",
      "metadata": {
        "id": "PbSMVgC3A31j"
      },
      "source": [
        "# Caution\n",
        "\n",
        "This tutorial is purely an educational example, and the constructed ANN potential cannot be expected to be robust.  Longer training (more iterations) and extensive testing would be required."
      ]
    }
  ]
}