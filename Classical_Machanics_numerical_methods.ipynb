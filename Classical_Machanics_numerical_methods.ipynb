{
  "nbformat": 4,
  "nbformat_minor": 0,
  "metadata": {
    "colab": {
      "provenance": [],
      "authorship_tag": "ABX9TyNaWra7IxuVk64cxRgSk5yp",
      "include_colab_link": true
    },
    "kernelspec": {
      "name": "python3",
      "display_name": "Python 3"
    },
    "language_info": {
      "name": "python"
    }
  },
  "cells": [
    {
      "cell_type": "markdown",
      "metadata": {
        "id": "view-in-github",
        "colab_type": "text"
      },
      "source": [
        "<a href=\"https://colab.research.google.com/github/chiyanglin-AStar/science_coding/blob/main/Classical_Machanics_numerical_methods.ipynb\" target=\"_parent\"><img src=\"https://colab.research.google.com/assets/colab-badge.svg\" alt=\"Open In Colab\"/></a>"
      ]
    },
    {
      "cell_type": "markdown",
      "source": [
        "## Numerical Methods of Classical Mechanics"
      ],
      "metadata": {
        "id": "Ev54WHVJWYbO"
      }
    },
    {
      "cell_type": "markdown",
      "source": [
        "Classical Mechanics simulation methods are essential for accurately predicting the motion of particles, objects, and systems under classical (non-quantum) conditions. Here’s a brief overview of some common methods used for simulating classical mechanics problems:\n"
      ],
      "metadata": {
        "id": "RSCIzuGnW8hc"
      }
    },
    {
      "cell_type": "markdown",
      "source": [
        "### 1. **Euler Method**\n",
        "   - **Description**: One of the simplest numerical integration methods. The Euler method uses current position and velocity to predict the next position by applying $\\mathbf{r}(t + \\Delta t) = \\mathbf{r}(t) + \\mathbf{v}(t) \\Delta t$.\n",
        "   - **Advantages**: Simple to implement.\n",
        "   - **Disadvantages**: Low accuracy; accumulates error over time, leading to drift in energy."
      ],
      "metadata": {
        "id": "-khkw-5lXDoj"
      }
    },
    {
      "cell_type": "markdown",
      "source": [
        "### 2. **Verlet Integration**\n",
        "   - **Description**: An improved integration method that uses both current and previous positions for better accuracy. Standard Verlet is position-based, while Velocity Verlet also computes velocity, making it more versatile.\n",
        "   - **Formula**: For standard Verlet, $\\mathbf{r}(t + \\Delta t) = 2 \\mathbf{r}(t) - \\mathbf{r}(t - \\Delta t) + \\mathbf{a}(t) \\Delta t^2$.\n",
        "   - **Advantages**: Good accuracy and energy conservation.\n",
        "   - **Applications**: Often used in molecular dynamics and systems where long-term stability is needed."
      ],
      "metadata": {
        "id": "6XF_ZoCiXGaD"
      }
    },
    {
      "cell_type": "markdown",
      "source": [
        "### 3. **Leapfrog Integration**\n",
        "   - **Description**: A variant of the Verlet method where velocity and position updates are staggered, \"leapfrogging\" over each other.\n",
        "   - **Formula**: $\\mathbf{v}(t + \\frac{\\Delta t}{2}) = \\mathbf{v}(t - \\frac{\\Delta t}{2}) + \\mathbf{a}(t) \\Delta t$, then $\\mathbf{r}(t + \\Delta t) = \\mathbf{r}(t) + \\mathbf{v}(t + \\frac{\\Delta t}{2}) \\Delta t$.\n",
        "   - **Advantages**: More stable than Euler, preserves energy well.\n",
        "   - **Applications**: Popular in simulations with gravitational forces, such as astrophysics."
      ],
      "metadata": {
        "id": "8_4ZUWxkXMpx"
      }
    },
    {
      "cell_type": "markdown",
      "source": [
        "### 4. **Runge-Kutta Methods**\n",
        "   - **Description**: Higher-order methods that provide a more accurate solution by evaluating slopes at several points within a time step. The 4th-order Runge-Kutta (RK4) is most common.\n",
        "   - **Formula**: RK4 uses four different slope evaluations to compute a weighted average, leading to higher accuracy.\n",
        "   - **Advantages**: Highly accurate, especially for small time steps.\n",
        "   - **Applications**: Used for systems where high accuracy is needed, such as control systems or sensitive physical systems."
      ],
      "metadata": {
        "id": "lQk-R-a6XVTT"
      }
    },
    {
      "cell_type": "markdown",
      "source": [
        "### 5. **Symplectic Integrators**\n",
        "   - **Description**: Methods specifically designed to preserve the geometric properties of Hamiltonian systems (energy and momentum conservation).\n",
        "   - **Examples**: Symplectic Euler, Symplectic Verlet.\n",
        "   - **Advantages**: Good for long-term stability and energy conservation.\n",
        "   - **Applications**: Ideal for celestial mechanics and molecular dynamics."
      ],
      "metadata": {
        "id": "s7N9-McyXc9c"
      }
    },
    {
      "cell_type": "markdown",
      "source": [
        "### 6. **Barnes-Hut Algorithm (for N-body problems)**\n",
        "   - **Description**: Reduces the complexity of calculating pairwise forces in large particle systems by approximating distant particle groups with a single point mass.\n",
        "   - **Advantages**: Efficiently handles large numbers of particles by reducing time complexity from $O(N^2)$ to $O(N \\log N)$.\n",
        "   - **Applications**: Used in astrophysics for simulating star clusters and galaxies.\n",
        "\n",
        "Each of these methods has specific strengths and weaknesses, and the choice depends on the problem's accuracy requirements, time scale, and computational resources."
      ],
      "metadata": {
        "id": "lFt8dj0YXmxq"
      }
    },
    {
      "cell_type": "code",
      "execution_count": null,
      "metadata": {
        "id": "nhRAuMhPV_fV"
      },
      "outputs": [],
      "source": []
    },
    {
      "cell_type": "markdown",
      "source": [
        "## Reference\n",
        "Certainly! Here are some excellent references that cover these classical mechanics simulation methods in detail:"
      ],
      "metadata": {
        "id": "nia1RoXCX27p"
      }
    },
    {
      "cell_type": "markdown",
      "source": [
        "### 1. **General Numerical Integration Methods**\n",
        "\n",
        "   - **Book**: *Numerical Recipes: The Art of Scientific Computing* by William H. Press, Saul A. Teukolsky, William T. Vetterling, and Brian P. Flannery.  \n",
        "     - This classic text provides an in-depth explanation of numerical methods including Euler, Verlet, and Runge-Kutta. It’s a valuable resource for understanding the implementation of various integration techniques.\n",
        "   - **Book**: *An Introduction to Computer Simulation Methods: Applications to Physical Systems* by Harvey Gould, Jan Tobochnik, and Wolfgang Christian.\n",
        "     - This book covers basic and advanced methods in computational physics, including many of the integrators commonly used in mechanics.\n",
        "\n",
        "### 2. **Verlet and Leapfrog Integration**\n",
        "\n",
        "   - **Book**: *Molecular Dynamics Simulation: Elementary Methods* by J.M. Haile.  \n",
        "     - This book is a solid introduction to molecular dynamics and covers Verlet and leapfrog integration methods, emphasizing their use in simulating atomic and molecular systems.\n",
        "   - **Article**: \"Molecular Dynamics Simulations: Elementary Methods\" by Donald J. Kouri and David K. Hoffman, *Journal of Physical Chemistry*.\n",
        "     - This article discusses various integration methods, including Verlet and leapfrog, with a focus on maintaining energy conservation in simulations.\n",
        "\n",
        "### 3. **Runge-Kutta Methods**\n",
        "\n",
        "   - **Book**: *Computational Physics* by Nicholas J. Giordano and Hisao Nakanishi.\n",
        "     - This book provides a straightforward approach to Runge-Kutta methods, with applications to classical mechanics, fluid dynamics, and other fields.\n",
        "   - **Article**: \"Runge-Kutta Methods for the Numerical Solution of Ordinary Differential Equations\" by John Butcher, *Mathematics of Computation*.\n",
        "     - This paper is a foundational reference on Runge-Kutta methods and discusses their application and accuracy in detail.\n",
        "\n",
        "### 4. **Symplectic Integrators**\n",
        "\n",
        "   - **Book**: *Geometric Numerical Integration: Structure-Preserving Algorithms for Ordinary Differential Equations* by Ernst Hairer, Christian Lubich, and Gerhard Wanner.\n",
        "     - This advanced text provides an in-depth exploration of symplectic integrators, particularly for Hamiltonian systems, and is ideal for long-term simulations where energy preservation is crucial.\n",
        "   - **Article**: \"Symplectic Integrators for Hamiltonian Systems\" by Ruth D. Skeel and Jack A. Izaguirre, *Journal of Statistical Physics*.\n",
        "     - A good article that discusses the theoretical background of symplectic methods and their application in physics simulations.\n",
        "\n",
        "### 5. **Barnes-Hut Algorithm**\n",
        "\n",
        "   - **Original Paper**: \"A Hierarchical O(N log N) Force-Calculation Algorithm\" by J. Barnes and P. Hut, *Nature*, 1986.\n",
        "     - This is the seminal paper introducing the Barnes-Hut algorithm, which is particularly useful for efficiently simulating large N-body problems.\n",
        "   - **Book**: *Computational Astrophysics: An Introduction* by Joachim Stadel and Erik Bertschinger.\n",
        "     - This book provides practical details on implementing the Barnes-Hut algorithm and other methods for large-scale astrophysical simulations.\n",
        "\n",
        "### 6. **Introductory Mechanics Simulation Books**\n",
        "\n",
        "   - **Book**: *Computational Mechanics: An Introduction* by John Tinsley Oden.\n",
        "     - This book is a great introduction for engineers and physicists looking to understand computational mechanics, covering both the theoretical and practical aspects of simulations.\n",
        "\n",
        "These resources provide a good mix of theoretical foundations and practical implementation advice, suitable for both beginners and advanced learners in the field of classical mechanics simulations."
      ],
      "metadata": {
        "id": "poKgxU7dYDEb"
      }
    },
    {
      "cell_type": "markdown",
      "source": [
        "\n",
        "Certainly! Here’s a brief code example for each classical mechanics simulation method in Python.\n",
        "\n",
        "### 1. **Euler Method**\n",
        "The Euler method updates position and velocity based on current acceleration."
      ],
      "metadata": {
        "id": "TwjA9r7kYebO"
      }
    },
    {
      "cell_type": "code",
      "source": [
        "import numpy as np\n",
        "import matplotlib.pyplot as plt\n",
        "\n",
        "# Parameters\n",
        "dt = 0.01  # Time step\n",
        "t = np.arange(0, 10, dt)  # Time array\n",
        "g = 9.81  # Gravitational acceleration\n",
        "y = np.zeros_like(t)  # Position array\n",
        "v = np.zeros_like(t)  # Velocity array\n",
        "y[0] = 10  # Initial height\n",
        "\n",
        "# Euler integration loop\n",
        "for i in range(1, len(t)):\n",
        "    v[i] = v[i-1] - g * dt  # Update velocity\n",
        "    y[i] = y[i-1] + v[i-1] * dt  # Update position\n",
        "\n",
        "plt.plot(t, y, label=\"Euler Method\")\n",
        "plt.xlabel(\"Time (s)\")\n",
        "plt.ylabel(\"Height (m)\")\n",
        "plt.legend()\n",
        "plt.show()"
      ],
      "metadata": {
        "colab": {
          "base_uri": "https://localhost:8080/",
          "height": 449
        },
        "id": "BGgjeFShYgp7",
        "outputId": "754ebeba-42cc-4fe4-e3bb-46e53b55ecb5"
      },
      "execution_count": 1,
      "outputs": [
        {
          "output_type": "display_data",
          "data": {
            "text/plain": [
              "<Figure size 640x480 with 1 Axes>"
            ],
            "image/png": "[encoded data removed]"
          },
          "metadata": {}
        }
      ]
    },
    {
      "cell_type": "markdown",
      "source": [
        "### 2. **Verlet Integration**\n",
        "Verlet is often used for position-based updates, maintaining better energy conservation."
      ],
      "metadata": {
        "id": "wCr03XZUYqnC"
      }
    },
    {
      "cell_type": "code",
      "source": [
        "# Parameters\n",
        "y = np.zeros_like(t)  # Position array\n",
        "y[0] = 10  # Initial height\n",
        "y[1] = y[0] - 0.5 * g * dt**2  # Initial velocity assumed 0\n",
        "\n",
        "# Verlet integration loop\n",
        "for i in range(2, len(t)):\n",
        "    y[i] = 2 * y[i-1] - y[i-2] - g * dt**2  # Update position\n",
        "\n",
        "plt.plot(t, y, label=\"Verlet Integration\")\n",
        "plt.xlabel(\"Time (s)\")\n",
        "plt.ylabel(\"Height (m)\")\n",
        "plt.legend()\n",
        "plt.show()"
      ],
      "metadata": {
        "colab": {
          "base_uri": "https://localhost:8080/",
          "height": 449
        },
        "id": "PCv99_dHY14H",
        "outputId": "420a8cfd-5842-4178-ad4f-d2aa65b69b31"
      },
      "execution_count": 2,
      "outputs": [
        {
          "output_type": "display_data",
          "data": {
            "text/plain": [
              "<Figure size 640x480 with 1 Axes>"
            ],
            "image/png": "[encoded data removed]"
          },
          "metadata": {}
        }
      ]
    },
    {
      "cell_type": "markdown",
      "source": [
        "### 3. **Leapfrog Integration**\n",
        "Leapfrog staggers position and velocity updates for stability."
      ],
      "metadata": {
        "id": "OtdGrZpsY_yK"
      }
    },
    {
      "cell_type": "code",
      "source": [
        "y = np.zeros_like(t)\n",
        "v = np.zeros_like(t)\n",
        "y[0] = 10\n",
        "v_half = 0  # Half-step velocity\n",
        "\n",
        "# Leapfrog integration loop\n",
        "for i in range(1, len(t)):\n",
        "    v_half = v_half - g * dt  # Update velocity at half-step\n",
        "    y[i] = y[i-1] + v_half * dt  # Update position\n",
        "    v[i] = v_half - 0.5 * g * dt  # Update velocity to full step\n",
        "\n",
        "plt.plot(t, y, label=\"Leapfrog Integration\")\n",
        "plt.xlabel(\"Time (s)\")\n",
        "plt.ylabel(\"Height (m)\")\n",
        "plt.legend()\n",
        "plt.show()"
      ],
      "metadata": {
        "id": "_-rduoTqZIUK"
      },
      "execution_count": null,
      "outputs": []
    },
    {
      "cell_type": "markdown",
      "source": [
        "### 4. **Runge-Kutta Method (4th Order, RK4)**\n",
        "RK4 achieves higher accuracy by averaging multiple estimated slopes."
      ],
      "metadata": {
        "id": "w0t1Qy1AZM6G"
      }
    },
    {
      "cell_type": "code",
      "source": [
        "def acceleration(y, v):\n",
        "    return -g  # Constant gravitational acceleration\n",
        "\n",
        "y = np.zeros_like(t)\n",
        "v = np.zeros_like(t)\n",
        "y[0] = 10\n",
        "\n",
        "# RK4 integration loop\n",
        "for i in range(1, len(t)):\n",
        "    k1_y = v[i-1]\n",
        "    k1_v = acceleration(y[i-1], v[i-1])\n",
        "\n",
        "    k2_y = v[i-1] + 0.5 * k1_v * dt\n",
        "    k2_v = acceleration(y[i-1] + 0.5 * k1_y * dt, v[i-1] + 0.5 * k1_v * dt)\n",
        "\n",
        "    k3_y = v[i-1] + 0.5 * k2_v * dt\n",
        "    k3_v = acceleration(y[i-1] + 0.5 * k2_y * dt, v[i-1] + 0.5 * k2_v * dt)\n",
        "\n",
        "    k4_y = v[i-1] + k3_v * dt\n",
        "    k4_v = acceleration(y[i-1] + k3_y * dt, v[i-1] + k3_v * dt)\n",
        "\n",
        "    y[i] = y[i-1] + (dt / 6) * (k1_y + 2 * k2_y + 2 * k3_y + k4_y)\n",
        "    v[i] = v[i-1] + (dt / 6) * (k1_v + 2 * k2_v + 2 * k3_v + k4_v)\n",
        "\n",
        "plt.plot(t, y, label=\"RK4 Integration\")\n",
        "plt.xlabel(\"Time (s)\")\n",
        "plt.ylabel(\"Height (m)\")\n",
        "plt.legend()\n",
        "plt.show()"
      ],
      "metadata": {
        "colab": {
          "base_uri": "https://localhost:8080/",
          "height": 449
        },
        "id": "sGQ49cHiZSvd",
        "outputId": "0d82bea9-fcf8-46cb-a1b1-c470dbcb9737"
      },
      "execution_count": 3,
      "outputs": [
        {
          "output_type": "display_data",
          "data": {
            "text/plain": [
              "<Figure size 640x480 with 1 Axes>"
            ],
            "image/png": "[encoded data removed]"
          },
          "metadata": {}
        }
      ]
    },
    {
      "cell_type": "markdown",
      "source": [
        "### 5. **Symplectic Euler Integration**\n",
        "Symplectic methods focus on energy and momentum preservation."
      ],
      "metadata": {
        "id": "D5aLSIOWZbmh"
      }
    },
    {
      "cell_type": "code",
      "source": [
        "y = np.zeros_like(t)\n",
        "v = np.zeros_like(t)\n",
        "y[0] = 10\n",
        "\n",
        "# Symplectic Euler integration loop\n",
        "for i in range(1, len(t)):\n",
        "    v[i] = v[i-1] - g * dt  # Update velocity\n",
        "    y[i] = y[i-1] + v[i] * dt  # Update position with new velocity\n",
        "\n",
        "plt.plot(t, y, label=\"Symplectic Euler\")\n",
        "plt.xlabel(\"Time (s)\")\n",
        "plt.ylabel(\"Height (m)\")\n",
        "plt.legend()\n",
        "plt.show()"
      ],
      "metadata": {
        "id": "BpUEzMI1ZiBM"
      },
      "execution_count": null,
      "outputs": []
    },
    {
      "cell_type": "markdown",
      "source": [
        "### 6. **Barnes-Hut Algorithm (Conceptual Overview)**\n",
        "The Barnes-Hut algorithm is used in N-body problems to reduce computational cost by grouping distant particles.\n",
        "\n",
        "Here's a basic conceptual setup for Barnes-Hut. An actual implementation would require a recursive tree structure."
      ],
      "metadata": {
        "id": "9jZxxK6xZmmD"
      }
    },
    {
      "cell_type": "code",
      "source": [
        "class Body:\n",
        "    def __init__(self, mass, position, velocity):\n",
        "        self.mass = mass\n",
        "        self.position = position\n",
        "        self.velocity = velocity\n",
        "\n",
        "class QuadtreeNode:\n",
        "    def __init__(self, boundary):\n",
        "        self.boundary = boundary\n",
        "        self.center_of_mass = None\n",
        "        self.total_mass = 0\n",
        "        # Further details for actual Barnes-Hut implementation\n",
        "\n",
        "def compute_force(body, node):\n",
        "    # Compute gravitational force with approximation\n",
        "    pass  # Placeholder for actual implementation"
      ],
      "metadata": {
        "id": "T1lC8M2rZwZp"
      },
      "execution_count": null,
      "outputs": []
    },
    {
      "cell_type": "markdown",
      "source": [
        "Implementing Barnes-Hut in full requires creating a quadtree (2D) or octree (3D) to store particle positions, then computing forces by recursively approximating groups of distant particles.\n",
        "\n",
        "Here’s a basic implementation of the **Barnes-Hut algorithm** in 2D using Python. This example demonstrates the essential structure and recursive force calculations using a quadtree. Note that this is simplified for educational purposes and can be optimized further for real-world applications."
      ],
      "metadata": {
        "id": "4On9vlyaZ29j"
      }
    },
    {
      "cell_type": "code",
      "source": [
        "import numpy as np\n",
        "import matplotlib.pyplot as plt\n",
        "\n",
        "class Body:\n",
        "    def __init__(self, mass, position, velocity):\n",
        "        self.mass = mass\n",
        "        self.position = np.array(position, dtype=float)\n",
        "        self.velocity = np.array(velocity, dtype=float)\n",
        "        self.force = np.zeros(2, dtype=float)\n",
        "\n",
        "    def reset_force(self):\n",
        "        self.force[:] = 0\n",
        "\n",
        "    def add_force(self, other):\n",
        "        # Gravitational constant (arbitrary)\n",
        "        G = 1.0\n",
        "        delta = other.position - self.position\n",
        "        distance = np.sqrt(np.sum(delta**2)) + 1e-5  # Avoid zero distance\n",
        "        force_magnitude = G * self.mass * other.mass / (distance**2)\n",
        "        self.force += force_magnitude * delta / distance\n",
        "\n",
        "    def update_position(self, dt):\n",
        "        # Velocity Verlet or simple Euler update\n",
        "        self.velocity += self.force / self.mass * dt\n",
        "        self.position += self.velocity * dt\n",
        "\n",
        "\n",
        "class Quad:\n",
        "    def __init__(self, center, width):\n",
        "        self.center = np.array(center)\n",
        "        self.width = width\n",
        "        self.NW = self.NE = self.SW = self.SE = None\n",
        "\n",
        "    def contains(self, position):\n",
        "        x, y = position\n",
        "        cx, cy = self.center\n",
        "        return (cx - self.width / 2 <= x <= cx + self.width / 2 and\n",
        "                cy - self.width / 2 <= y <= cy + self.width / 2)\n",
        "\n",
        "    def subdivide(self):\n",
        "        half = self.width / 2\n",
        "        cx, cy = self.center\n",
        "        self.NW = Quad((cx - half / 2, cy + half / 2), half)\n",
        "        self.NE = Quad((cx + half / 2, cy + half / 2), half)\n",
        "        self.SW = Quad((cx - half / 2, cy - half / 2), half)\n",
        "        self.SE = Quad((cx + half / 2, cy - half / 2), half)\n",
        "\n",
        "\n",
        "class QuadTree:\n",
        "    def __init__(self, quad):\n",
        "        self.quad = quad\n",
        "        self.body = None\n",
        "        self.total_mass = 0\n",
        "        self.center_of_mass = np.zeros(2)\n",
        "\n",
        "    def insert(self, body):\n",
        "        if not self.quad.contains(body.position):\n",
        "            return False\n",
        "\n",
        "        if self.body is None and self.quad.NW is None:\n",
        "            self.body = body\n",
        "            self.total_mass = body.mass\n",
        "            self.center_of_mass = body.position\n",
        "            return True\n",
        "\n",
        "        if self.quad.NW is None:\n",
        "            self.quad.subdivide()\n",
        "            self._move_body_to_subnode(self.body)\n",
        "            self.body = None\n",
        "\n",
        "        inserted = self._move_body_to_subnode(body)\n",
        "        if inserted:\n",
        "            self.total_mass += body.mass\n",
        "            self.center_of_mass = (self.center_of_mass * (self.total_mass - body.mass) +\n",
        "                                   body.position * body.mass) / self.total_mass\n",
        "        return inserted\n",
        "\n",
        "    def _move_body_to_subnode(self, body):\n",
        "        for sub_quad in [self.quad.NW, self.quad.NE, self.quad.SW, self.quad.SE]:\n",
        "            if sub_quad.contains(body.position):\n",
        "                if sub_quad is None:\n",
        "                    sub_quad = QuadTree(sub_quad)\n",
        "                return sub_quad.insert(body)\n",
        "        return False\n",
        "\n",
        "    def calculate_force(self, body, theta=0.5):\n",
        "        if self.body is not None and self.body != body:\n",
        "            body.add_force(self.body)\n",
        "        elif self.quad.NW is not None:\n",
        "            s = self.quad.width\n",
        "            d = np.linalg.norm(self.center_of_mass - body.position)\n",
        "            if s / d < theta:\n",
        "                virtual_body = Body(self.total_mass, self.center_of_mass, np.zeros(2))\n",
        "                body.add_force(virtual_body)\n",
        "            else:\n",
        "                for child in [self.quad.NW, self.quad.NE, self.quad.SW, self.quad.SE]:\n",
        "                    if child is not None:\n",
        "                        child.calculate_force(body, theta)\n",
        "\n",
        "# Simulation setup\n",
        "num_bodies = 100\n",
        "bodies = [Body(mass=np.random.rand() * 5 + 1,\n",
        "               position=np.random.rand(2) * 100 - 50,\n",
        "               velocity=(np.random.rand(2) - 0.5) * 10) for _ in range(num_bodies)]\n",
        "dt = 0.01\n",
        "\n",
        "# Run simulation\n",
        "for _ in range(100):\n",
        "    root_quad = Quad(center=(0, 0), width=200)\n",
        "    root_tree = QuadTree(root_quad)\n",
        "    for body in bodies:\n",
        "        root_tree.insert(body)\n",
        "\n",
        "    for body in bodies:\n",
        "        body.reset_force()\n",
        "        root_tree.calculate_force(body)\n",
        "\n",
        "    for body in bodies:\n",
        "        body.update_position(dt)\n",
        "\n",
        "# Plot results\n",
        "plt.figure(figsize=(8, 8))\n",
        "positions = np.array([body.position for body in bodies])\n",
        "plt.scatter(positions[:, 0], positions[:, 1], s=10)\n",
        "plt.xlim(-100, 100)\n",
        "plt.ylim(-100, 100)\n",
        "plt.xlabel(\"X Position\")\n",
        "plt.ylabel(\"Y Position\")\n",
        "plt.title(\"Barnes-Hut Simulation of 100 Bodies\")\n",
        "plt.show()"
      ],
      "metadata": {
        "id": "wrmeGB5ZZ_rk"
      },
      "execution_count": null,
      "outputs": []
    },
    {
      "cell_type": "markdown",
      "source": [
        "### Explanation\n",
        "\n",
        "1. **Body Class**: Represents each particle, storing its position, velocity, and mass. The `add_force` method computes gravitational forces, and `update_position` updates its position based on accumulated forces.\n",
        "\n",
        "2. **Quad Class**: Defines a rectangular region in 2D and can recursively subdivide into four quadrants (NW, NE, SW, SE).\n",
        "\n",
        "3. **QuadTree Class**: Manages the `Quad` subdivisions and contains each `Body`. If multiple bodies are within the same quadrant, it subdivides further until each leaf node holds only one body. The `calculate_force` method uses the center-of-mass approximation if the quadrant is far enough away from the body, reducing computation time.\n",
        "\n",
        "4. **Simulation Setup**: Initializes random bodies and runs the simulation for 100 time steps, plotting the final positions.\n",
        "\n",
        "This code gives a simplified 2D example. For 3D, you would use an `OctTree` (8 subdivisions). The `theta` parameter in `calculate_force` controls the center-of-mass approximation threshold for force calculations, balancing accuracy and performance."
      ],
      "metadata": {
        "id": "j4_2KZlbaIiq"
      }
    },
    {
      "cell_type": "markdown",
      "source": [
        "Yes, there are several excellent libraries and tools that provide numerical methods for simulating classical mechanics problems, such as solving ordinary differential equations (ODEs), molecular dynamics simulations, rigid body dynamics, and more. Here are some popular libraries that focus on these areas:\n",
        "\n",
        "---\n",
        "\n",
        "### 1. **SciPy (for General Numerical Methods)**\n",
        "   - **Description**: SciPy offers a suite of ODE solvers and numerical integration methods that are highly useful for classical mechanics problems.\n",
        "   - **Features**: Includes solvers for initial value problems, boundary value problems, and numerical integration.\n",
        "   - **Languages**: Python.\n",
        "   - **Example (Simple Harmonic Oscillator)**:"
      ],
      "metadata": {
        "id": "5_qFQxoVaQKD"
      }
    },
    {
      "cell_type": "code",
      "source": [
        "import numpy as np\n",
        "     from scipy.integrate import solve_ivp\n",
        "     import matplotlib.pyplot as plt\n",
        "\n",
        "     def harmonic_oscillator(t, y):\n",
        "         x, v = y\n",
        "         return [v, -x]\n",
        "\n",
        "     sol = solve_ivp(harmonic_oscillator, [0, 10], [1, 0], t_eval=np.linspace(0, 10, 100))\n",
        "     plt.plot(sol.t, sol.y[0], label=\"Position\")\n",
        "     plt.plot(sol.t, sol.y[1], label=\"Velocity\")\n",
        "     plt.legend()\n",
        "     plt.show()"
      ],
      "metadata": {
        "id": "YtvUl3E3aZP1"
      },
      "execution_count": null,
      "outputs": []
    },
    {
      "cell_type": "markdown",
      "source": [
        "### 2. **SymPy (for Symbolic Mechanics and Numerical Solutions)**\n",
        "   - **Description**: SymPy has a dedicated **physics.mechanics** module that allows for symbolic computation of equations of motion.\n",
        "   - **Features**: Automates deriving Lagrangian or Hamiltonian equations and can simulate systems using these symbolic expressions.\n",
        "   - **Languages**: Python.\n",
        "   - **Example (Simple Pendulum)**:"
      ],
      "metadata": {
        "id": "Qlz7b7vRalzs"
      }
    },
    {
      "cell_type": "code",
      "source": [
        "     from sympy import symbols, sin, cos\n",
        "     from sympy.physics.mechanics import LagrangesMethod, dynamicsymbols\n",
        "\n",
        "     theta = dynamicsymbols('theta')\n",
        "     t = symbols('t')\n",
        "     g, L = symbols('g L')\n",
        "     lagrangian = L / 2 * theta.diff(t)**2 - g * cos(theta)\n",
        "     lagrange_eq = LagrangesMethod(lagrangian, [theta])\n",
        "     print(lagrange_eq.form_lagranges_equations())"
      ],
      "metadata": {
        "id": "3lktsdXiav9K"
      },
      "execution_count": null,
      "outputs": []
    },
    {
      "cell_type": "markdown",
      "source": [
        "### 3. **PyODE (for Rigid Body and Particle Simulations)**\n",
        "   - **Description**: PyODE is a Python wrapper for the Open Dynamics Engine (ODE), a physics engine for simulating rigid body dynamics.\n",
        "   - **Features**: Supports rigid body mechanics, collision detection, and constraints.\n",
        "   - **Languages**: Python (uses ODE in C).\n",
        "   - **Example**:"
      ],
      "metadata": {
        "id": "ebW1l7j_a2P6"
      }
    },
    {
      "cell_type": "code",
      "source": [
        "     import ode\n",
        "\n",
        "     world = ode.World()\n",
        "     body = ode.Body(world)\n",
        "     mass = ode.Mass()\n",
        "     mass.setSphere(1, 0.05)\n",
        "     body.setMass(mass)\n",
        "     body.setPosition((0, 0, 0))\n",
        "     body.addForce((0, -9.8, 0))\n",
        "\n",
        "     for i in range(100):\n",
        "         world.step(0.01)\n",
        "         print(body.getPosition())"
      ],
      "metadata": {
        "id": "nSd8AQvBa7yG"
      },
      "execution_count": null,
      "outputs": []
    },
    {
      "cell_type": "markdown",
      "source": [
        "### 4. **VPython (for Visualizing Mechanics Simulations)**\n",
        "   - **Description**: VPython provides easy 3D visualization for classical mechanics simulations, useful for real-time rendering of systems.\n",
        "   - **Features**: Good for simple particle simulations, pendulums, springs, and visualizing trajectories.\n",
        "   - **Languages**: Python.\n",
        "   - **Example (Projectile Motion)**:"
      ],
      "metadata": {
        "id": "UHBZhsIrbIJS"
      }
    },
    {
      "cell_type": "code",
      "source": [
        "     from vpython import sphere, vector, rate\n",
        "\n",
        "     ball = sphere(pos=vector(0, 0, 0), radius=0.1, color=color.red)\n",
        "     velocity = vector(5, 10, 0)\n",
        "     dt = 0.01\n",
        "     g = vector(0, -9.8, 0)\n",
        "\n",
        "     while ball.pos.y >= 0:\n",
        "         rate(100)\n",
        "         velocity = velocity + g * dt\n",
        "         ball.pos = ball.pos + velocity * dt"
      ],
      "metadata": {
        "id": "HMDbLu2ibO24"
      },
      "execution_count": null,
      "outputs": []
    },
    {
      "cell_type": "markdown",
      "source": [
        "### 5. **LAMMPS (for Molecular Dynamics)**\n",
        "   - **Description**: LAMMPS is a molecular dynamics simulator that models atomic, molecular, and larger-scale particle systems.\n",
        "   - **Features**: Supports large-scale molecular dynamics with multiple interaction potentials (e.g., Lennard-Jones, Coulomb).\n",
        "   - **Languages**: Primarily C++ with Python bindings.\n",
        "   - **Example**: Typically used with input script files, e.g., `in.lj` for Lennard-Jones particle simulation.\n",
        "   - **Python API**:"
      ],
      "metadata": {
        "id": "Wkkbsj5jbazr"
      }
    },
    {
      "cell_type": "code",
      "source": [
        "     from lammps import lammps\n",
        "\n",
        "     lmp = lammps()\n",
        "     lmp.file(\"in.lj\")  # Example input file for LAMMPS with Lennard-Jones potential"
      ],
      "metadata": {
        "id": "4FM8FVSzbhty"
      },
      "execution_count": null,
      "outputs": []
    },
    {
      "cell_type": "markdown",
      "source": [
        "\n",
        "### 6. **OpenMM (for Molecular and Biological Simulations)**\n",
        "   - **Description**: OpenMM is designed for molecular simulations in biological contexts and is efficient for running molecular dynamics on GPUs.\n",
        "   - **Features**: Supports customizable force fields, GPU acceleration, and interactive simulation adjustments.\n",
        "   - **Languages**: Python, C++, and others.\n",
        "   - **Example**:"
      ],
      "metadata": {
        "id": "RoILxA2Lbpf9"
      }
    },
    {
      "cell_type": "code",
      "source": [
        "     from simtk.openmm.app import *\n",
        "     from simtk.openmm import *\n",
        "     from simtk.unit import *\n",
        "\n",
        "     pdb = PDBFile('input.pdb')\n",
        "     forcefield = ForceField('amber99sbildn.xml')\n",
        "     system = forcefield.createSystem(pdb.topology)\n",
        "     integrator = VerletIntegrator(0.002*picoseconds)\n",
        "     simulation = Simulation(pdb.topology, system, integrator)\n",
        "     simulation.context.setPositions(pdb.positions)\n",
        "     simulation.minimizeEnergy()\n",
        "     simulation.step(1000)"
      ],
      "metadata": {
        "id": "6W7AgHAzbw1F"
      },
      "execution_count": null,
      "outputs": []
    },
    {
      "cell_type": "markdown",
      "source": [
        "### 7. **Project Chrono (for Complex Rigid-Body Simulations)**\n",
        "   - **Description**: Project Chrono is a physics engine for simulating complex rigid body systems with contacts, friction, and constraints.\n",
        "   - **Features**: Useful for simulating mechanical systems with high fidelity, including robots, vehicles, and granular materials.\n",
        "   - **Languages**: C++ with Python bindings.\n",
        "   - **Example**:"
      ],
      "metadata": {
        "id": "MuONyD0cb2Xv"
      }
    },
    {
      "cell_type": "code",
      "source": [
        "import pychrono as chrono\n",
        "\n",
        "     system = chrono.ChSystemNSC()\n",
        "     ground = chrono.ChBodyEasyBox(2, 0.1, 2, 1000, True, True)\n",
        "     system.Add(ground)\n",
        "\n",
        "     body = chrono.ChBodyEasySphere(0.5, 1000, True, True)\n",
        "     body.SetPos(chrono.ChVectorD(0, 1, 0))\n",
        "     system.Add(body)\n",
        "\n",
        "     for i in range(100):\n",
        "         system.DoStepDynamics(0.01)\n",
        "         print(\"Body position:\", body.GetPos())"
      ],
      "metadata": {
        "id": "gSxLtTW4b8Sl"
      },
      "execution_count": null,
      "outputs": []
    },
    {
      "cell_type": "markdown",
      "source": [
        "### 8. **SageMath (for Symbolic and Numerical Mechanics)**\n",
        "   - **Description**: SageMath combines symbolic mathematics with numerical solvers, useful for symbolic and numerical analysis in classical mechanics.\n",
        "   - **Features**: Supports symbolic manipulation of mechanics equations, solving differential equations, and plotting results.\n",
        "   - **Languages**: Python-based.\n",
        "   - **Example (Simple Pendulum)**:"
      ],
      "metadata": {
        "id": "72vwHhyocCIU"
      }
    },
    {
      "cell_type": "code",
      "source": [
        "from sage.all import *\n",
        "     t = var('t')\n",
        "     theta = function('theta')(t)\n",
        "     g, L = var('g L')\n",
        "     eq = diff(theta, t, t) + g/L * sin(theta) == 0\n",
        "     sol = desolve(eq, theta, ivar=t)\n",
        "     plot(sol.subs({g:9.8, L:1}), (t, 0, 10))"
      ],
      "metadata": {
        "id": "Zi2Dp57xcHSy"
      },
      "execution_count": null,
      "outputs": []
    },
    {
      "cell_type": "markdown",
      "source": [
        "These libraries and tools provide powerful and flexible options for simulating classical mechanics problems at varying levels of complexity."
      ],
      "metadata": {
        "id": "uDHnLyTacXF5"
      }
    }
  ]
}