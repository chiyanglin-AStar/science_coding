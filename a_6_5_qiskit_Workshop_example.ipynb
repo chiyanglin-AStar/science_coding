{
  "cells": [
    {
      "cell_type": "markdown",
      "metadata": {
        "id": "view-in-github",
        "colab_type": "text"
      },
      "source": [
        "<a href=\"https://colab.research.google.com/github/chiyanglin-AStar/science_coding/blob/main/qiskit_Workshop_example.ipynb\" target=\"_parent\"><img src=\"https://colab.research.google.com/assets/colab-badge.svg\" alt=\"Open In Colab\"/></a>"
      ]
    },
    {
      "cell_type": "markdown",
      "metadata": {
        "id": "ZPFuZa3D6ytc"
      },
      "source": [
        "<img src=\"https://github.com/mtreinish/qiskit-workshop/blob/master/qiskit-heading.png?raw=1\" alt=\"Drawing\" style=\"width: 300px;\"/>\n",
        "\n",
        "\n",
        "# Get Started with Quantum Computing and Qiskit\n",
        "\n",
        "This workshop is hosted at: https://github.com/mtreinish/qiskit-workshop"
      ]
    },
    {
      "cell_type": "markdown",
      "metadata": {
        "id": "WbxmwQWV6ytm"
      },
      "source": [
        "To get started we'll need to install Qiskit. If you have Python >= 3.5 and Jupyter installed you can run this locally. Or alternatively you can run this in Google Colab (if you have a Google account):\n",
        "https://colab.research.google.com/github/mtreinish/qiskit-workshop/blob/master/Workshop.ipynb\n",
        "\n",
        "Once you have the workshop running if you have not installed Qiskit before (or you are running in colab) you can uncomment and run the following cell to install it:"
      ]
    },
    {
      "cell_type": "code",
      "execution_count": 3,
      "metadata": {
        "id": "izvxmOCC6yto",
        "outputId": "daa8808c-ec1a-4f89-e72e-885ef3f0e001",
        "colab": {
          "base_uri": "https://localhost:8080/"
        }
      },
      "outputs": [
        {
          "output_type": "stream",
          "name": "stdout",
          "text": [
            "Collecting qiskit\n",
            "  Downloading qiskit-1.2.4-cp38-abi3-manylinux_2_17_x86_64.manylinux2014_x86_64.whl.metadata (12 kB)\n",
            "Collecting rustworkx>=0.15.0 (from qiskit)\n",
            "  Downloading rustworkx-0.15.1-cp38-abi3-manylinux_2_17_x86_64.manylinux2014_x86_64.whl.metadata (9.9 kB)\n",
            "Requirement already satisfied: numpy<3,>=1.17 in /usr/local/lib/python3.10/dist-packages (from qiskit) (1.26.4)\n",
            "Requirement already satisfied: scipy>=1.5 in /usr/local/lib/python3.10/dist-packages (from qiskit) (1.13.1)\n",
            "Requirement already satisfied: sympy>=1.3 in /usr/local/lib/python3.10/dist-packages (from qiskit) (1.13.1)\n",
            "Collecting dill>=0.3 (from qiskit)\n",
            "  Downloading dill-0.3.9-py3-none-any.whl.metadata (10 kB)\n",
            "Requirement already satisfied: python-dateutil>=2.8.0 in /usr/local/lib/python3.10/dist-packages (from qiskit) (2.8.2)\n",
            "Collecting stevedore>=3.0.0 (from qiskit)\n",
            "  Downloading stevedore-5.3.0-py3-none-any.whl.metadata (2.3 kB)\n",
            "Requirement already satisfied: typing-extensions in /usr/local/lib/python3.10/dist-packages (from qiskit) (4.12.2)\n",
            "Collecting symengine<0.14,>=0.11 (from qiskit)\n",
            "  Downloading symengine-0.13.0-cp310-cp310-manylinux_2_17_x86_64.manylinux2014_x86_64.whl.metadata (1.2 kB)\n",
            "Requirement already satisfied: six>=1.5 in /usr/local/lib/python3.10/dist-packages (from python-dateutil>=2.8.0->qiskit) (1.16.0)\n",
            "Collecting pbr>=2.0.0 (from stevedore>=3.0.0->qiskit)\n",
            "  Downloading pbr-6.1.0-py2.py3-none-any.whl.metadata (3.4 kB)\n",
            "Requirement already satisfied: mpmath<1.4,>=1.1.0 in /usr/local/lib/python3.10/dist-packages (from sympy>=1.3->qiskit) (1.3.0)\n",
            "Downloading qiskit-1.2.4-cp38-abi3-manylinux_2_17_x86_64.manylinux2014_x86_64.whl (4.8 MB)\n",
            "\u001b[2K   \u001b[90m━━━━━━━━━━━━━━━━━━━━━━━━━━━━━━━━━━━━━━━━\u001b[0m \u001b[32m4.8/4.8 MB\u001b[0m \u001b[31m35.9 MB/s\u001b[0m eta \u001b[36m0:00:00\u001b[0m\n",
            "\u001b[?25hDownloading dill-0.3.9-py3-none-any.whl (119 kB)\n",
            "\u001b[2K   \u001b[90m━━━━━━━━━━━━━━━━━━━━━━━━━━━━━━━━━━━━━━━━\u001b[0m \u001b[32m119.4/119.4 kB\u001b[0m \u001b[31m6.8 MB/s\u001b[0m eta \u001b[36m0:00:00\u001b[0m\n",
            "\u001b[?25hDownloading rustworkx-0.15.1-cp38-abi3-manylinux_2_17_x86_64.manylinux2014_x86_64.whl (2.0 MB)\n",
            "\u001b[2K   \u001b[90m━━━━━━━━━━━━━━━━━━━━━━━━━━━━━━━━━━━━━━━━\u001b[0m \u001b[32m2.0/2.0 MB\u001b[0m \u001b[31m60.1 MB/s\u001b[0m eta \u001b[36m0:00:00\u001b[0m\n",
            "\u001b[?25hDownloading stevedore-5.3.0-py3-none-any.whl (49 kB)\n",
            "\u001b[2K   \u001b[90m━━━━━━━━━━━━━━━━━━━━━━━━━━━━━━━━━━━━━━━━\u001b[0m \u001b[32m49.7/49.7 kB\u001b[0m \u001b[31m2.7 MB/s\u001b[0m eta \u001b[36m0:00:00\u001b[0m\n",
            "\u001b[?25hDownloading symengine-0.13.0-cp310-cp310-manylinux_2_17_x86_64.manylinux2014_x86_64.whl (49.7 MB)\n",
            "\u001b[2K   \u001b[90m━━━━━━━━━━━━━━━━━━━━━━━━━━━━━━━━━━━━━━━━\u001b[0m \u001b[32m49.7/49.7 MB\u001b[0m \u001b[31m15.2 MB/s\u001b[0m eta \u001b[36m0:00:00\u001b[0m\n",
            "\u001b[?25hDownloading pbr-6.1.0-py2.py3-none-any.whl (108 kB)\n",
            "\u001b[2K   \u001b[90m━━━━━━━━━━━━━━━━━━━━━━━━━━━━━━━━━━━━━━━━\u001b[0m \u001b[32m108.5/108.5 kB\u001b[0m \u001b[31m7.2 MB/s\u001b[0m eta \u001b[36m0:00:00\u001b[0m\n",
            "\u001b[?25hInstalling collected packages: symengine, rustworkx, pbr, dill, stevedore, qiskit\n",
            "Successfully installed dill-0.3.9 pbr-6.1.0 qiskit-1.2.4 rustworkx-0.15.1 stevedore-5.3.0 symengine-0.13.0\n"
          ]
        }
      ],
      "source": [
        "!pip install qiskit"
      ]
    },
    {
      "cell_type": "markdown",
      "metadata": {
        "id": "6sFb3MWH6ytq"
      },
      "source": [
        "Once we have Qiskit is installed we want to test that it's working properly."
      ]
    },
    {
      "cell_type": "code",
      "execution_count": 4,
      "metadata": {
        "id": "vVfNbLBn6ytr",
        "outputId": "83ff66ae-df2f-403c-80af-efffa0c7aa5c",
        "colab": {
          "base_uri": "https://localhost:8080/",
          "height": 42
        }
      },
      "outputs": [
        {
          "output_type": "execute_result",
          "data": {
            "text/plain": [
              "'1.2.4'"
            ],
            "application/vnd.google.colaboratory.intrinsic+json": {
              "type": "string"
            }
          },
          "metadata": {},
          "execution_count": 4
        }
      ],
      "source": [
        "import qiskit\n",
        "qiskit.__version__"
      ]
    },
    {
      "cell_type": "markdown",
      "metadata": {
        "id": "EF9dog5f6yts"
      },
      "source": [
        "## Signup for the Quantum Experience\n",
        "\n",
        "While for the most part we'll use local simulation for this workshop, if you want to run anything on a real quantum device you'll need an account on the Quantum Experience. We'll do this before moving on:\n",
        "\n",
        "1. Visit: https://quantumexperience.ng.bluemix.net/qx/ and signup for an account. You can use a SSO from an IBMid, LinkedIn, Github, Google, or Twitter in addition to creating a new account.\n",
        "\n",
        "![Login Box](https://github.com/mtreinish/qiskit-workshop/blob/master/QX_login.png?raw=1)\n",
        "\n",
        "\n",
        "\n",
        "2. After you're logged into your new account visit: https://quantumexperience.ng.bluemix.net/qx/account/advanced where you'll need to generate an **API Token**. Once you've generated a token you'll want to copy it so we can use Qiskit to store it locally so it can be used for accessing the quantum devices.\n"
      ]
    },
    {
      "cell_type": "code",
      "execution_count": 5,
      "metadata": {
        "id": "hUOMGYh16ytt",
        "outputId": "8d6fdbac-2d22-491d-e033-912497d65462",
        "colab": {
          "base_uri": "https://localhost:8080/",
          "height": 211
        }
      },
      "outputs": [
        {
          "output_type": "error",
          "ename": "AttributeError",
          "evalue": "module 'qiskit' has no attribute 'IBMQ'",
          "traceback": [
            "\u001b[0;31m---------------------------------------------------------------------------\u001b[0m",
            "\u001b[0;31mAttributeError\u001b[0m                            Traceback (most recent call last)",
            "\u001b[0;32m<ipython-input-5-55a70c37a43c>\u001b[0m in \u001b[0;36m<cell line: 3>\u001b[0;34m()\u001b[0m\n\u001b[1;32m      1\u001b[0m \u001b[0;31m# Enable your account on Qiskit, replace 'My_API_Token' with your newly generated token\u001b[0m\u001b[0;34m\u001b[0m\u001b[0;34m\u001b[0m\u001b[0m\n\u001b[1;32m      2\u001b[0m \u001b[0;31m#qiskit.IBMQ.save_account('My_API_Token')\u001b[0m\u001b[0;34m\u001b[0m\u001b[0;34m\u001b[0m\u001b[0m\n\u001b[0;32m----> 3\u001b[0;31m \u001b[0mqiskit\u001b[0m\u001b[0;34m.\u001b[0m\u001b[0mIBMQ\u001b[0m\u001b[0;34m.\u001b[0m\u001b[0mload_accounts\u001b[0m\u001b[0;34m(\u001b[0m\u001b[0;34m)\u001b[0m\u001b[0;34m\u001b[0m\u001b[0;34m\u001b[0m\u001b[0m\n\u001b[0m\u001b[1;32m      4\u001b[0m \u001b[0;31m# After loading credentials we query the backends\u001b[0m\u001b[0;34m\u001b[0m\u001b[0;34m\u001b[0m\u001b[0m\n\u001b[1;32m      5\u001b[0m \u001b[0mqiskit\u001b[0m\u001b[0;34m.\u001b[0m\u001b[0mIBMQ\u001b[0m\u001b[0;34m.\u001b[0m\u001b[0mbackends\u001b[0m\u001b[0;34m(\u001b[0m\u001b[0;34m)\u001b[0m\u001b[0;34m\u001b[0m\u001b[0;34m\u001b[0m\u001b[0m\n",
            "\u001b[0;31mAttributeError\u001b[0m: module 'qiskit' has no attribute 'IBMQ'"
          ]
        }
      ],
      "source": [
        "# Enable your account on Qiskit, replace 'My_API_Token' with your newly generated token\n",
        "#qiskit.IBMQ.save_account('My_API_Token')\n",
        "qiskit.IBMQ.load_accounts()\n",
        "# After loading credentials we query the backends\n",
        "qiskit.IBMQ.backends()"
      ]
    },
    {
      "cell_type": "code",
      "source": [
        "!pip install qiskit qiskit_ibm_runtime ipywidgets\n",
        "from google.colab import userdata"
      ],
      "metadata": {
        "id": "IY6zkaf59LlX",
        "outputId": "84da6a12-9fd9-41fa-e266-7386750d7e78",
        "colab": {
          "base_uri": "https://localhost:8080/"
        }
      },
      "execution_count": 8,
      "outputs": [
        {
          "output_type": "stream",
          "name": "stdout",
          "text": [
            "Requirement already satisfied: qiskit in /usr/local/lib/python3.10/dist-packages (1.2.4)\n",
            "Collecting qiskit_ibm_runtime\n",
            "  Downloading qiskit_ibm_runtime-0.33.1-py3-none-any.whl.metadata (19 kB)\n",
            "Requirement already satisfied: ipywidgets in /usr/local/lib/python3.10/dist-packages (7.7.1)\n",
            "Requirement already satisfied: rustworkx>=0.15.0 in /usr/local/lib/python3.10/dist-packages (from qiskit) (0.15.1)\n",
            "Requirement already satisfied: numpy<3,>=1.17 in /usr/local/lib/python3.10/dist-packages (from qiskit) (1.26.4)\n",
            "Requirement already satisfied: scipy>=1.5 in /usr/local/lib/python3.10/dist-packages (from qiskit) (1.13.1)\n",
            "Requirement already satisfied: sympy>=1.3 in /usr/local/lib/python3.10/dist-packages (from qiskit) (1.13.1)\n",
            "Requirement already satisfied: dill>=0.3 in /usr/local/lib/python3.10/dist-packages (from qiskit) (0.3.9)\n",
            "Requirement already satisfied: python-dateutil>=2.8.0 in /usr/local/lib/python3.10/dist-packages (from qiskit) (2.8.2)\n",
            "Requirement already satisfied: stevedore>=3.0.0 in /usr/local/lib/python3.10/dist-packages (from qiskit) (5.3.0)\n",
            "Requirement already satisfied: typing-extensions in /usr/local/lib/python3.10/dist-packages (from qiskit) (4.12.2)\n",
            "Requirement already satisfied: symengine<0.14,>=0.11 in /usr/local/lib/python3.10/dist-packages (from qiskit) (0.13.0)\n",
            "Requirement already satisfied: requests>=2.19 in /usr/local/lib/python3.10/dist-packages (from qiskit_ibm_runtime) (2.32.3)\n",
            "Collecting requests-ntlm>=1.1.0 (from qiskit_ibm_runtime)\n",
            "  Downloading requests_ntlm-1.3.0-py3-none-any.whl.metadata (2.4 kB)\n",
            "Requirement already satisfied: urllib3>=1.21.1 in /usr/local/lib/python3.10/dist-packages (from qiskit_ibm_runtime) (2.2.3)\n",
            "Requirement already satisfied: websocket-client>=1.5.1 in /usr/local/lib/python3.10/dist-packages (from qiskit_ibm_runtime) (1.8.0)\n",
            "Collecting ibm-platform-services>=0.22.6 (from qiskit_ibm_runtime)\n",
            "  Downloading ibm_platform_services-0.59.0-py3-none-any.whl.metadata (9.0 kB)\n",
            "Requirement already satisfied: pydantic>=2.5.0 in /usr/local/lib/python3.10/dist-packages (from qiskit_ibm_runtime) (2.9.2)\n",
            "Requirement already satisfied: ipykernel>=4.5.1 in /usr/local/lib/python3.10/dist-packages (from ipywidgets) (5.5.6)\n",
            "Requirement already satisfied: ipython-genutils~=0.2.0 in /usr/local/lib/python3.10/dist-packages (from ipywidgets) (0.2.0)\n",
            "Requirement already satisfied: traitlets>=4.3.1 in /usr/local/lib/python3.10/dist-packages (from ipywidgets) (5.7.1)\n",
            "Requirement already satisfied: widgetsnbextension~=3.6.0 in /usr/local/lib/python3.10/dist-packages (from ipywidgets) (3.6.10)\n",
            "Requirement already satisfied: ipython>=4.0.0 in /usr/local/lib/python3.10/dist-packages (from ipywidgets) (7.34.0)\n",
            "Requirement already satisfied: jupyterlab-widgets>=1.0.0 in /usr/local/lib/python3.10/dist-packages (from ipywidgets) (3.0.13)\n",
            "Collecting ibm-cloud-sdk-core<4.0.0,>=3.22.0 (from ibm-platform-services>=0.22.6->qiskit_ibm_runtime)\n",
            "  Downloading ibm_cloud_sdk_core-3.22.0-py3-none-any.whl.metadata (8.6 kB)\n",
            "Requirement already satisfied: jupyter-client in /usr/local/lib/python3.10/dist-packages (from ipykernel>=4.5.1->ipywidgets) (6.1.12)\n",
            "Requirement already satisfied: tornado>=4.2 in /usr/local/lib/python3.10/dist-packages (from ipykernel>=4.5.1->ipywidgets) (6.3.3)\n",
            "Requirement already satisfied: setuptools>=18.5 in /usr/local/lib/python3.10/dist-packages (from ipython>=4.0.0->ipywidgets) (75.1.0)\n",
            "Collecting jedi>=0.16 (from ipython>=4.0.0->ipywidgets)\n",
            "  Downloading jedi-0.19.1-py2.py3-none-any.whl.metadata (22 kB)\n",
            "Requirement already satisfied: decorator in /usr/local/lib/python3.10/dist-packages (from ipython>=4.0.0->ipywidgets) (4.4.2)\n",
            "Requirement already satisfied: pickleshare in /usr/local/lib/python3.10/dist-packages (from ipython>=4.0.0->ipywidgets) (0.7.5)\n",
            "Requirement already satisfied: prompt-toolkit!=3.0.0,!=3.0.1,<3.1.0,>=2.0.0 in /usr/local/lib/python3.10/dist-packages (from ipython>=4.0.0->ipywidgets) (3.0.48)\n",
            "Requirement already satisfied: pygments in /usr/local/lib/python3.10/dist-packages (from ipython>=4.0.0->ipywidgets) (2.18.0)\n",
            "Requirement already satisfied: backcall in /usr/local/lib/python3.10/dist-packages (from ipython>=4.0.0->ipywidgets) (0.2.0)\n",
            "Requirement already satisfied: matplotlib-inline in /usr/local/lib/python3.10/dist-packages (from ipython>=4.0.0->ipywidgets) (0.1.7)\n",
            "Requirement already satisfied: pexpect>4.3 in /usr/local/lib/python3.10/dist-packages (from ipython>=4.0.0->ipywidgets) (4.9.0)\n",
            "Requirement already satisfied: annotated-types>=0.6.0 in /usr/local/lib/python3.10/dist-packages (from pydantic>=2.5.0->qiskit_ibm_runtime) (0.7.0)\n",
            "Requirement already satisfied: pydantic-core==2.23.4 in /usr/local/lib/python3.10/dist-packages (from pydantic>=2.5.0->qiskit_ibm_runtime) (2.23.4)\n",
            "Requirement already satisfied: six>=1.5 in /usr/local/lib/python3.10/dist-packages (from python-dateutil>=2.8.0->qiskit) (1.16.0)\n",
            "Requirement already satisfied: charset-normalizer<4,>=2 in /usr/local/lib/python3.10/dist-packages (from requests>=2.19->qiskit_ibm_runtime) (3.4.0)\n",
            "Requirement already satisfied: idna<4,>=2.5 in /usr/local/lib/python3.10/dist-packages (from requests>=2.19->qiskit_ibm_runtime) (3.10)\n",
            "Requirement already satisfied: certifi>=2017.4.17 in /usr/local/lib/python3.10/dist-packages (from requests>=2.19->qiskit_ibm_runtime) (2024.8.30)\n",
            "Requirement already satisfied: cryptography>=1.3 in /usr/local/lib/python3.10/dist-packages (from requests-ntlm>=1.1.0->qiskit_ibm_runtime) (43.0.3)\n",
            "Collecting pyspnego>=0.4.0 (from requests-ntlm>=1.1.0->qiskit_ibm_runtime)\n",
            "  Downloading pyspnego-0.11.1-py3-none-any.whl.metadata (5.4 kB)\n",
            "Requirement already satisfied: pbr>=2.0.0 in /usr/local/lib/python3.10/dist-packages (from stevedore>=3.0.0->qiskit) (6.1.0)\n",
            "Requirement already satisfied: mpmath<1.4,>=1.1.0 in /usr/local/lib/python3.10/dist-packages (from sympy>=1.3->qiskit) (1.3.0)\n",
            "Requirement already satisfied: notebook>=4.4.1 in /usr/local/lib/python3.10/dist-packages (from widgetsnbextension~=3.6.0->ipywidgets) (6.5.5)\n",
            "Requirement already satisfied: cffi>=1.12 in /usr/local/lib/python3.10/dist-packages (from cryptography>=1.3->requests-ntlm>=1.1.0->qiskit_ibm_runtime) (1.17.1)\n",
            "Requirement already satisfied: PyJWT<3.0.0,>=2.8.0 in /usr/local/lib/python3.10/dist-packages (from ibm-cloud-sdk-core<4.0.0,>=3.22.0->ibm-platform-services>=0.22.6->qiskit_ibm_runtime) (2.9.0)\n",
            "Requirement already satisfied: parso<0.9.0,>=0.8.3 in /usr/local/lib/python3.10/dist-packages (from jedi>=0.16->ipython>=4.0.0->ipywidgets) (0.8.4)\n",
            "Requirement already satisfied: jinja2 in /usr/local/lib/python3.10/dist-packages (from notebook>=4.4.1->widgetsnbextension~=3.6.0->ipywidgets) (3.1.4)\n",
            "Requirement already satisfied: pyzmq<25,>=17 in /usr/local/lib/python3.10/dist-packages (from notebook>=4.4.1->widgetsnbextension~=3.6.0->ipywidgets) (24.0.1)\n",
            "Requirement already satisfied: argon2-cffi in /usr/local/lib/python3.10/dist-packages (from notebook>=4.4.1->widgetsnbextension~=3.6.0->ipywidgets) (23.1.0)\n",
            "Requirement already satisfied: jupyter-core>=4.6.1 in /usr/local/lib/python3.10/dist-packages (from notebook>=4.4.1->widgetsnbextension~=3.6.0->ipywidgets) (5.7.2)\n",
            "Requirement already satisfied: nbformat in /usr/local/lib/python3.10/dist-packages (from notebook>=4.4.1->widgetsnbextension~=3.6.0->ipywidgets) (5.10.4)\n",
            "Requirement already satisfied: nbconvert>=5 in /usr/local/lib/python3.10/dist-packages (from notebook>=4.4.1->widgetsnbextension~=3.6.0->ipywidgets) (7.16.4)\n",
            "Requirement already satisfied: nest-asyncio>=1.5 in /usr/local/lib/python3.10/dist-packages (from notebook>=4.4.1->widgetsnbextension~=3.6.0->ipywidgets) (1.6.0)\n",
            "Requirement already satisfied: Send2Trash>=1.8.0 in /usr/local/lib/python3.10/dist-packages (from notebook>=4.4.1->widgetsnbextension~=3.6.0->ipywidgets) (1.8.3)\n",
            "Requirement already satisfied: terminado>=0.8.3 in /usr/local/lib/python3.10/dist-packages (from notebook>=4.4.1->widgetsnbextension~=3.6.0->ipywidgets) (0.18.1)\n",
            "Requirement already satisfied: prometheus-client in /usr/local/lib/python3.10/dist-packages (from notebook>=4.4.1->widgetsnbextension~=3.6.0->ipywidgets) (0.21.0)\n",
            "Requirement already satisfied: nbclassic>=0.4.7 in /usr/local/lib/python3.10/dist-packages (from notebook>=4.4.1->widgetsnbextension~=3.6.0->ipywidgets) (1.1.0)\n",
            "Requirement already satisfied: ptyprocess>=0.5 in /usr/local/lib/python3.10/dist-packages (from pexpect>4.3->ipython>=4.0.0->ipywidgets) (0.7.0)\n",
            "Requirement already satisfied: wcwidth in /usr/local/lib/python3.10/dist-packages (from prompt-toolkit!=3.0.0,!=3.0.1,<3.1.0,>=2.0.0->ipython>=4.0.0->ipywidgets) (0.2.13)\n",
            "Requirement already satisfied: pycparser in /usr/local/lib/python3.10/dist-packages (from cffi>=1.12->cryptography>=1.3->requests-ntlm>=1.1.0->qiskit_ibm_runtime) (2.22)\n",
            "Requirement already satisfied: platformdirs>=2.5 in /usr/local/lib/python3.10/dist-packages (from jupyter-core>=4.6.1->notebook>=4.4.1->widgetsnbextension~=3.6.0->ipywidgets) (4.3.6)\n",
            "Requirement already satisfied: notebook-shim>=0.2.3 in /usr/local/lib/python3.10/dist-packages (from nbclassic>=0.4.7->notebook>=4.4.1->widgetsnbextension~=3.6.0->ipywidgets) (0.2.4)\n",
            "Requirement already satisfied: beautifulsoup4 in /usr/local/lib/python3.10/dist-packages (from nbconvert>=5->notebook>=4.4.1->widgetsnbextension~=3.6.0->ipywidgets) (4.12.3)\n",
            "Requirement already satisfied: bleach!=5.0.0 in /usr/local/lib/python3.10/dist-packages (from nbconvert>=5->notebook>=4.4.1->widgetsnbextension~=3.6.0->ipywidgets) (6.2.0)\n",
            "Requirement already satisfied: defusedxml in /usr/local/lib/python3.10/dist-packages (from nbconvert>=5->notebook>=4.4.1->widgetsnbextension~=3.6.0->ipywidgets) (0.7.1)\n",
            "Requirement already satisfied: jupyterlab-pygments in /usr/local/lib/python3.10/dist-packages (from nbconvert>=5->notebook>=4.4.1->widgetsnbextension~=3.6.0->ipywidgets) (0.3.0)\n",
            "Requirement already satisfied: markupsafe>=2.0 in /usr/local/lib/python3.10/dist-packages (from nbconvert>=5->notebook>=4.4.1->widgetsnbextension~=3.6.0->ipywidgets) (3.0.2)\n",
            "Requirement already satisfied: mistune<4,>=2.0.3 in /usr/local/lib/python3.10/dist-packages (from nbconvert>=5->notebook>=4.4.1->widgetsnbextension~=3.6.0->ipywidgets) (3.0.2)\n",
            "Requirement already satisfied: nbclient>=0.5.0 in /usr/local/lib/python3.10/dist-packages (from nbconvert>=5->notebook>=4.4.1->widgetsnbextension~=3.6.0->ipywidgets) (0.10.0)\n",
            "Requirement already satisfied: packaging in /usr/local/lib/python3.10/dist-packages (from nbconvert>=5->notebook>=4.4.1->widgetsnbextension~=3.6.0->ipywidgets) (24.1)\n",
            "Requirement already satisfied: pandocfilters>=1.4.1 in /usr/local/lib/python3.10/dist-packages (from nbconvert>=5->notebook>=4.4.1->widgetsnbextension~=3.6.0->ipywidgets) (1.5.1)\n",
            "Requirement already satisfied: tinycss2 in /usr/local/lib/python3.10/dist-packages (from nbconvert>=5->notebook>=4.4.1->widgetsnbextension~=3.6.0->ipywidgets) (1.4.0)\n",
            "Requirement already satisfied: fastjsonschema>=2.15 in /usr/local/lib/python3.10/dist-packages (from nbformat->notebook>=4.4.1->widgetsnbextension~=3.6.0->ipywidgets) (2.20.0)\n",
            "Requirement already satisfied: jsonschema>=2.6 in /usr/local/lib/python3.10/dist-packages (from nbformat->notebook>=4.4.1->widgetsnbextension~=3.6.0->ipywidgets) (4.23.0)\n",
            "Requirement already satisfied: argon2-cffi-bindings in /usr/local/lib/python3.10/dist-packages (from argon2-cffi->notebook>=4.4.1->widgetsnbextension~=3.6.0->ipywidgets) (21.2.0)\n",
            "Requirement already satisfied: webencodings in /usr/local/lib/python3.10/dist-packages (from bleach!=5.0.0->nbconvert>=5->notebook>=4.4.1->widgetsnbextension~=3.6.0->ipywidgets) (0.5.1)\n",
            "Requirement already satisfied: attrs>=22.2.0 in /usr/local/lib/python3.10/dist-packages (from jsonschema>=2.6->nbformat->notebook>=4.4.1->widgetsnbextension~=3.6.0->ipywidgets) (24.2.0)\n",
            "Requirement already satisfied: jsonschema-specifications>=2023.03.6 in /usr/local/lib/python3.10/dist-packages (from jsonschema>=2.6->nbformat->notebook>=4.4.1->widgetsnbextension~=3.6.0->ipywidgets) (2024.10.1)\n",
            "Requirement already satisfied: referencing>=0.28.4 in /usr/local/lib/python3.10/dist-packages (from jsonschema>=2.6->nbformat->notebook>=4.4.1->widgetsnbextension~=3.6.0->ipywidgets) (0.35.1)\n",
            "Requirement already satisfied: rpds-py>=0.7.1 in /usr/local/lib/python3.10/dist-packages (from jsonschema>=2.6->nbformat->notebook>=4.4.1->widgetsnbextension~=3.6.0->ipywidgets) (0.20.0)\n",
            "Requirement already satisfied: jupyter-server<3,>=1.8 in /usr/local/lib/python3.10/dist-packages (from notebook-shim>=0.2.3->nbclassic>=0.4.7->notebook>=4.4.1->widgetsnbextension~=3.6.0->ipywidgets) (1.24.0)\n",
            "Requirement already satisfied: soupsieve>1.2 in /usr/local/lib/python3.10/dist-packages (from beautifulsoup4->nbconvert>=5->notebook>=4.4.1->widgetsnbextension~=3.6.0->ipywidgets) (2.6)\n",
            "Requirement already satisfied: anyio<4,>=3.1.0 in /usr/local/lib/python3.10/dist-packages (from jupyter-server<3,>=1.8->notebook-shim>=0.2.3->nbclassic>=0.4.7->notebook>=4.4.1->widgetsnbextension~=3.6.0->ipywidgets) (3.7.1)\n",
            "Requirement already satisfied: sniffio>=1.1 in /usr/local/lib/python3.10/dist-packages (from anyio<4,>=3.1.0->jupyter-server<3,>=1.8->notebook-shim>=0.2.3->nbclassic>=0.4.7->notebook>=4.4.1->widgetsnbextension~=3.6.0->ipywidgets) (1.3.1)\n",
            "Requirement already satisfied: exceptiongroup in /usr/local/lib/python3.10/dist-packages (from anyio<4,>=3.1.0->jupyter-server<3,>=1.8->notebook-shim>=0.2.3->nbclassic>=0.4.7->notebook>=4.4.1->widgetsnbextension~=3.6.0->ipywidgets) (1.2.2)\n",
            "Downloading qiskit_ibm_runtime-0.33.1-py3-none-any.whl (2.9 MB)\n",
            "\u001b[2K   \u001b[90m━━━━━━━━━━━━━━━━━━━━━━━━━━━━━━━━━━━━━━━━\u001b[0m \u001b[32m2.9/2.9 MB\u001b[0m \u001b[31m29.9 MB/s\u001b[0m eta \u001b[36m0:00:00\u001b[0m\n",
            "\u001b[?25hDownloading ibm_platform_services-0.59.0-py3-none-any.whl (340 kB)\n",
            "\u001b[2K   \u001b[90m━━━━━━━━━━━━━━━━━━━━━━━━━━━━━━━━━━━━━━━━\u001b[0m \u001b[32m340.8/340.8 kB\u001b[0m \u001b[31m21.6 MB/s\u001b[0m eta \u001b[36m0:00:00\u001b[0m\n",
            "\u001b[?25hDownloading requests_ntlm-1.3.0-py3-none-any.whl (6.6 kB)\n",
            "Downloading ibm_cloud_sdk_core-3.22.0-py3-none-any.whl (69 kB)\n",
            "\u001b[2K   \u001b[90m━━━━━━━━━━━━━━━━━━━━━━━━━━━━━━━━━━━━━━━━\u001b[0m \u001b[32m69.4/69.4 kB\u001b[0m \u001b[31m4.5 MB/s\u001b[0m eta \u001b[36m0:00:00\u001b[0m\n",
            "\u001b[?25hDownloading jedi-0.19.1-py2.py3-none-any.whl (1.6 MB)\n",
            "\u001b[2K   \u001b[90m━━━━━━━━━━━━━━━━━━━━━━━━━━━━━━━━━━━━━━━━\u001b[0m \u001b[32m1.6/1.6 MB\u001b[0m \u001b[31m52.5 MB/s\u001b[0m eta \u001b[36m0:00:00\u001b[0m\n",
            "\u001b[?25hDownloading pyspnego-0.11.1-py3-none-any.whl (130 kB)\n",
            "\u001b[2K   \u001b[90m━━━━━━━━━━━━━━━━━━━━━━━━━━━━━━━━━━━━━━━━\u001b[0m \u001b[32m130.5/130.5 kB\u001b[0m \u001b[31m7.7 MB/s\u001b[0m eta \u001b[36m0:00:00\u001b[0m\n",
            "\u001b[?25hInstalling collected packages: jedi, ibm-cloud-sdk-core, pyspnego, ibm-platform-services, requests-ntlm, qiskit_ibm_runtime\n",
            "Successfully installed ibm-cloud-sdk-core-3.22.0 ibm-platform-services-0.59.0 jedi-0.19.1 pyspnego-0.11.1 qiskit_ibm_runtime-0.33.1 requests-ntlm-1.3.0\n"
          ]
        }
      ]
    },
    {
      "cell_type": "code",
      "execution_count": 9,
      "metadata": {
        "id": "-dLDJ3p_6ytv",
        "outputId": "59a72e94-7cde-4332-96d6-ed050a37783d",
        "colab": {
          "base_uri": "https://localhost:8080/",
          "height": 314
        }
      },
      "outputs": [
        {
          "output_type": "error",
          "ename": "ModuleNotFoundError",
          "evalue": "No module named 'qiskit.tools'",
          "traceback": [
            "\u001b[0;31m---------------------------------------------------------------------------\u001b[0m",
            "\u001b[0;31mModuleNotFoundError\u001b[0m                       Traceback (most recent call last)",
            "\u001b[0;32m<ipython-input-9-bfb9d49e587a>\u001b[0m in \u001b[0;36m<cell line: 1>\u001b[0;34m()\u001b[0m\n\u001b[0;32m----> 1\u001b[0;31m \u001b[0;32mfrom\u001b[0m \u001b[0mqiskit\u001b[0m\u001b[0;34m.\u001b[0m\u001b[0mtools\u001b[0m\u001b[0;34m.\u001b[0m\u001b[0mjupyter\u001b[0m \u001b[0;32mimport\u001b[0m \u001b[0;34m*\u001b[0m\u001b[0;34m\u001b[0m\u001b[0;34m\u001b[0m\u001b[0m\n\u001b[0m",
            "\u001b[0;31mModuleNotFoundError\u001b[0m: No module named 'qiskit.tools'",
            "",
            "\u001b[0;31m---------------------------------------------------------------------------\u001b[0;32m\nNOTE: If your import is failing due to a missing package, you can\nmanually install dependencies using either !pip or !apt.\n\nTo view examples of installing some common dependencies, click the\n\"Open Examples\" button below.\n\u001b[0;31m---------------------------------------------------------------------------\u001b[0m\n"
          ],
          "errorDetails": {
            "actions": [
              {
                "action": "open_url",
                "actionText": "Open Examples",
                "url": "/notebooks/snippets/importing_libraries.ipynb"
              }
            ]
          }
        }
      ],
      "source": [
        "from qiskit.tools.jupyter import *"
      ]
    },
    {
      "cell_type": "code",
      "execution_count": 7,
      "metadata": {
        "scrolled": false,
        "id": "xQlmo1g-6ytw",
        "outputId": "efe42276-a540-4638-8631-8ee0f0fd70fd",
        "colab": {
          "base_uri": "https://localhost:8080/"
        }
      },
      "outputs": [
        {
          "output_type": "stream",
          "name": "stderr",
          "text": [
            "UsageError: Line magic function `%qiskit_backend_overview` not found.\n"
          ]
        }
      ],
      "source": [
        "# Show Quantum Device Overiew\n",
        "%qiskit_backend_overview"
      ]
    },
    {
      "cell_type": "code",
      "execution_count": null,
      "metadata": {
        "scrolled": false,
        "id": "mj0W5X166ytx"
      },
      "outputs": [],
      "source": [
        "# Show individual backend details\n",
        "backend = qiskit.IBMQ.get_backend('ibmqx2')\n",
        "%qiskit_backend_monitor backend"
      ]
    },
    {
      "cell_type": "markdown",
      "metadata": {
        "id": "MjmXnYb06yty"
      },
      "source": [
        "## Running on a Quantum Device\n",
        "In any of the examples below you can simply replace the use of the `backend_sim` variable with `backend` in any calls to `qiskit.execute()` below and it'll run the circuit on a real quantum device instead of in the local simulator. However be aware that because the real devices are shared time you'll likely have to wait some time in the queue before your job executes."
      ]
    },
    {
      "cell_type": "markdown",
      "metadata": {
        "id": "cPmsh9Gi6yty"
      },
      "source": [
        "# The Qubit"
      ]
    },
    {
      "cell_type": "code",
      "execution_count": null,
      "metadata": {
        "id": "sfpxza356ytz"
      },
      "outputs": [],
      "source": [
        "# Use BasicAer's qasm_simulator\n",
        "backend_sim = qiskit.BasicAer.get_backend('qasm_simulator')"
      ]
    },
    {
      "cell_type": "code",
      "execution_count": null,
      "metadata": {
        "id": "4Id45nHN6yt0"
      },
      "outputs": [],
      "source": [
        "# Define the Quantum and Classical Registers\n",
        "q = qiskit.QuantumRegister(1)\n",
        "c = qiskit.ClassicalRegister(1)\n",
        "\n",
        "# Build the circuit\n",
        "single_q_measurement = qiskit.QuantumCircuit(q, c)\n",
        "single_q_measurement.measure(q, c);"
      ]
    },
    {
      "cell_type": "code",
      "execution_count": null,
      "metadata": {
        "id": "qTn3CVDf6yt0"
      },
      "outputs": [],
      "source": [
        "qiskit.tools.visualization.plot_bloch_vector([0, 0, 1])"
      ]
    },
    {
      "cell_type": "code",
      "execution_count": null,
      "metadata": {
        "id": "ExEXlh0N6yt1"
      },
      "outputs": [],
      "source": [
        "# Execute the circuit\n",
        "job = qiskit.execute(single_q_measurement, backend_sim)\n",
        "result = job.result()\n",
        "# Print the result\n",
        "counts = result.get_counts(single_q_measurement)\n",
        "print(counts)"
      ]
    },
    {
      "cell_type": "code",
      "execution_count": null,
      "metadata": {
        "id": "PD2gGzVw6yt2"
      },
      "outputs": [],
      "source": [
        "qiskit.tools.visualization.plot_histogram(counts)"
      ]
    },
    {
      "cell_type": "markdown",
      "metadata": {
        "id": "ktiV2rly6yt2"
      },
      "source": [
        "# The Quantum Not Gate"
      ]
    },
    {
      "cell_type": "code",
      "execution_count": null,
      "metadata": {
        "id": "_jYkk-mL6yt2"
      },
      "outputs": [],
      "source": [
        "# Create a Quantum Register with 1 qubit (wire).\n",
        "qr = qiskit.QuantumRegister(1)\n",
        "\n",
        "# Create a Classical Register with 1 bit (double wire).\n",
        "cr = qiskit.ClassicalRegister(1)\n",
        "\n",
        "# Create a Quantum Circuit from the quantum and classical registers\n",
        "circ = qiskit.QuantumCircuit(qr, cr)\n",
        "\n",
        "# Place an X gate on the qubit wire. The registers are zero-indexed.\n",
        "circ.x(qr[0])\n",
        "\n",
        "# Measure the qubit into the classical register\n",
        "circ.measure(qr, cr)\n",
        "\n",
        "# Draw the circuit\n",
        "circ.draw(output='mpl')"
      ]
    },
    {
      "cell_type": "code",
      "execution_count": null,
      "metadata": {
        "id": "c5widw9P6yt3"
      },
      "outputs": [],
      "source": [
        "qiskit.tools.visualization.plot_bloch_vector([0, 0, -1])"
      ]
    },
    {
      "cell_type": "code",
      "execution_count": null,
      "metadata": {
        "id": "Ap2Jni9j6yt3"
      },
      "outputs": [],
      "source": [
        "# Execute the circuit on the qasm simulator, running it 100 times.\n",
        "job_sim = qiskit.execute(circ, backend_sim, shots=100)\n",
        "\n",
        "# Grab the results from the job.\n",
        "result_sim = job_sim.result()\n",
        "\n",
        "# Print the counts, which are contained in a Python dictionary\n",
        "counts = result_sim.get_counts(circ)\n",
        "print(counts)"
      ]
    },
    {
      "cell_type": "code",
      "execution_count": null,
      "metadata": {
        "id": "BfQTcLfg6yt3"
      },
      "outputs": [],
      "source": [
        "# Plot the results on a bar chart\n",
        "qiskit.tools.visualization.plot_histogram(counts)"
      ]
    },
    {
      "cell_type": "markdown",
      "metadata": {
        "id": "_7dGzpIv6yt3"
      },
      "source": [
        "# Superposition"
      ]
    },
    {
      "cell_type": "code",
      "execution_count": null,
      "metadata": {
        "id": "ePsNNNXC6yt3"
      },
      "outputs": [],
      "source": [
        "# Create a Quantum Register with 1 qubit (wire).\n",
        "qr = qiskit.QuantumRegister(1)\n",
        "\n",
        "# Create a Classical Register with 1 bit (double wire).\n",
        "cr = qiskit.ClassicalRegister(1)\n",
        "\n",
        "# Create a Quantum Circuit from the quantum and classical registers\n",
        "circ = qiskit.QuantumCircuit(qr, cr)\n",
        "\n",
        "# Place an Hadamard gate on the qubit wire\n",
        "circ.h(qr[0])\n",
        "\n",
        "# Measure the qubit into the classical register\n",
        "circ.measure(qr, cr)\n",
        "\n",
        "# Draw the circuit\n",
        "circ.draw(output='mpl', scale=1.5)"
      ]
    },
    {
      "cell_type": "code",
      "execution_count": null,
      "metadata": {
        "id": "n2wAaDdb6yt3"
      },
      "outputs": [],
      "source": [
        "# Execute the circuit on the qasm simulator, running it 100 times.\n",
        "job_sim = qiskit.execute(circ, backend_sim, shots=100)\n",
        "\n",
        "# Grab the results from the job.\n",
        "result_sim = job_sim.result()\n",
        "\n",
        "# Print the counts, which are contained in a Python dictionary\n",
        "counts = result_sim.get_counts(circ)\n",
        "print(counts)"
      ]
    },
    {
      "cell_type": "code",
      "execution_count": null,
      "metadata": {
        "id": "64dSI-wf6yt4"
      },
      "outputs": [],
      "source": [
        "# Plot the results on a bar chart\n",
        "qiskit.tools.visualization.plot_histogram(counts)"
      ]
    },
    {
      "cell_type": "markdown",
      "metadata": {
        "id": "a6XrE-tH6yt4"
      },
      "source": [
        "This demonstrates the first principle fundamental princple of quantum mechanics that provide a good starting point for understanding quantum computation. The priciple of superposition, that a physical system in a definite state can still behave randomly."
      ]
    },
    {
      "cell_type": "markdown",
      "metadata": {
        "id": "WLU-_jVg6yt4"
      },
      "source": [
        "## Applying Hadarmards Twice\n",
        "\n",
        "Now that we've applied a Hadamard gate and put a qubit in superposition, what happens if you apply a hadamard to a qubit already in a the $|0+1\\rangle$ state."
      ]
    },
    {
      "cell_type": "code",
      "execution_count": null,
      "metadata": {
        "id": "iqSHXRr16yt4"
      },
      "outputs": [],
      "source": [
        "# Build a circuit with 1 qubit and 1 classical bit\n",
        "qr = qiskit.QuantumRegister(1)\n",
        "cr = qiskit.ClassicalRegister(1)\n",
        "qc = qiskit.QuantumCircuit(qr, cr)\n",
        "# Apply 2 Hadamard gates on the circuit and then measure\n",
        "qc.h(qr[0])\n",
        "qc.h(qr[0])\n",
        "qc.measure(qr, cr)\n",
        "# Draw the circuit\n",
        "qc.draw(output='mpl')"
      ]
    },
    {
      "cell_type": "code",
      "execution_count": null,
      "metadata": {
        "id": "20QWtxoK6yt4"
      },
      "outputs": [],
      "source": [
        "# Run the circuit and print the output counts\n",
        "result = qiskit.execute(qc, backend_sim, shots=100).result()\n",
        "counts = result.get_counts()\n",
        "print(counts)"
      ]
    },
    {
      "cell_type": "code",
      "execution_count": null,
      "metadata": {
        "id": "aPvLH2BY6yt4"
      },
      "outputs": [],
      "source": [
        "# Print the histogram\n",
        "qiskit.tools.visualization.plot_histogram(counts)"
      ]
    },
    {
      "cell_type": "markdown",
      "metadata": {
        "id": "1uHfQDy_6yt5"
      },
      "source": [
        "### Apply Hadamard twice from |$1\\rangle$ basis state"
      ]
    },
    {
      "cell_type": "code",
      "execution_count": null,
      "metadata": {
        "id": "IbOdM4xn6yt5"
      },
      "outputs": [],
      "source": [
        "# Build a circuit with 1 qubit and 1 classical bit\n",
        "qr = qiskit.QuantumRegister(1)\n",
        "cr = qiskit.ClassicalRegister(1)\n",
        "qc = qiskit.QuantumCircuit(qr, cr)\n",
        "# Apply 2 Hadamard gates on the circuit and then measure\n",
        "qc.x(qr[0])\n",
        "qc.h(qr[0])\n",
        "qc.h(qr[0])\n",
        "qc.measure(qr, cr)\n",
        "# Draw the circuit\n",
        "qc.draw(output='mpl')"
      ]
    },
    {
      "cell_type": "code",
      "execution_count": null,
      "metadata": {
        "id": "y7ebiizL6yt6"
      },
      "outputs": [],
      "source": [
        "# Run the circuit and print the output counts\n",
        "result = qiskit.execute(qc, backend_sim, shots=100).result()\n",
        "counts = result.get_counts()\n",
        "print(counts)"
      ]
    },
    {
      "cell_type": "code",
      "execution_count": null,
      "metadata": {
        "id": "3DwuZ5Xn6yt6"
      },
      "outputs": [],
      "source": [
        "# Print the histogram\n",
        "qiskit.tools.visualization.plot_histogram(counts)"
      ]
    },
    {
      "cell_type": "markdown",
      "metadata": {
        "id": "OsvV6th66yt6"
      },
      "source": [
        "# Other Quantum Gates\n",
        "\n",
        "The list of standard available logic gates are documented here:\n",
        "\n",
        "https://github.com/Qiskit/qiskit-tutorials/blob/master/qiskit/terra/summary_of_quantum_operations.ipynb\n",
        "\n",
        "However, that guide typically only explains the operation performed by using it's unitary matrix. If you want to visualize the output state from using a quantum gate on the bloch sphere you can use the statevector simulator to do this:"
      ]
    },
    {
      "cell_type": "code",
      "execution_count": null,
      "metadata": {
        "id": "cKX1eNUD6yt6"
      },
      "outputs": [],
      "source": [
        "# Get the statevector simulator to inspect the quantum state\n",
        "backend_sv_sim = qiskit.BasicAer.get_backend('statevector_simulator')\n",
        "qr = qiskit.QuantumRegister(1)\n",
        "cr = qiskit.ClassicalRegister(1)\n",
        "circ = qiskit.QuantumCircuit(qr, cr)\n",
        "circ.y(qr)\n",
        "result = qiskit.execute(circ, backend_sv_sim).result()\n",
        "qiskit.tools.visualization.plot_bloch_multivector(result.get_statevector())"
      ]
    },
    {
      "cell_type": "markdown",
      "metadata": {
        "id": "z7SpT5OV6yt7"
      },
      "source": [
        "The above shows the end state after applying the Pauli Y gate (which like the Pauli X/Quantum Not gate) can be thought of a 180 degree rotation around the Y axis. So when starting from the |$0\\rangle$ basis state the result is the |$1\\rangle$ basis state.\n",
        "\n",
        "However, many gates rotate the phase. To visualize any change in phase you'll want to put the qubit in superposition with a hadamard gate first. For example:"
      ]
    },
    {
      "cell_type": "code",
      "execution_count": null,
      "metadata": {
        "id": "6EAAaMhA6yt7"
      },
      "outputs": [],
      "source": [
        "qr = qiskit.QuantumRegister(1)\n",
        "cr = qiskit.ClassicalRegister(1)\n",
        "circ = qiskit.QuantumCircuit(qr, cr)\n",
        "circ.h(qr)\n",
        "circ.sdg(qr)\n",
        "result = qiskit.execute(circ, backend_sv_sim).result()\n",
        "\n",
        "qiskit.tools.visualization.plot_bloch_multivector(result.get_statevector())"
      ]
    },
    {
      "cell_type": "markdown",
      "metadata": {
        "id": "RIpu6nUv6yxD"
      },
      "source": [
        "This example shows the output of the $S^{\\dagger}$ (or, conjugate of $\\sqrt{Z}$ phase) gate on the bloch sphere for a qubit in superposition from a Hadamard gate. Since it is a phase gate it has no noticeable effect on a qubit in the |$0\\rangle$ basis state:"
      ]
    },
    {
      "cell_type": "code",
      "execution_count": null,
      "metadata": {
        "id": "OQItqdq66yxD"
      },
      "outputs": [],
      "source": [
        "qr = qiskit.QuantumRegister(1)\n",
        "cr = qiskit.ClassicalRegister(1)\n",
        "circ = qiskit.QuantumCircuit(qr, cr)\n",
        "circ.sdg(qr)\n",
        "result = qiskit.execute(circ, backend_sv_sim).result()\n",
        "\n",
        "qiskit.tools.visualization.plot_bloch_multivector(result.get_statevector())"
      ]
    },
    {
      "cell_type": "markdown",
      "metadata": {
        "id": "PKvylKD16yxE"
      },
      "source": [
        "# Multi Qubit Circuits and Gates"
      ]
    },
    {
      "cell_type": "code",
      "execution_count": null,
      "metadata": {
        "id": "RCCCPyHp6yxE"
      },
      "outputs": [],
      "source": [
        "# Create a Quantum Register with 3 qubits\n",
        "qr = qiskit.QuantumRegister(3)\n",
        "\n",
        "# Create a Quantum Circuit from the quantum register. Because we're going to use\n",
        "# the statevector_simulator, we won't measure the circuit or need classical registers.\n",
        "circ = qiskit.QuantumCircuit(qr)\n",
        "\n",
        "# Place an X gate on the 2nd and 3rd wires. The topmost wire is index 0.\n",
        "circ.x(qr[1])\n",
        "circ.x(qr[2])\n",
        "\n",
        "# Draw the circuit\n",
        "circ.draw(output='mpl')"
      ]
    },
    {
      "cell_type": "code",
      "execution_count": null,
      "metadata": {
        "id": "J0u_ijJT6yxF"
      },
      "outputs": [],
      "source": [
        "# Execute the circuit on the state vector simulator\n",
        "job_sim = qiskit.execute(circ, backend_sv_sim)\n",
        "\n",
        "# Grab the results from the job.\n",
        "result_sim = job_sim.result()\n",
        "\n",
        "# Obtain the state vector for the quantum circuit\n",
        "quantum_state = result_sim.get_statevector(circ, decimals=3)\n",
        "\n",
        "# Output the quantum state vector\n",
        "print(quantum_state)"
      ]
    },
    {
      "cell_type": "code",
      "execution_count": null,
      "metadata": {
        "id": "6vr-EG3E6yxL"
      },
      "outputs": [],
      "source": [
        "qiskit.tools.visualization.plot_state_city(quantum_state)"
      ]
    },
    {
      "cell_type": "code",
      "execution_count": null,
      "metadata": {
        "id": "ayx38GBo6yxM"
      },
      "outputs": [],
      "source": [
        "qiskit.tools.visualization.plot_bloch_multivector(quantum_state)"
      ]
    },
    {
      "cell_type": "code",
      "execution_count": null,
      "metadata": {
        "id": "NrelloAj6yxM"
      },
      "outputs": [],
      "source": [
        "# Create a Quantum Register with 3 qubits\n",
        "qr = qiskit.QuantumRegister(2)\n",
        "cr = qiskit.ClassicalRegister(2)\n",
        "circ = qiskit.QuantumCircuit(qr)\n",
        "# Apply a CNOT gate with qr[0] as the control and qr[1] as the target\n",
        "circ.cx(qr[0], qr[1])\n",
        "\n",
        "meas = qiskit.QuantumCircuit(qr, cr)\n",
        "meas.measure(qr, cr)\n",
        "\n",
        "# Draw the circuit\n",
        "circ.draw(output='mpl')"
      ]
    },
    {
      "cell_type": "code",
      "execution_count": null,
      "metadata": {
        "id": "1yaIGMes6yxN"
      },
      "outputs": [],
      "source": [
        "# Execute the circuit on the state vector simulator\n",
        "job_sim = qiskit.execute(circ, backend_sv_sim)\n",
        "\n",
        "# Grab the results from the job.\n",
        "result_sim = job_sim.result()\n",
        "\n",
        "# Obtain the state vector for the quantum circuit\n",
        "quantum_state = result_sim.get_statevector(circ, decimals=3)\n",
        "\n",
        "# Output the quantum state vector\n",
        "print(quantum_state)"
      ]
    },
    {
      "cell_type": "code",
      "execution_count": null,
      "metadata": {
        "id": "Hqc8XmpG6yxO"
      },
      "outputs": [],
      "source": [
        "qiskit.tools.visualization.plot_state_city(quantum_state)"
      ]
    },
    {
      "cell_type": "code",
      "execution_count": null,
      "metadata": {
        "id": "AXu2bOmt6yxO"
      },
      "outputs": [],
      "source": [
        "# Execute the circuit on the state vector simulator\n",
        "job_sim = qiskit.execute(circ + meas, backend_sim)\n",
        "\n",
        "# Grab the results from the job.\n",
        "result = job_sim.result()\n",
        "\n",
        "counts = result.get_counts()\n",
        "# Output the quantum state vector\n",
        "print(counts)"
      ]
    },
    {
      "cell_type": "code",
      "execution_count": null,
      "metadata": {
        "id": "uQ0Iyeok6yxO"
      },
      "outputs": [],
      "source": [
        "qiskit.tools.visualization.plot_histogram(counts)"
      ]
    },
    {
      "cell_type": "code",
      "execution_count": null,
      "metadata": {
        "id": "07-xWOGU6yxO"
      },
      "outputs": [],
      "source": [
        "circ = qiskit.QuantumCircuit(qr)\n",
        "# Apply an X gate on qr[0] before the CNOT\n",
        "circ.x(qr[0])\n",
        "\n",
        "# Apply a CNOT gate with qr[0] as the control and qr[1] as the target\n",
        "circ.cx(qr[0], qr[1])\n",
        "\n",
        "# Draw the circuit\n",
        "circ.draw(output='mpl')"
      ]
    },
    {
      "cell_type": "code",
      "execution_count": null,
      "metadata": {
        "id": "uRQ78kev6yxP"
      },
      "outputs": [],
      "source": [
        "# Execute the circuit on the state vector simulator\n",
        "job_sim = qiskit.execute(circ, backend_sv_sim)\n",
        "\n",
        "# Grab the results from the job.\n",
        "result_sim = job_sim.result()\n",
        "\n",
        "# Obtain the state vector for the quantum circuit\n",
        "quantum_state = result_sim.get_statevector(circ, decimals=3)\n",
        "\n",
        "# Output the quantum state vector\n",
        "print(quantum_state)"
      ]
    },
    {
      "cell_type": "code",
      "execution_count": null,
      "metadata": {
        "id": "aMYaZn-46yxQ"
      },
      "outputs": [],
      "source": [
        "qiskit.tools.visualization.plot_state_city(quantum_state)"
      ]
    },
    {
      "cell_type": "code",
      "execution_count": null,
      "metadata": {
        "id": "6fxGARMA6yxQ"
      },
      "outputs": [],
      "source": [
        "# Execute the circuit on the state vector simulator\n",
        "job_sim = qiskit.execute(circ + meas, backend_sim)\n",
        "\n",
        "# Grab the results from the job.\n",
        "result = job_sim.result()\n",
        "\n",
        "counts = result.get_counts()\n",
        "# Output the quantum state vector\n",
        "print(counts)"
      ]
    },
    {
      "cell_type": "code",
      "execution_count": null,
      "metadata": {
        "id": "6IWoxkYU6yxQ"
      },
      "outputs": [],
      "source": [
        "qiskit.tools.visualization.plot_histogram(counts)"
      ]
    },
    {
      "cell_type": "markdown",
      "metadata": {
        "id": "hipodJuC6yxR"
      },
      "source": [
        "These are all still classical operations and states, just with multiple qubits. Lets look at what happens when we start using CNOT outside of a basis state."
      ]
    },
    {
      "cell_type": "markdown",
      "metadata": {
        "id": "GOYankOv6yxR"
      },
      "source": [
        "# Entanglement"
      ]
    },
    {
      "cell_type": "code",
      "execution_count": null,
      "metadata": {
        "id": "IyWUNfxJ6yxS"
      },
      "outputs": [],
      "source": [
        "# Creating registers\n",
        "q2 = qiskit.QuantumRegister(2)\n",
        "c1 = qiskit.ClassicalRegister(1)\n",
        "c2 = qiskit.ClassicalRegister(2)\n",
        "\n",
        "# quantum circuit to make an entangled bell state\n",
        "bell = qiskit.QuantumCircuit(q2)\n",
        "bell.h(q2[0])\n",
        "bell.cx(q2[0], q2[1])\n",
        "\n",
        "# quantum circuit to measure q0 in the standard basis\n",
        "measureIZ = qiskit.QuantumCircuit(q2, c1)\n",
        "measureIZ.measure(q2[0], c1[0])\n",
        "bellIZ = bell + measureIZ\n",
        "\n",
        "# quantum circuit to measure q0 in the superposition basis\n",
        "measureIX = qiskit.QuantumCircuit(q2, c1)\n",
        "measureIX.h(q2[0])\n",
        "measureIX.measure(q2[0], c1[0])\n",
        "bellIX = bell + measureIX\n",
        "\n",
        "# quantum circuit to measure q1 in the standard basis\n",
        "measureZI = qiskit.QuantumCircuit(q2, c1)\n",
        "measureZI.measure(q2[1], c1[0])\n",
        "bellZI = bell + measureZI\n",
        "\n",
        "# quantum circuit to measure q1 in the superposition basis\n",
        "measureXI = qiskit.QuantumCircuit(q2, c1)\n",
        "measureXI.h(q2[1])\n",
        "measureXI.measure(q2[1], c1[0])\n",
        "bellXI = bell + measureXI\n",
        "\n",
        "# quantum circuit to measure q in the standard basis\n",
        "measureZZ = qiskit.QuantumCircuit(q2, c2)\n",
        "measureZZ.measure(q2[0], c2[0])\n",
        "measureZZ.measure(q2[1], c2[1])\n",
        "bellZZ = bell + measureZZ\n",
        "\n",
        "# quantum circuit to measure q in the superposition basis\n",
        "measureXX = qiskit.QuantumCircuit(q2, c2)\n",
        "measureXX.h(q2[0])\n",
        "measureXX.h(q2[1])\n",
        "measureXX.measure(q2[0], c2[0])\n",
        "measureXX.measure(q2[1], c2[1])\n",
        "bellXX = bell + measureXX"
      ]
    },
    {
      "cell_type": "code",
      "execution_count": null,
      "metadata": {
        "id": "2Xami93x6yxS"
      },
      "outputs": [],
      "source": [
        "bellIZ.draw(output='mpl')"
      ]
    },
    {
      "cell_type": "code",
      "execution_count": null,
      "metadata": {
        "id": "zQrtGHrH6yxT"
      },
      "outputs": [],
      "source": [
        "bellIX.draw(output='mpl')"
      ]
    },
    {
      "cell_type": "code",
      "execution_count": null,
      "metadata": {
        "id": "iOCOavn_6yxT"
      },
      "outputs": [],
      "source": [
        "bellZI.draw(output='mpl')"
      ]
    },
    {
      "cell_type": "code",
      "execution_count": null,
      "metadata": {
        "id": "qKPHJ8fL6yxU"
      },
      "outputs": [],
      "source": [
        "bellXI.draw(output='mpl')"
      ]
    },
    {
      "cell_type": "code",
      "execution_count": null,
      "metadata": {
        "id": "PVoFPcjH6yxV"
      },
      "outputs": [],
      "source": [
        "bellZZ.draw(output='mpl')"
      ]
    },
    {
      "cell_type": "code",
      "execution_count": null,
      "metadata": {
        "id": "D3NztsLS6yxW"
      },
      "outputs": [],
      "source": [
        "bellXX.draw(output='mpl')"
      ]
    },
    {
      "cell_type": "code",
      "execution_count": null,
      "metadata": {
        "id": "xYsOaLX96yxW"
      },
      "outputs": [],
      "source": [
        "circuits = [bellIZ,bellIX,bellZI,bellXI,bellZZ,bellXX]\n",
        "job = qiskit.execute(circuits, backend_sim)\n",
        "result = job.result()\n",
        "\n",
        "result_sv = qiskit.execute(bell, backend_sv_sim).result()\n",
        "\n",
        "qiskit.tools.visualization.plot_histogram(result.get_counts(bellIZ))"
      ]
    },
    {
      "cell_type": "code",
      "execution_count": null,
      "metadata": {
        "id": "qjVIEXKj6yxW"
      },
      "outputs": [],
      "source": [
        "result.get_counts(bellIZ)"
      ]
    },
    {
      "cell_type": "code",
      "execution_count": null,
      "metadata": {
        "id": "H3Br45N56yxX"
      },
      "outputs": [],
      "source": [
        "qiskit.tools.visualization.plot_histogram(result.get_counts(bellIX))"
      ]
    },
    {
      "cell_type": "code",
      "execution_count": null,
      "metadata": {
        "id": "IMTEgxE86yxX"
      },
      "outputs": [],
      "source": [
        "qiskit.tools.visualization.plot_histogram(result.get_counts(bellZI))"
      ]
    },
    {
      "cell_type": "code",
      "execution_count": null,
      "metadata": {
        "id": "b8VOVVKD6yxX"
      },
      "outputs": [],
      "source": [
        "qiskit.tools.visualization.plot_histogram(result.get_counts(bellXI))"
      ]
    },
    {
      "cell_type": "code",
      "execution_count": null,
      "metadata": {
        "id": "JdFBTCH26yxX"
      },
      "outputs": [],
      "source": [
        "qiskit.tools.visualization.plot_histogram(result.get_counts(bellZZ))"
      ]
    },
    {
      "cell_type": "code",
      "execution_count": null,
      "metadata": {
        "id": "kO71_gYx6yxZ"
      },
      "outputs": [],
      "source": [
        "qiskit.tools.visualization.plot_histogram(result.get_counts(bellXX))"
      ]
    },
    {
      "cell_type": "code",
      "execution_count": null,
      "metadata": {
        "id": "2JSex_zo6yxa"
      },
      "outputs": [],
      "source": [
        "qiskit.tools.visualization.plot_state_city(result_sv.get_statevector())"
      ]
    },
    {
      "cell_type": "markdown",
      "metadata": {
        "id": "Et7dEoOI6yxa"
      },
      "source": [
        "## Mixed State vs Entanglement"
      ]
    },
    {
      "cell_type": "code",
      "execution_count": null,
      "metadata": {
        "id": "n-4IiH366yxa"
      },
      "outputs": [],
      "source": [
        "# quantum circuit to make a mixed state\n",
        "mixed1 = qiskit.QuantumCircuit(q2, c2)\n",
        "mixed2 = qiskit.QuantumCircuit(q2, c2)\n",
        "mixed2.x(q2)\n",
        "mixed1.measure(q2[0], c2[0])\n",
        "mixed1.measure(q2[1], c2[1])\n",
        "mixed2.measure(q2[0], c2[0])\n",
        "mixed2.measure(q2[1], c2[1])\n",
        "\n",
        "mixed1.draw(output='mpl')"
      ]
    },
    {
      "cell_type": "code",
      "execution_count": null,
      "metadata": {
        "id": "s826TPu26yxb"
      },
      "outputs": [],
      "source": [
        "mixed2.draw(output='mpl')"
      ]
    },
    {
      "cell_type": "code",
      "execution_count": null,
      "metadata": {
        "id": "mYOKo1Kw6yxb"
      },
      "outputs": [],
      "source": [
        "mixed_state = [mixed1,mixed2]\n",
        "job = qiskit.execute(mixed_state, backend_sim)\n",
        "result = job.result()\n",
        "\n",
        "counts1 = result.get_counts(mixed_state[0])\n",
        "counts2 = result.get_counts(mixed_state[1])\n",
        "\n",
        "import collections\n",
        "ground = collections.Counter(counts1)\n",
        "excited = collections.Counter(counts2)\n",
        "qiskit.tools.visualization.plot_histogram(ground + excited)"
      ]
    },
    {
      "cell_type": "markdown",
      "metadata": {
        "id": "tLZydqAm6yxc"
      },
      "source": [
        "We do see the same kind of correlation indeed as we observed in the \"bell_measureZZ\" circuit. But we know this is not an entangled state! All we have done is leave the qubits in their ground state for some of the shots and flip both qubits for some of the shots. This is called a mixed state and it is a classical state. Now, would we observe a similar outcome if we measured this mixed state in the superposition basis?"
      ]
    },
    {
      "cell_type": "code",
      "execution_count": null,
      "metadata": {
        "id": "pyye9Sku6yyD"
      },
      "outputs": [],
      "source": [
        "# quantum circuit to make a mixed state\n",
        "mixed3 = qiskit.QuantumCircuit(q2, c2)\n",
        "mixed3.h(q2)\n",
        "mixed3.measure(q2[0], c2[0])\n",
        "mixed3.measure(q2[1], c2[1])\n",
        "mixed4 = qiskit.QuantumCircuit(q2, c2)\n",
        "mixed4.x(q2)\n",
        "mixed4.h(q2)\n",
        "mixed4.measure(q2[0], c2[0])\n",
        "mixed4.measure(q2[1], c2[1])\n",
        "mixed3.draw(output='mpl')"
      ]
    },
    {
      "cell_type": "code",
      "execution_count": null,
      "metadata": {
        "id": "3HsVJfia6yyD"
      },
      "outputs": [],
      "source": [
        "mixed4.draw(output='mpl')"
      ]
    },
    {
      "cell_type": "code",
      "execution_count": null,
      "metadata": {
        "id": "bL8jdniC6yyE"
      },
      "outputs": [],
      "source": [
        "mixed_state = [mixed3, mixed4]\n",
        "job = qiskit.execute(mixed_state, backend_sim)\n",
        "result = job.result()\n",
        "\n",
        "counts1 = result.get_counts(mixed_state[0])\n",
        "counts2 = result.get_counts(mixed_state[1])\n",
        "\n",
        "import collections\n",
        "ground = collections.Counter(counts1)\n",
        "excited = collections.Counter(counts2)\n",
        "qiskit.tools.visualization.plot_histogram(ground + excited)"
      ]
    },
    {
      "cell_type": "markdown",
      "metadata": {
        "id": "TKZDtvwq6yyF"
      },
      "source": [
        "You can see here that when we measure the mixed state in the superposition basis that the results are not correlated, which is different from our previous entangled example \"bell_measureXX\". This shows that a mixed state is not actually entangled."
      ]
    },
    {
      "cell_type": "markdown",
      "metadata": {
        "id": "jO6yiJLI6yyG"
      },
      "source": [
        "# More Information\n",
        "\n",
        "This is just a starting point for learning about quantum computation. There are a several additional resources where to go for more information on this topic. This workshop was heavily based off of the community notebooks in the [qiskit-tutorials repository](https://github.com/Qiskit/qiskit-tutorials) these continue on and explore these topics in more detail:\n",
        "\n",
        "1. **Amplitude and Phase**: https://github.com/Qiskit/qiskit-tutorials/blob/master/community/terra/qis_intro/amplitude_and_phase.ipynb\n",
        "2. **Testing Entanglement**: https://github.com/Qiskit/qiskit-tutorials/blob/master/community/terra/qis_intro/entanglement_testing.ipynb\n",
        "3. **Quantum Teleportation and Superdense Coding**: https://github.com/Qiskit/qiskit-tutorials/blob/master/community/terra/qis_intro/teleportation_superdensecoding.ipynb\n",
        "\n",
        "The qiskit-tutorials repository also contains many other Jupyter notebooks covering a variety of topics. One thing that can be fun is applying these principles to make games: https://github.com/Qiskit/qiskit-tutorials/tree/master/community/games contains several games on Quantum computers.\n",
        "\n",
        "If you're interested in seeing applications and algorithms that are using quantum computation take a look at the [Qiskit Aqua](https://qiskit.org/aqua) which provides a Python library for quantum alogrithms.\n",
        "\n",
        "A paper outlining everything talked about here in more detail along with basic alogrithms building off of these concepts: https://arxiv.org/abs/1903.04359"
      ]
    }
  ],
  "metadata": {
    "kernelspec": {
      "display_name": "Python 3",
      "language": "python",
      "name": "python3"
    },
    "language_info": {
      "codemirror_mode": {
        "name": "ipython",
        "version": 3
      },
      "file_extension": ".py",
      "mimetype": "text/x-python",
      "name": "python",
      "nbconvert_exporter": "python",
      "pygments_lexer": "ipython3",
      "version": "3.7.2"
    },
    "colab": {
      "provenance": [],
      "include_colab_link": true
    }
  },
  "nbformat": 4,
  "nbformat_minor": 0
}
