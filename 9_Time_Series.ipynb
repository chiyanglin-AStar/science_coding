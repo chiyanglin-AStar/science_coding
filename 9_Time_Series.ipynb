{
  "nbformat": 4,
  "nbformat_minor": 0,
  "metadata": {
    "colab": {
      "provenance": [],
      "authorship_tag": "ABX9TyONloHHOGLCHq9RuR2/lo0Y",
      "include_colab_link": true
    },
    "kernelspec": {
      "name": "python3",
      "display_name": "Python 3"
    },
    "language_info": {
      "name": "python"
    }
  },
  "cells": [
    {
      "cell_type": "markdown",
      "metadata": {
        "id": "view-in-github",
        "colab_type": "text"
      },
      "source": [
        "<a href=\"https://colab.research.google.com/github/chiyanglin-AStar/science_coding/blob/main/9_Time_Series.ipynb\" target=\"_parent\"><img src=\"https://colab.research.google.com/assets/colab-badge.svg\" alt=\"Open In Colab\"/></a>"
      ]
    },
    {
      "cell_type": "markdown",
      "source": [
        "# Complete Guide on Time Series Analysis in Python\n",
        "\n",
        "ref: https://www.kaggle.com/code/prashant111/complete-guide-on-time-series-analysis-in-python"
      ],
      "metadata": {
        "id": "7bAK61PtoVoa"
      }
    },
    {
      "cell_type": "markdown",
      "source": [
        "## Table of Contents\n",
        "\n",
        "1.Introduction to Time Series Analysis\n",
        "2.Types of data\n",
        "3.Time Series terminology\n",
        "4.Time Series Analysis\n",
        "5.Visualize the Time Series\n",
        "6.Patterns in a Time Series\n",
        "7.Additive and Multiplicative Time Series\n",
        "8.Decomposition of a Time Series\n",
        "9.Stationary and Non-Stationary Time Series\n",
        "10.How to make a time series stationary\n",
        "11.How to test for stationarity\n",
        "11.1 Augmented Dickey Fuller test (ADF Test)\n",
        "11.2 Kwiatkowski-Phillips-Schmidt-Shin – KPSS test (trend stationary)\n",
        "11.3 Philips Perron test (PP Test)\n",
        "12.Difference between white noise and a stationary series\n",
        "13.Detrend a Time Series\n",
        "14.Deseasonalize a Time Series\n",
        "15.How to test for seasonality of a time series\n",
        "16.Autocorrelation and Partial Autocorrelation Functions\n",
        "17.Computation of Partial Autocorrelation Function\n",
        "18.Lag Plots\n",
        "19.Granger Causality Test\n",
        "20.Smoothening a Time Series\n",
        "21.References\n",
        "\n",
        "\n",
        "1. Introduction to Time-Series Analysis\n",
        "\n",
        "\n",
        "A time-series data is a series of data points or observations recorded at different or regular time intervals. In general, a time series is a sequence of data points taken at equally spaced time intervals. The frequency of recorded data points may be hourly, daily, weekly, monthly, quarterly or annually.\n",
        "Time-Series Forecasting is the process of using a statistical model to predict future values of a time-series based on past results.\n",
        "A time series analysis encompasses statistical methods for analyzing time series data. These methods enable us to extract meaningful statistics, patterns and other characteristics of the data. Time series are visualized with the help of line charts. So, time series analysis involves understanding inherent aspects of the time series data so that we can create meaningful and accurate forecasts.\n",
        "Applications of time series are used in statistics, finance or business applications. A very common example of time series data is the daily closing value of the stock index like NASDAQ or Dow Jones. Other common applications of time series are sales and demand forecasting, weather forecasting, econometrics, signal processing, pattern recognition and earthquake prediction.\n",
        "Components of a Time-Series\n",
        "Trend - The trend shows a general direction of the time series data over a long period of time. A trend can be increasing(upward), decreasing(downward), or horizontal(stationary).\n",
        "Seasonality - The seasonality component exhibits a trend that repeats with respect to timing, direction, and magnitude. Some examples include an increase in water consumption in summer due to hot weather conditions.\n",
        "Cyclical Component - These are the trends with no set repetition over a particular period of time. A cycle refers to the period of ups and downs, booms and slums of a time series, mostly observed in business cycles. These cycles do not exhibit a seasonal variation but generally occur over a time period of 3 to 12 years depending on the nature of the time series.\n",
        "Irregular Variation - These are the fluctuations in the time series data which become evident when trend and cyclical variations are removed. These variations are unpredictable, erratic, and may or may not be random.\n",
        "ETS Decomposition - ETS Decomposition is used to separate different components of a time series. The term ETS stands for Error, Trend and Seasonality.\n",
        "In this notebook, I conduct time series analysis of video game sales over time.\n",
        "\n",
        "\n",
        "2. Types of data\n",
        "\n",
        "\n",
        "As stated above, the time series analysis is the statistical analysis of the time series data. A time series data means that data is recorded at different time periods or intervals. The time series data may be of three types:-\n",
        "\n",
        "1 Time series data - The observations of the values of a variable recorded at different points in time is called time series data.\n",
        "\n",
        "2 Cross sectional data - It is the data of one or more variables recorded at the same point in time.\n",
        "\n",
        "3 Pooled data- It is the combination of time series data and cross sectional data.\n",
        "\n",
        "3. Time Series terminology\n",
        "Table of Contents\n",
        "\n",
        "There are various terms and concepts in time series that we should know. These are as follows:-\n",
        "\n",
        "1 Dependence- It refers to the association of two observations of the same variable at prior time periods.\n",
        "\n",
        "2 Stationarity- It shows the mean value of the series that remains constant over the time period. If past effects accumulate and the values increase towards infinity then stationarity is not met.\n",
        "\n",
        "3 Differencing- Differencing is used to make the series stationary and to control the auto-correlations. There may be some cases in time series analyses where we do not require differencing and over-differenced series can produce wrong estimates.\n",
        "\n",
        "4 Specification - It may involve the testing of the linear or non-linear relationships of dependent variables by using time series models such as ARIMA models.\n",
        "\n",
        "5 Exponential Smoothing - Exponential smoothing in time series analysis predicts the one next period value based on the past and current value. It involves averaging of data such that the non-systematic components of each individual case or observation cancel out each other. The exponential smoothing method is used to predict the short term prediction.\n",
        "\n",
        "6 Curve fitting - Curve fitting regression in time series analysis is used when data is in a non-linear relationship.\n",
        "\n",
        "7 ARIMA - ARIMA stands for Auto Regressive Integrated Moving Average.\n",
        "\n",
        "4. Time Series Analysis\n",
        "\n",
        "\n",
        "4.1 Basic set up"
      ],
      "metadata": {
        "id": "ECp65BNsolGo"
      }
    },
    {
      "cell_type": "code",
      "execution_count": null,
      "metadata": {
        "id": "3G55I0x9oRej"
      },
      "outputs": [],
      "source": []
    }
  ]
}