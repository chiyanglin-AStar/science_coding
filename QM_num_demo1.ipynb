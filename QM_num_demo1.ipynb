{
  "nbformat": 4,
  "nbformat_minor": 0,
  "metadata": {
    "colab": {
      "provenance": [],
      "authorship_tag": "ABX9TyO5z6DcQU7E+9YvOnv7ky0Z",
      "include_colab_link": true
    },
    "kernelspec": {
      "name": "python3",
      "display_name": "Python 3"
    },
    "language_info": {
      "name": "python"
    }
  },
  "cells": [
    {
      "cell_type": "markdown",
      "metadata": {
        "id": "view-in-github",
        "colab_type": "text"
      },
      "source": [
        "<a href=\"https://colab.research.google.com/github/chiyanglin-AStar/science_coding/blob/main/QM_num_demo1.ipynb\" target=\"_parent\"><img src=\"https://colab.research.google.com/assets/colab-badge.svg\" alt=\"Open In Colab\"/></a>"
      ]
    },
    {
      "cell_type": "markdown",
      "source": [
        "# Numerical Methods of Quantum Mechanics"
      ],
      "metadata": {
        "id": "QgCDc5CK1lrK"
      }
    },
    {
      "cell_type": "markdown",
      "source": [
        "Sure, let’s go over how each of these methods could be applied to the hydrogen atom (or, more precisely, a simplified hydrogen-like atom model). The hydrogen atom is a single electron in the Coulomb field of a proton, which makes it a great example to demonstrate quantum mechanical simulation methods.\n",
        "\n",
        "To make this accessible, I'll simplify the problem by focusing on the electron in a fixed Coulomb potential (ignoring the nucleus's movement). We can explore the **ground-state** properties and **time evolution** of the electron in the hydrogen atom potential, $V(r) = -\\frac{e^2}{4 \\pi \\epsilon_0 r}$, where $e$ is the electron charge, $\\epsilon_0$ is the permittivity, and $r$ is the distance from the nucleus.\n",
        "\n",
        "For simplicity, let’s break it down with each method.\n"
      ],
      "metadata": {
        "id": "K_beeMeX17EA"
      }
    },
    {
      "cell_type": "markdown",
      "source": [
        "### 1. **Matrix Methods**\n",
        "\n",
        "Using matrix methods for the hydrogen atom involves representing the **Hamiltonian** as a matrix and solving for the **eigenvalues** and **eigenvectors**, which correspond to the energy levels and stationary states of the electron.\n",
        "\n",
        "#### Key Steps:\n",
        "1. **Discretize** the radial part of the wavefunction (1D in $r$) or full 3D space.\n",
        "2. **Construct the Hamiltonian** matrix, which includes the kinetic and potential energy terms.\n",
        "3. Use **matrix diagonalization** to find the eigenvalues (energies) and eigenvectors (wavefunctions).\n",
        "\n",
        "Here’s a basic pseudocode outline in Python:"
      ],
      "metadata": {
        "id": "AnqIg2Q32bL4"
      }
    },
    {
      "cell_type": "code",
      "execution_count": null,
      "metadata": {
        "id": "5hyqrhIv1j2C"
      },
      "outputs": [],
      "source": []
    }
  ]
}