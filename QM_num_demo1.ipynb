{
  "nbformat": 4,
  "nbformat_minor": 0,
  "metadata": {
    "colab": {
      "provenance": [],
      "authorship_tag": "ABX9TyPJa1/fMn2fV/SvXJQgEtFT",
      "include_colab_link": true
    },
    "kernelspec": {
      "name": "python3",
      "display_name": "Python 3"
    },
    "language_info": {
      "name": "python"
    }
  },
  "cells": [
    {
      "cell_type": "markdown",
      "metadata": {
        "id": "view-in-github",
        "colab_type": "text"
      },
      "source": [
        "<a href=\"https://colab.research.google.com/github/chiyanglin-AStar/science_coding/blob/main/QM_num_demo1.ipynb\" target=\"_parent\"><img src=\"https://colab.research.google.com/assets/colab-badge.svg\" alt=\"Open In Colab\"/></a>"
      ]
    },
    {
      "cell_type": "markdown",
      "source": [
        "# Numerical Methods of Quantum Mechanics"
      ],
      "metadata": {
        "id": "QgCDc5CK1lrK"
      }
    },
    {
      "cell_type": "markdown",
      "source": [
        "Sure, let’s go over how each of these methods could be applied to the hydrogen atom (or, more precisely, a simplified hydrogen-like atom model). The hydrogen atom is a single electron in the Coulomb field of a proton, which makes it a great example to demonstrate quantum mechanical simulation methods.\n",
        "\n",
        "To make this accessible, I'll simplify the problem by focusing on the electron in a fixed Coulomb potential (ignoring the nucleus's movement). We can explore the **ground-state** properties and **time evolution** of the electron in the hydrogen atom potential, $V(r) = -\\frac{e^2}{4 \\pi \\epsilon_0 r}$, where $e$ is the electron charge, $\\epsilon_0$ is the permittivity, and $r$ is the distance from the nucleus.\n",
        "\n",
        "For simplicity, let’s break it down with each method.\n"
      ],
      "metadata": {
        "id": "K_beeMeX17EA"
      }
    },
    {
      "cell_type": "markdown",
      "source": [
        "### 1. **Matrix Methods**\n",
        "\n",
        "Using matrix methods for the hydrogen atom involves representing the **Hamiltonian** as a matrix and solving for the **eigenvalues** and **eigenvectors**, which correspond to the energy levels and stationary states of the electron.\n",
        "\n",
        "#### Key Steps:\n",
        "1. **Discretize** the radial part of the wavefunction (1D in $r$) or full 3D space.\n",
        "2. **Construct the Hamiltonian** matrix, which includes the kinetic and potential energy terms.\n",
        "3. Use **matrix diagonalization** to find the eigenvalues (energies) and eigenvectors (wavefunctions).\n",
        "\n",
        "Here’s a basic pseudocode outline in Python:"
      ],
      "metadata": {
        "id": "AnqIg2Q32bL4"
      }
    },
    {
      "cell_type": "code",
      "source": [
        "import numpy as np\n",
        "from scipy.linalg import eigh  # For matrix diagonalization\n",
        "\n",
        "# Constants (simplified)\n",
        "num_points = 100  # Number of points in the radial direction\n",
        "r_max = 20.0      # Max radius to consider\n",
        "dr = r_max / num_points\n",
        "r = np.linspace(dr, r_max, num_points)\n",
        "\n",
        "# Constructing the Hamiltonian matrix\n",
        "kinetic = np.diag(-2 * np.ones(num_points)) + np.diag(np.ones(num_points - 1), 1) + np.diag(np.ones(num_points - 1), -1)\n",
        "kinetic = -kinetic / (2 * dr**2)  # Discrete Laplacian for kinetic energy\n",
        "\n",
        "potential = -1 / r  # Coulomb potential, V(r) = -1/r\n",
        "potential = np.diag(potential)\n",
        "\n",
        "# Hamiltonian matrix\n",
        "H = kinetic + potential\n",
        "\n",
        "# Solve for eigenvalues and eigenvectors\n",
        "eigenvalues, eigenvectors = eigh(H)\n",
        "print(\"Ground-state energy:\", eigenvalues[0])\n",
        "print(\"Ground-state wavefunction:\", eigenvectors[:, 0])"
      ],
      "metadata": {
        "id": "1ZYaPTuY8FSa"
      },
      "execution_count": null,
      "outputs": []
    },
    {
      "cell_type": "markdown",
      "source": [
        "This code finds the ground state energy and wavefunction by diagonalizing the Hamiltonian matrix. The ground state should approximate \\(-13.6\\ \\text{eV}\\), the known ground-state energy of the hydrogen atom."
      ],
      "metadata": {
        "id": "FuFxl0Gi8JH5"
      }
    },
    {
      "cell_type": "markdown",
      "source": [
        "### 2. **Wavefunction Methods**\n",
        "\n",
        "Wavefunction methods involve solving the **time-dependent Schrödinger equation** for the hydrogen atom. This is challenging because the Coulomb potential creates non-trivial radial dependencies, but we can still get approximate results in 1D.\n",
        "\n",
        "A simple approach is to use a **finite-difference time-dependent Schrödinger equation (TDSE)** solver.\n",
        "\n",
        "#### Key Steps:\n",
        "1. Initialize a wavefunction (e.g., in the ground state or another initial guess).\n",
        "2. Use a **finite difference** or **Crank-Nicolson** method to iteratively solve the TDSE over small time steps.\n",
        "\n",
        "Here’s a rough outline of how you might simulate time evolution:\n"
      ],
      "metadata": {
        "id": "ROBl82by7x8A"
      }
    }
  ]
}