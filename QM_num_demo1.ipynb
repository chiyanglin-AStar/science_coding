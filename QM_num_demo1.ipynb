{
  "nbformat": 4,
  "nbformat_minor": 0,
  "metadata": {
    "colab": {
      "provenance": [],
      "authorship_tag": "ABX9TyOtkryR7CXdZ6BZOo92PCbN",
      "include_colab_link": true
    },
    "kernelspec": {
      "name": "python3",
      "display_name": "Python 3"
    },
    "language_info": {
      "name": "python"
    }
  },
  "cells": [
    {
      "cell_type": "markdown",
      "metadata": {
        "id": "view-in-github",
        "colab_type": "text"
      },
      "source": [
        "<a href=\"https://colab.research.google.com/github/chiyanglin-AStar/science_coding/blob/main/QM_num_demo1.ipynb\" target=\"_parent\"><img src=\"https://colab.research.google.com/assets/colab-badge.svg\" alt=\"Open In Colab\"/></a>"
      ]
    },
    {
      "cell_type": "markdown",
      "source": [
        "# Numerical Methods of Quantum Mechanics"
      ],
      "metadata": {
        "id": "QgCDc5CK1lrK"
      }
    },
    {
      "cell_type": "markdown",
      "source": [
        "Sure, let’s go over how each of these methods could be applied to the hydrogen atom (or, more precisely, a simplified hydrogen-like atom model). The hydrogen atom is a single electron in the Coulomb field of a proton, which makes it a great example to demonstrate quantum mechanical simulation methods.\n",
        "\n",
        "To make this accessible, I'll simplify the problem by focusing on the electron in a fixed Coulomb potential (ignoring the nucleus's movement). We can explore the **ground-state** properties and **time evolution** of the electron in the hydrogen atom potential, $V(r) = -\\frac{e^2}{4 \\pi \\epsilon_0 r}$, where $e$ is the electron charge, $\\epsilon_0$ is the permittivity, and $r$ is the distance from the nucleus.\n",
        "\n",
        "For simplicity, let’s break it down with each method.\n"
      ],
      "metadata": {
        "id": "K_beeMeX17EA"
      }
    },
    {
      "cell_type": "markdown",
      "source": [
        "### 1. **Matrix Methods**\n",
        "\n",
        "Using matrix methods for the hydrogen atom involves representing the **Hamiltonian** as a matrix and solving for the **eigenvalues** and **eigenvectors**, which correspond to the energy levels and stationary states of the electron.\n",
        "\n",
        "#### Key Steps:\n",
        "1. **Discretize** the radial part of the wavefunction (1D in $r$) or full 3D space.\n",
        "2. **Construct the Hamiltonian** matrix, which includes the kinetic and potential energy terms.\n",
        "3. Use **matrix diagonalization** to find the eigenvalues (energies) and eigenvectors (wavefunctions).\n",
        "\n",
        "Here’s a basic pseudocode outline in Python:"
      ],
      "metadata": {
        "id": "AnqIg2Q32bL4"
      }
    },
    {
      "cell_type": "code",
      "source": [
        "import numpy as np\n",
        "from scipy.linalg import eigh  # For matrix diagonalization\n",
        "\n",
        "# Constants (simplified)\n",
        "num_points = 100  # Number of points in the radial direction\n",
        "r_max = 20.0      # Max radius to consider\n",
        "dr = r_max / num_points\n",
        "r = np.linspace(dr, r_max, num_points)\n",
        "\n",
        "# Constructing the Hamiltonian matrix\n",
        "kinetic = np.diag(-2 * np.ones(num_points)) + np.diag(np.ones(num_points - 1), 1) + np.diag(np.ones(num_points - 1), -1)\n",
        "kinetic = -kinetic / (2 * dr**2)  # Discrete Laplacian for kinetic energy\n",
        "\n",
        "potential = -1 / r  # Coulomb potential, V(r) = -1/r\n",
        "potential = np.diag(potential)\n",
        "\n",
        "# Hamiltonian matrix\n",
        "H = kinetic + potential\n",
        "\n",
        "# Solve for eigenvalues and eigenvectors\n",
        "eigenvalues, eigenvectors = eigh(H)\n",
        "print(\"Ground-state energy:\", eigenvalues[0])\n",
        "print(\"Ground-state wavefunction:\", eigenvectors[:, 0])"
      ],
      "metadata": {
        "id": "1ZYaPTuY8FSa"
      },
      "execution_count": null,
      "outputs": []
    },
    {
      "cell_type": "markdown",
      "source": [
        "This code finds the ground state energy and wavefunction by diagonalizing the Hamiltonian matrix. The ground state should approximate \\(-13.6\\ \\text{eV}\\), the known ground-state energy of the hydrogen atom."
      ],
      "metadata": {
        "id": "FuFxl0Gi8JH5"
      }
    },
    {
      "cell_type": "markdown",
      "source": [
        "### 2. **Wavefunction Methods**\n",
        "\n",
        "Wavefunction methods involve solving the **time-dependent Schrödinger equation** for the hydrogen atom. This is challenging because the Coulomb potential creates non-trivial radial dependencies, but we can still get approximate results in 1D.\n",
        "\n",
        "A simple approach is to use a **finite-difference time-dependent Schrödinger equation (TDSE)** solver.\n",
        "\n",
        "#### Key Steps:\n",
        "1. Initialize a wavefunction (e.g., in the ground state or another initial guess).\n",
        "2. Use a **finite difference** or **Crank-Nicolson** method to iteratively solve the TDSE over small time steps.\n",
        "\n",
        "Here’s a rough outline of how you might simulate time evolution:\n"
      ],
      "metadata": {
        "id": "ROBl82by7x8A"
      }
    },
    {
      "cell_type": "markdown",
      "source": [
        "## 3. **Density Matrix Methods**\n",
        "\n",
        "The **density matrix** is useful for studying open quantum systems or mixed states, but we can also use it for the hydrogen atom to calculate **observable properties** or track decoherence effects.\n",
        "\n",
        "#### Key Steps:\n",
        "1. Create the initial density matrix, $\\rho = |\\psi\\rangle \\langle \\psi|$, where $\\psi$ is the ground-state wavefunction.\n",
        "2. Evolve $\\rho$ over time using $\\rho(t) = U \\rho U^\\dagger$, where $U$ is the time-evolution operator.\n",
        "3. Calculate properties like expected energy from $\\text{Tr}(\\rho H)$.\n",
        "\n",
        "Example pseudocode:"
      ],
      "metadata": {
        "id": "KmSXWiDnV-ff"
      }
    },
    {
      "cell_type": "code",
      "source": [
        "# Construct initial density matrix for the ground state\n",
        "rho_0 = np.outer(eigenvectors[:, 0], np.conj(eigenvectors[:, 0]))\n",
        "\n",
        "# Time evolution of density matrix using U = exp(-i * H * dt)\n",
        "from scipy.linalg import expm\n",
        "U = expm(-1j * H * dt)  # Time evolution operator\n",
        "\n",
        "# Evolve the density matrix over time\n",
        "rho_t = U @ rho_0 @ U.conj().T  # After one time step, repeat for longer evolution\n",
        "\n",
        "# Calculate the expected energy\n",
        "expected_energy = np.trace(rho_t @ H)\n",
        "print(\"Expected energy:\", expected_energy)"
      ],
      "metadata": {
        "id": "ugK2XJv5WHtI"
      },
      "execution_count": null,
      "outputs": []
    },
    {
      "cell_type": "markdown",
      "source": [
        "This example evolves the density matrix over one time step and calculates the expected energy. In practice, you would evolve over more time steps."
      ],
      "metadata": {
        "id": "LB-DKpo3WKQX"
      }
    },
    {
      "cell_type": "markdown",
      "source": [
        "### 4. **Monte Carlo Methods**\n",
        "\n",
        "Monte Carlo methods can approximate the **ground-state energy** or simulate properties using **random sampling**. For example, Quantum Monte Carlo (QMC) techniques are often used for more complex atomic systems, but here’s a basic example to estimate the ground state of the hydrogen atom using **Variational Monte Carlo (VMC)**.\n",
        "\n",
        "#### Key Steps:\n",
        "1. Choose a **trial wavefunction**, e.g., a simple 1s orbital \\(\\psi(r) = e^{-\\alpha r}\\), with variational parameter \\(\\alpha\\).\n",
        "2. Use **Metropolis sampling** to compute the **expectation value of the energy** with respect to the trial wavefunction.\n",
        "3. Optimize \\(\\alpha\\) to minimize the energy."
      ],
      "metadata": {
        "id": "8gKzTobWWTb3"
      }
    },
    {
      "cell_type": "code",
      "source": [
        "import random\n",
        "\n",
        "# Trial wavefunction and local energy\n",
        "def trial_wavefunction(r, alpha):\n",
        "    return np.exp(-alpha * r)\n",
        "\n",
        "def local_energy(r, alpha):\n",
        "    return -alpha**2 / 2 + alpha / r  # Simplified energy of 1s orbital\n",
        "\n",
        "# Parameters\n",
        "alpha = 1.0  # Initial guess for alpha\n",
        "num_samples = 10000  # Number of samples\n",
        "\n",
        "# Monte Carlo sampling\n",
        "energy_samples = []\n",
        "for _ in range(num_samples):\n",
        "    # Sample r using trial wavefunction as the probability distribution\n",
        "    r = -np.log(1 - random.random()) / alpha  # Sample r based on exponential distribution\n",
        "\n",
        "    # Calculate local energy and accumulate\n",
        "    energy_samples.append(local_energy(r, alpha))\n",
        "\n",
        "# Calculate average energy\n",
        "average_energy = np.mean(energy_samples)\n",
        "print(\"Estimated ground-state energy:\", average_energy)"
      ],
      "metadata": {
        "id": "YooGasnxWmhg"
      },
      "execution_count": null,
      "outputs": []
    },
    {
      "cell_type": "markdown",
      "source": [
        "This code approximates the ground-state energy by averaging the local energy of the hydrogen atom across many random samples. With a correctly chosen trial function and optimized $\\alpha$, it should approximate the correct energy."
      ],
      "metadata": {
        "id": "HKq8yo9TWsy-"
      }
    },
    {
      "cell_type": "markdown",
      "source": [
        "### Summary\n",
        "\n",
        "Here's how each method approaches the hydrogen atom problem:\n",
        "\n",
        "- **Matrix Methods**: Discretize the Hamiltonian, build a matrix representation, and use matrix diagonalization to find the energy levels and wavefunctions.\n",
        "- **Wavefunction Methods**: Use time-dependent methods to evolve a wavefunction directly.\n",
        "- **Density Matrix Methods**: Use the density matrix formalism to evolve the state and compute properties, suitable for mixed states or open quantum systems.\n",
        "- **Monte Carlo Methods**: Use sampling techniques (such as Variational Monte Carlo) to estimate ground-state properties by minimizing the energy with respect to a trial wavefunction.\n",
        "\n",
        "These approaches require more sophistication to handle the full 3D hydrogen atom, but they illustrate the principles involved. Let me know if you'd like more details on any specific method!"
      ],
      "metadata": {
        "id": "ogTP4IotXB0-"
      }
    },
    {
      "cell_type": "markdown",
      "source": [],
      "metadata": {
        "id": "NU1k0vG_WfZW"
      }
    }
  ]
}