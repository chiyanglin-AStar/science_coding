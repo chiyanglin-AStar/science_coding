{
  "nbformat": 4,
  "nbformat_minor": 0,
  "metadata": {
    "colab": {
      "provenance": [],
      "authorship_tag": "ABX9TyPK6bmGRfqF4imVb1z16xGK",
      "include_colab_link": true
    },
    "kernelspec": {
      "name": "python3",
      "display_name": "Python 3"
    },
    "language_info": {
      "name": "python"
    }
  },
  "cells": [
    {
      "cell_type": "markdown",
      "metadata": {
        "id": "view-in-github",
        "colab_type": "text"
      },
      "source": [
        "<a href=\"https://colab.research.google.com/github/chiyanglin-AStar/science_coding/blob/main/fenics_ex0.ipynb\" target=\"_parent\"><img src=\"https://colab.research.google.com/assets/colab-badge.svg\" alt=\"Open In Colab\"/></a>"
      ]
    },
    {
      "cell_type": "code",
      "source": [
        "! pip install fenics"
      ],
      "metadata": {
        "colab": {
          "base_uri": "https://localhost:8080/"
        },
        "id": "dtSQxMT-ua4r",
        "outputId": "d50b609f-006d-4b09-e8f9-d298ab2fc119"
      },
      "execution_count": 1,
      "outputs": [
        {
          "output_type": "stream",
          "name": "stdout",
          "text": [
            "Collecting fenics\n",
            "  Downloading fenics-2019.1.0-py3-none-any.whl.metadata (1.5 kB)\n",
            "Collecting fenics-ffc<2019.2,>=2019.1.0 (from fenics)\n",
            "  Downloading fenics_ffc-2019.1.0.post0-py3-none-any.whl.metadata (1.6 kB)\n",
            "Collecting fenics-fiat<2019.2,>=2019.1.0 (from fenics)\n",
            "  Downloading fenics_fiat-2019.1.0-py3-none-any.whl.metadata (420 bytes)\n",
            "Collecting fenics-ufl<2019.2,>=2019.1.0 (from fenics)\n",
            "  Downloading fenics_ufl-2019.1.0-py3-none-any.whl.metadata (1.1 kB)\n",
            "Collecting fenics-dijitso<2019.2,>=2019.1.0 (from fenics)\n",
            "  Downloading fenics_dijitso-2019.1.0-py3-none-any.whl.metadata (1.2 kB)\n",
            "Requirement already satisfied: numpy in /usr/local/lib/python3.10/dist-packages (from fenics-dijitso<2019.2,>=2019.1.0->fenics) (1.26.4)\n",
            "Requirement already satisfied: sympy in /usr/local/lib/python3.10/dist-packages (from fenics-fiat<2019.2,>=2019.1.0->fenics) (1.13.1)\n",
            "Requirement already satisfied: mpmath<1.4,>=1.1.0 in /usr/local/lib/python3.10/dist-packages (from sympy->fenics-fiat<2019.2,>=2019.1.0->fenics) (1.3.0)\n",
            "Downloading fenics-2019.1.0-py3-none-any.whl (1.5 kB)\n",
            "Downloading fenics_dijitso-2019.1.0-py3-none-any.whl (46 kB)\n",
            "\u001b[2K   \u001b[90m━━━━━━━━━━━━━━━━━━━━━━━━━━━━━━━━━━━━━━━━\u001b[0m \u001b[32m46.7/46.7 kB\u001b[0m \u001b[31m1.3 MB/s\u001b[0m eta \u001b[36m0:00:00\u001b[0m\n",
            "\u001b[?25hDownloading fenics_ffc-2019.1.0.post0-py3-none-any.whl (362 kB)\n",
            "\u001b[2K   \u001b[90m━━━━━━━━━━━━━━━━━━━━━━━━━━━━━━━━━━━━━━━━\u001b[0m \u001b[32m363.0/363.0 kB\u001b[0m \u001b[31m20.3 MB/s\u001b[0m eta \u001b[36m0:00:00\u001b[0m\n",
            "\u001b[?25hDownloading fenics_fiat-2019.1.0-py3-none-any.whl (112 kB)\n",
            "\u001b[2K   \u001b[90m━━━━━━━━━━━━━━━━━━━━━━━━━━━━━━━━━━━━━━━━\u001b[0m \u001b[32m112.5/112.5 kB\u001b[0m \u001b[31m8.2 MB/s\u001b[0m eta \u001b[36m0:00:00\u001b[0m\n",
            "\u001b[?25hDownloading fenics_ufl-2019.1.0-py3-none-any.whl (282 kB)\n",
            "\u001b[2K   \u001b[90m━━━━━━━━━━━━━━━━━━━━━━━━━━━━━━━━━━━━━━━━\u001b[0m \u001b[32m282.7/282.7 kB\u001b[0m \u001b[31m17.2 MB/s\u001b[0m eta \u001b[36m0:00:00\u001b[0m\n",
            "\u001b[?25hInstalling collected packages: fenics-ufl, fenics-dijitso, fenics-fiat, fenics-ffc, fenics\n",
            "Successfully installed fenics-2019.1.0 fenics-dijitso-2019.1.0 fenics-ffc-2019.1.0.post0 fenics-fiat-2019.1.0 fenics-ufl-2019.1.0\n"
          ]
        }
      ]
    },
    {
      "cell_type": "code",
      "source": [
        "!sudo add-apt-repository ppa:fenics-packages/fenics\n",
        "!sudo apt update\n",
        "\n",
        "!sudo apt install fenicsx"
      ],
      "metadata": {
        "colab": {
          "base_uri": "https://localhost:8080/"
        },
        "id": "AlVtCGPOvOfT",
        "outputId": "21b0739d-b6a0-450d-f2e0-9d625a06607f"
      },
      "execution_count": 4,
      "outputs": [
        {
          "output_type": "stream",
          "name": "stdout",
          "text": [
            "Repository: 'deb https://ppa.launchpadcontent.net/fenics-packages/fenics/ubuntu/ jammy main'\n",
            "Description:\n",
            "This PPA provides packages for the FEniCS project (https://fenicsproject.org).\n",
            "More info: https://launchpad.net/~fenics-packages/+archive/ubuntu/fenics\n",
            "Adding repository.\n",
            "Press [ENTER] to continue or Ctrl-c to cancel.Traceback (most recent call last):\n",
            "  File \"/usr/bin/add-apt-repository\", line 132, in prompt_user\n",
            "    input(_(\"Press [ENTER] to continue or Ctrl-c to cancel.\"))\n",
            "KeyboardInterrupt\n",
            "\n",
            "During handling of the above exception, another exception occurred:\n",
            "\n",
            "Traceback (most recent call last):\n",
            "  File \"/usr/bin/add-apt-repository\", line 364, in <module>\n",
            "    sys.exit(0 if addaptrepo.main() else 1)\n",
            "  File \"/usr/bin/add-apt-repository\", line 352, in main\n",
            "    self.prompt_user_shortcut(shortcut)\n",
            "  File \"/usr/bin/add-apt-repository\", line 152, in prompt_user_shortcut\n",
            "    self.prompt_user()\n",
            "  File \"/usr/bin/add-apt-repository\", line 132, in prompt_user\n",
            "    input(_(\"Press [ENTER] to continue or Ctrl-c to cancel.\"))\n",
            "KeyboardInterrupt\n",
            "^C\n",
            "Get:1 http://security.ubuntu.com/ubuntu jammy-security InRelease [129 kB]\n",
            "Hit:2 http://archive.ubuntu.com/ubuntu jammy InRelease\n",
            "Get:3 http://archive.ubuntu.com/ubuntu jammy-updates InRelease [128 kB]\n",
            "Get:4 https://cloud.r-project.org/bin/linux/ubuntu jammy-cran40/ InRelease [3,626 B]\n",
            "Get:5 http://archive.ubuntu.com/ubuntu jammy-backports InRelease [127 kB]\n",
            "Get:6 https://developer.download.nvidia.com/compute/cuda/repos/ubuntu2204/x86_64  InRelease [1,581 B]\n",
            "Hit:7 https://ppa.launchpadcontent.net/deadsnakes/ppa/ubuntu jammy InRelease\n",
            "Hit:8 https://ppa.launchpadcontent.net/graphics-drivers/ppa/ubuntu jammy InRelease\n",
            "Hit:9 https://ppa.launchpadcontent.net/ubuntugis/ppa/ubuntu jammy InRelease\n",
            "Get:10 http://security.ubuntu.com/ubuntu jammy-security/universe amd64 Packages [1,223 kB]\n",
            "Get:11 https://r2u.stat.illinois.edu/ubuntu jammy InRelease [6,555 B]\n",
            "Get:12 http://security.ubuntu.com/ubuntu jammy-security/restricted amd64 Packages [3,323 kB]\n",
            "Get:13 http://security.ubuntu.com/ubuntu jammy-security/main amd64 Packages [2,452 kB]\n",
            "Get:14 http://archive.ubuntu.com/ubuntu jammy-updates/universe amd64 Packages [1,512 kB]\n",
            "Get:15 http://archive.ubuntu.com/ubuntu jammy-updates/main amd64 Packages [2,734 kB]\n",
            "Get:16 https://developer.download.nvidia.com/compute/cuda/repos/ubuntu2204/x86_64  Packages [1,172 kB]\n",
            "Get:17 https://r2u.stat.illinois.edu/ubuntu jammy/main amd64 Packages [2,618 kB]\n",
            "Get:18 https://r2u.stat.illinois.edu/ubuntu jammy/main all Packages [8,502 kB]\n",
            "Fetched 23.9 MB in 3s (6,907 kB/s)\n",
            "Reading package lists... Done\n",
            "Building dependency tree... Done\n",
            "Reading state information... Done\n",
            "49 packages can be upgraded. Run 'apt list --upgradable' to see them.\n",
            "\u001b[1;33mW: \u001b[0mSkipping acquire of configured file 'main/source/Sources' as repository 'https://r2u.stat.illinois.edu/ubuntu jammy InRelease' does not seem to provide it (sources.list entry misspelt?)\u001b[0m\n",
            "Reading package lists... Done\n",
            "Building dependency tree... Done\n",
            "Reading state information... Done\n",
            "\u001b[1;31mE: \u001b[0mUnable to locate package fenicsx\u001b[0m\n"
          ]
        }
      ]
    },
    {
      "cell_type": "code",
      "source": [
        "!conda create -n fenics-env -c conda-forge fenics matplotlib\n",
        "!conda activate fenics-env"
      ],
      "metadata": {
        "colab": {
          "base_uri": "https://localhost:8080/"
        },
        "id": "iCEjLS4awurH",
        "outputId": "5baa06b5-39d0-41f4-efa9-b6dc6c713d77"
      },
      "execution_count": 5,
      "outputs": [
        {
          "output_type": "stream",
          "name": "stdout",
          "text": [
            "/bin/bash: line 1: conda: command not found\n",
            "/bin/bash: line 1: conda: command not found\n"
          ]
        }
      ]
    },
    {
      "cell_type": "code",
      "source": [
        "!pip install fenics matplotlib"
      ],
      "metadata": {
        "colab": {
          "base_uri": "https://localhost:8080/"
        },
        "id": "6-EV4LCjxaQz",
        "outputId": "aca35409-49c0-4d34-f035-6ea446a37c67"
      },
      "execution_count": 1,
      "outputs": [
        {
          "output_type": "stream",
          "name": "stdout",
          "text": [
            "Collecting fenics\n",
            "  Downloading fenics-2019.1.0-py3-none-any.whl.metadata (1.5 kB)\n",
            "Requirement already satisfied: matplotlib in /usr/local/lib/python3.10/dist-packages (3.8.0)\n",
            "Collecting fenics-ffc<2019.2,>=2019.1.0 (from fenics)\n",
            "  Downloading fenics_ffc-2019.1.0.post0-py3-none-any.whl.metadata (1.6 kB)\n",
            "Collecting fenics-fiat<2019.2,>=2019.1.0 (from fenics)\n",
            "  Downloading fenics_fiat-2019.1.0-py3-none-any.whl.metadata (420 bytes)\n",
            "Collecting fenics-ufl<2019.2,>=2019.1.0 (from fenics)\n",
            "  Downloading fenics_ufl-2019.1.0-py3-none-any.whl.metadata (1.1 kB)\n",
            "Collecting fenics-dijitso<2019.2,>=2019.1.0 (from fenics)\n",
            "  Downloading fenics_dijitso-2019.1.0-py3-none-any.whl.metadata (1.2 kB)\n",
            "Requirement already satisfied: contourpy>=1.0.1 in /usr/local/lib/python3.10/dist-packages (from matplotlib) (1.3.1)\n",
            "Requirement already satisfied: cycler>=0.10 in /usr/local/lib/python3.10/dist-packages (from matplotlib) (0.12.1)\n",
            "Requirement already satisfied: fonttools>=4.22.0 in /usr/local/lib/python3.10/dist-packages (from matplotlib) (4.55.0)\n",
            "Requirement already satisfied: kiwisolver>=1.0.1 in /usr/local/lib/python3.10/dist-packages (from matplotlib) (1.4.7)\n",
            "Requirement already satisfied: numpy<2,>=1.21 in /usr/local/lib/python3.10/dist-packages (from matplotlib) (1.26.4)\n",
            "Requirement already satisfied: packaging>=20.0 in /usr/local/lib/python3.10/dist-packages (from matplotlib) (24.2)\n",
            "Requirement already satisfied: pillow>=6.2.0 in /usr/local/lib/python3.10/dist-packages (from matplotlib) (11.0.0)\n",
            "Requirement already satisfied: pyparsing>=2.3.1 in /usr/local/lib/python3.10/dist-packages (from matplotlib) (3.2.0)\n",
            "Requirement already satisfied: python-dateutil>=2.7 in /usr/local/lib/python3.10/dist-packages (from matplotlib) (2.8.2)\n",
            "Requirement already satisfied: sympy in /usr/local/lib/python3.10/dist-packages (from fenics-fiat<2019.2,>=2019.1.0->fenics) (1.13.1)\n",
            "Requirement already satisfied: six>=1.5 in /usr/local/lib/python3.10/dist-packages (from python-dateutil>=2.7->matplotlib) (1.16.0)\n",
            "Requirement already satisfied: mpmath<1.4,>=1.1.0 in /usr/local/lib/python3.10/dist-packages (from sympy->fenics-fiat<2019.2,>=2019.1.0->fenics) (1.3.0)\n",
            "Downloading fenics-2019.1.0-py3-none-any.whl (1.5 kB)\n",
            "Downloading fenics_dijitso-2019.1.0-py3-none-any.whl (46 kB)\n",
            "\u001b[2K   \u001b[90m━━━━━━━━━━━━━━━━━━━━━━━━━━━━━━━━━━━━━━━━\u001b[0m \u001b[32m46.7/46.7 kB\u001b[0m \u001b[31m1.2 MB/s\u001b[0m eta \u001b[36m0:00:00\u001b[0m\n",
            "\u001b[?25hDownloading fenics_ffc-2019.1.0.post0-py3-none-any.whl (362 kB)\n",
            "\u001b[2K   \u001b[90m━━━━━━━━━━━━━━━━━━━━━━━━━━━━━━━━━━━━━━━━\u001b[0m \u001b[32m363.0/363.0 kB\u001b[0m \u001b[31m9.1 MB/s\u001b[0m eta \u001b[36m0:00:00\u001b[0m\n",
            "\u001b[?25hDownloading fenics_fiat-2019.1.0-py3-none-any.whl (112 kB)\n",
            "\u001b[2K   \u001b[90m━━━━━━━━━━━━━━━━━━━━━━━━━━━━━━━━━━━━━━━━\u001b[0m \u001b[32m112.5/112.5 kB\u001b[0m \u001b[31m2.7 MB/s\u001b[0m eta \u001b[36m0:00:00\u001b[0m\n",
            "\u001b[?25hDownloading fenics_ufl-2019.1.0-py3-none-any.whl (282 kB)\n",
            "\u001b[2K   \u001b[90m━━━━━━━━━━━━━━━━━━━━━━━━━━━━━━━━━━━━━━━━\u001b[0m \u001b[32m282.7/282.7 kB\u001b[0m \u001b[31m6.1 MB/s\u001b[0m eta \u001b[36m0:00:00\u001b[0m\n",
            "\u001b[?25hInstalling collected packages: fenics-ufl, fenics-dijitso, fenics-fiat, fenics-ffc, fenics\n",
            "Successfully installed fenics-2019.1.0 fenics-dijitso-2019.1.0 fenics-ffc-2019.1.0.post0 fenics-fiat-2019.1.0 fenics-ufl-2019.1.0\n"
          ]
        }
      ]
    },
    {
      "cell_type": "code",
      "source": [
        "import ffc"
      ],
      "metadata": {
        "id": "C0jnD727kwq1"
      },
      "execution_count": 2,
      "outputs": []
    },
    {
      "cell_type": "code",
      "source": [
        "from fenics import *\n",
        "import matplotlib.pyplot as plt"
      ],
      "metadata": {
        "colab": {
          "base_uri": "https://localhost:8080/",
          "height": 332
        },
        "id": "Rdi96qiEvji6",
        "outputId": "451f1c17-1199-4f7c-ed06-d0b4ce0217b9"
      },
      "execution_count": 3,
      "outputs": [
        {
          "output_type": "error",
          "ename": "ModuleNotFoundError",
          "evalue": "No module named 'fenics'",
          "traceback": [
            "\u001b[0;31m---------------------------------------------------------------------------\u001b[0m",
            "\u001b[0;31mModuleNotFoundError\u001b[0m                       Traceback (most recent call last)",
            "\u001b[0;32m<ipython-input-3-53023e33fa78>\u001b[0m in \u001b[0;36m<cell line: 1>\u001b[0;34m()\u001b[0m\n\u001b[0;32m----> 1\u001b[0;31m \u001b[0;32mfrom\u001b[0m \u001b[0mfenics\u001b[0m \u001b[0;32mimport\u001b[0m \u001b[0;34m*\u001b[0m\u001b[0;34m\u001b[0m\u001b[0;34m\u001b[0m\u001b[0m\n\u001b[0m\u001b[1;32m      2\u001b[0m \u001b[0;32mimport\u001b[0m \u001b[0mmatplotlib\u001b[0m\u001b[0;34m.\u001b[0m\u001b[0mpyplot\u001b[0m \u001b[0;32mas\u001b[0m \u001b[0mplt\u001b[0m\u001b[0;34m\u001b[0m\u001b[0;34m\u001b[0m\u001b[0m\n",
            "\u001b[0;31mModuleNotFoundError\u001b[0m: No module named 'fenics'",
            "",
            "\u001b[0;31m---------------------------------------------------------------------------\u001b[0;32m\nNOTE: If your import is failing due to a missing package, you can\nmanually install dependencies using either !pip or !apt.\n\nTo view examples of installing some common dependencies, click the\n\"Open Examples\" button below.\n\u001b[0;31m---------------------------------------------------------------------------\u001b[0m\n"
          ],
          "errorDetails": {
            "actions": [
              {
                "action": "open_url",
                "actionText": "Open Examples",
                "url": "/notebooks/snippets/importing_libraries.ipynb"
              }
            ]
          }
        }
      ]
    },
    {
      "cell_type": "code",
      "execution_count": 4,
      "metadata": {
        "colab": {
          "base_uri": "https://localhost:8080/",
          "height": 211
        },
        "id": "ADDppiTjuXJr",
        "outputId": "fe706aa0-b347-4955-c246-3d7a82bf64fe"
      },
      "outputs": [
        {
          "output_type": "error",
          "ename": "NameError",
          "evalue": "name 'RectangleMesh' is not defined",
          "traceback": [
            "\u001b[0;31m---------------------------------------------------------------------------\u001b[0m",
            "\u001b[0;31mNameError\u001b[0m                                 Traceback (most recent call last)",
            "\u001b[0;32m<ipython-input-4-5b7f8f9a3135>\u001b[0m in \u001b[0;36m<cell line: 6>\u001b[0;34m()\u001b[0m\n\u001b[1;32m      4\u001b[0m \u001b[0;31m# Step 1: Define the geometry and mesh\u001b[0m\u001b[0;34m\u001b[0m\u001b[0;34m\u001b[0m\u001b[0m\n\u001b[1;32m      5\u001b[0m \u001b[0mlength\u001b[0m\u001b[0;34m,\u001b[0m \u001b[0mwidth\u001b[0m \u001b[0;34m=\u001b[0m \u001b[0;36m4.0\u001b[0m\u001b[0;34m,\u001b[0m \u001b[0;36m1.0\u001b[0m  \u001b[0;31m# Length and width of the artery\u001b[0m\u001b[0;34m\u001b[0m\u001b[0;34m\u001b[0m\u001b[0m\n\u001b[0;32m----> 6\u001b[0;31m \u001b[0mmesh\u001b[0m \u001b[0;34m=\u001b[0m \u001b[0mRectangleMesh\u001b[0m\u001b[0;34m(\u001b[0m\u001b[0mPoint\u001b[0m\u001b[0;34m(\u001b[0m\u001b[0;36m0\u001b[0m\u001b[0;34m,\u001b[0m \u001b[0;36m0\u001b[0m\u001b[0;34m)\u001b[0m\u001b[0;34m,\u001b[0m \u001b[0mPoint\u001b[0m\u001b[0;34m(\u001b[0m\u001b[0mlength\u001b[0m\u001b[0;34m,\u001b[0m \u001b[0mwidth\u001b[0m\u001b[0;34m)\u001b[0m\u001b[0;34m,\u001b[0m \u001b[0;36m40\u001b[0m\u001b[0;34m,\u001b[0m \u001b[0;36m10\u001b[0m\u001b[0;34m)\u001b[0m\u001b[0;34m\u001b[0m\u001b[0;34m\u001b[0m\u001b[0m\n\u001b[0m\u001b[1;32m      7\u001b[0m \u001b[0;34m\u001b[0m\u001b[0m\n\u001b[1;32m      8\u001b[0m \u001b[0;31m# Step 2: Define the function spaces\u001b[0m\u001b[0;34m\u001b[0m\u001b[0;34m\u001b[0m\u001b[0m\n",
            "\u001b[0;31mNameError\u001b[0m: name 'RectangleMesh' is not defined"
          ]
        }
      ],
      "source": [
        "#from fenics import *\n",
        "import matplotlib.pyplot as plt\n",
        "\n",
        "# Step 1: Define the geometry and mesh\n",
        "length, width = 4.0, 1.0  # Length and width of the artery\n",
        "mesh = RectangleMesh(Point(0, 0), Point(length, width), 40, 10)\n",
        "\n",
        "# Step 2: Define the function spaces\n",
        "V = VectorFunctionSpace(mesh, 'P', 2)  # Velocity space\n",
        "Q = FunctionSpace(mesh, 'P', 1)        # Pressure space\n",
        "W = MixedFunctionSpace([V, Q])         # Combined space for velocity and pressure\n",
        "\n",
        "# Step 3: Define the problem variables\n",
        "u, p = TrialFunctions(W)  # Trial functions (for solving)\n",
        "v, q = TestFunctions(W)   # Test functions (for testing)\n",
        "w = Function(W)           # Solution function\n",
        "\n",
        "# Fluid properties (blood parameters)\n",
        "rho = 1060.0      # Density (kg/m^3)\n",
        "mu = 0.004        # Dynamic viscosity (Pa·s)\n",
        "\n",
        "# Step 4: Define boundary conditions\n",
        "inflow = Expression(('4.0 * (1.0 - pow(x[1]/width, 2))', '0.0'), width=width, degree=2)  # Parabolic inflow\n",
        "noslip = Constant((0, 0))  # No-slip condition\n",
        "bc1 = DirichletBC(W.sub(0), inflow, 'near(x[0], 0)')  # Inflow\n",
        "bc2 = DirichletBC(W.sub(0), noslip, 'on_boundary && !(near(x[0], 0) || near(x[0], length))')  # Walls\n",
        "bc3 = DirichletBC(W.sub(1), Constant(0), 'near(x[0], length)')  # Zero pressure at the outlet\n",
        "bcs = [bc1, bc2, bc3]\n",
        "\n",
        "# Step 5: Define the Navier-Stokes equations (weak form)\n",
        "F = (\n",
        "    rho * dot((u - v) / Constant(1.0), v) * dx\n",
        "    + mu * inner(grad(u), grad(v)) * dx\n",
        "    - div(v) * p * dx\n",
        "    + q * div(u) * dx\n",
        ")\n",
        "\n",
        "# Step 6: Solve the problem\n",
        "solve(lhs(F) == rhs(F), w, bcs)\n",
        "u, p = w.split()  # Extract velocity and pressure solutions\n",
        "\n",
        "# Step 7: Visualize the results\n",
        "plt.figure()\n",
        "plot(u, title=\"Velocity Field\")\n",
        "plt.figure()\n",
        "plot(p, title=\"Pressure Field\")\n",
        "plt.show()\n"
      ]
    }
  ]
}