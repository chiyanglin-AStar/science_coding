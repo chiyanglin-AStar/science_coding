{
  "nbformat": 4,
  "nbformat_minor": 0,
  "metadata": {
    "colab": {
      "provenance": [],
      "authorship_tag": "ABX9TyMIzHFdFAhY8H79+idA8NnR",
      "include_colab_link": true
    },
    "kernelspec": {
      "name": "python3",
      "display_name": "Python 3"
    },
    "language_info": {
      "name": "python"
    }
  },
  "cells": [
    {
      "cell_type": "markdown",
      "metadata": {
        "id": "view-in-github",
        "colab_type": "text"
      },
      "source": [
        "<a href=\"https://colab.research.google.com/github/chiyanglin-AStar/science_coding/blob/main/molecular_energy_level.ipynb\" target=\"_parent\"><img src=\"https://colab.research.google.com/assets/colab-badge.svg\" alt=\"Open In Colab\"/></a>"
      ]
    },
    {
      "cell_type": "code",
      "execution_count": 1,
      "metadata": {
        "colab": {
          "base_uri": "https://localhost:8080/"
        },
        "id": "pjsWttZEUt81",
        "outputId": "1e601ea7-5d04-4a91-f7bf-6f96d476f0a4"
      },
      "outputs": [
        {
          "output_type": "stream",
          "name": "stdout",
          "text": [
            "Collecting pyscf\n",
            "  Downloading pyscf-2.7.0-py3-none-manylinux_2_17_x86_64.manylinux2014_x86_64.whl.metadata (6.2 kB)\n",
            "Requirement already satisfied: numpy!=1.16,!=1.17,>=1.13 in /usr/local/lib/python3.10/dist-packages (from pyscf) (1.26.4)\n",
            "Requirement already satisfied: scipy>=1.6.0 in /usr/local/lib/python3.10/dist-packages (from pyscf) (1.13.1)\n",
            "Requirement already satisfied: h5py>=2.7 in /usr/local/lib/python3.10/dist-packages (from pyscf) (3.12.1)\n",
            "Requirement already satisfied: setuptools in /usr/local/lib/python3.10/dist-packages (from pyscf) (75.1.0)\n",
            "Downloading pyscf-2.7.0-py3-none-manylinux_2_17_x86_64.manylinux2014_x86_64.whl (48.7 MB)\n",
            "\u001b[2K   \u001b[90m━━━━━━━━━━━━━━━━━━━━━━━━━━━━━━━━━━━━━━━━\u001b[0m \u001b[32m48.7/48.7 MB\u001b[0m \u001b[31m9.0 MB/s\u001b[0m eta \u001b[36m0:00:00\u001b[0m\n",
            "\u001b[?25hInstalling collected packages: pyscf\n",
            "Successfully installed pyscf-2.7.0\n"
          ]
        }
      ],
      "source": [
        "!pip install pyscf"
      ]
    },
    {
      "cell_type": "code",
      "source": [
        "from pyscf import gto, scf, dft\n",
        "\n",
        "# Step 1: Define the O2 molecule\n",
        "mol = gto.Mole()\n",
        "mol.build(\n",
        "    atom='O 0 0 0; O 0 0 1.21',  # Bond length in angstroms\n",
        "    basis='cc-pVDZ',            # Basis set for the calculation\n",
        "    spin=2,                     # Spin multiplicity (O2 is paramagnetic with 2 unpaired electrons)\n",
        "    charge=0                    # Neutral molecule\n",
        ")\n",
        "\n",
        "# Step 2: Perform a DFT calculation\n",
        "mf = dft.UKS(mol)               # Unrestricted Kohn-Sham DFT\n",
        "mf.xc = 'B3LYP'                 # Exchange-correlation functional\n",
        "mf.kernel()\n",
        "\n",
        "# Step 3: Print results\n",
        "print(\"\\nTotal Energy (Hartree):\", mf.e_tot)\n",
        "\n",
        "# Step 4: Vibrational and rotational analysis (optional)\n",
        "# This requires advanced methods like harmonic frequency calculations, which PySCF supports via integration with libraries like Psi4.\n"
      ],
      "metadata": {
        "colab": {
          "base_uri": "https://localhost:8080/"
        },
        "id": "WuM2VvAqU7NQ",
        "outputId": "3a812903-f7f5-4a2c-d391-abe26fa0e353"
      },
      "execution_count": 2,
      "outputs": [
        {
          "output_type": "stream",
          "name": "stderr",
          "text": [
            "/usr/local/lib/python3.10/dist-packages/pyscf/dft/libxc.py:507: UserWarning: Since PySCF-2.3, B3LYP (and B3P86) are changed to the VWN-RPA variant, corresponding to the original definition by Stephens et al. (issue 1480) and the same as the B3LYP functional in Gaussian. To restore the VWN5 definition, you can put the setting \"B3LYP_WITH_VWN5 = True\" in pyscf_conf.py\n",
            "  warnings.warn('Since PySCF-2.3, B3LYP (and B3P86) are changed to the VWN-RPA variant, '\n"
          ]
        },
        {
          "output_type": "stream",
          "name": "stdout",
          "text": [
            "converged SCF energy = -150.334037238058  <S^2> = 2.0062987  2S+1 = 3.0041962\n",
            "\n",
            "Total Energy (Hartree): -150.33403723805796\n"
          ]
        }
      ]
    }
  ]
}