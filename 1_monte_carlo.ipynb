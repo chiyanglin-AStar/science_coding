{
  "nbformat": 4,
  "nbformat_minor": 0,
  "metadata": {
    "colab": {
      "provenance": [],
      "authorship_tag": "ABX9TyN9e+kG8MuMcs8K+Zc9xG/H",
      "include_colab_link": true
    },
    "kernelspec": {
      "name": "python3",
      "display_name": "Python 3"
    },
    "language_info": {
      "name": "python"
    }
  },
  "cells": [
    {
      "cell_type": "markdown",
      "metadata": {
        "id": "view-in-github",
        "colab_type": "text"
      },
      "source": [
        "<a href=\"https://colab.research.google.com/github/chiyanglin-AStar/science_coding/blob/main/monte_carlo_ex1.ipynb\" target=\"_parent\"><img src=\"https://colab.research.google.com/assets/colab-badge.svg\" alt=\"Open In Colab\"/></a>"
      ]
    },
    {
      "cell_type": "markdown",
      "source": [
        "## Monte Carlo Simulation\n",
        "\n",
        "Monte Carlo Simulation is a statistical technique used to model the probability of different outcomes in a process that cannot easily be predicted due to the presence of random variables. It relies on the generation of random samples to obtain numerical results and is named after the Monte Carlo Casino in Monaco, as the method involves randomness and chance, much like games of chance at a casino.\n",
        "\n",
        "Here's a basic overview of how Monte Carlo Simulation works:\n",
        "\n",
        "Define the Problem:\n",
        "\n",
        "Clearly define the problem or system you want to analyze.\n",
        "Identify Variables:\n",
        "\n",
        "Identify the key variables and parameters that influence the system or process.\n",
        "Assign Probability Distributions:\n",
        "\n",
        "Assign probability distributions to the variables. These distributions represent the range of possible values for each variable and their likelihood.\n",
        "Generate Random Samples:\n",
        "\n",
        "Use random number generators to create samples from the specified probability distributions for each variable.\n",
        "Run Simulations:\n",
        "\n",
        "For each set of randomly generated values, run the simulation to determine the outcome or behavior of the system.\n",
        "Aggregate Results:\n",
        "\n",
        "Collect and aggregate the results from all simulations to analyze the overall behavior and generate probability distributions for the outcomes.\n",
        "Monte Carlo Simulation is widely used in various fields, including finance, engineering, project management, physics, and operations research. It provides a powerful tool for decision-making and risk analysis by allowing analysts to model complex systems and assess the likelihood of different scenarios. The more simulations conducted, the more accurate and reliable the results become."
      ],
      "metadata": {
        "id": "w-UPy7J0owKV"
      }
    },
    {
      "cell_type": "markdown",
      "source": [
        "Certainly! Let's consider a simple example of using Monte Carlo Simulation to estimate the value of π (pi), which is the ratio of a circle's circumference to its diameter.\n",
        "\n",
        "Define the Problem:\n",
        "\n",
        "Estimate the value of π using Monte Carlo Simulation.\n",
        "Identify Variables:\n",
        "\n",
        "We'll use random points within a square to simulate points within a circle.\n",
        "Assign Probability Distributions:\n",
        "\n",
        "For each point's x and y coordinates, we'll use a uniform distribution between -1 and 1, as our square will have side length 2 centered at the origin.\n",
        "Generate Random Samples:\n",
        "\n",
        "Generate a large number of random points within the square.\n",
        "Run Simulations:\n",
        "\n",
        "For each point, determine if it falls inside a unit circle (using the equation x^2 + y^2 ≤ 1).\n",
        "Aggregate Results:\n",
        "\n",
        "Calculate the ratio of points inside the circle to the total points generated. This ratio multiplied by 4 will provide an estimate of π.\n",
        "Here's a simple Python code snippet to demonstrate this:"
      ],
      "metadata": {
        "id": "_E3HbdLLpKuw"
      }
    },
    {
      "cell_type": "code",
      "execution_count": null,
      "metadata": {
        "colab": {
          "base_uri": "https://localhost:8080/"
        },
        "id": "qh2TUCdHonwf",
        "outputId": "af46d22a-8e6e-46bb-ff18-7259b87a3335"
      },
      "outputs": [
        {
          "output_type": "stream",
          "name": "stdout",
          "text": [
            "Estimated value of pi: 3.1419948\n"
          ]
        }
      ],
      "source": [
        "import random\n",
        "\n",
        "def monte_carlo_pi(num_samples):\n",
        "    inside_circle = 0\n",
        "\n",
        "    for _ in range(num_samples):\n",
        "        x = random.uniform(-1, 1)\n",
        "        y = random.uniform(-1, 1)\n",
        "\n",
        "        if x**2 + y**2 <= 1:\n",
        "            inside_circle += 1\n",
        "\n",
        "    pi_estimate = (inside_circle / num_samples) * 4\n",
        "    return pi_estimate\n",
        "\n",
        "# Example with 10000 samples\n",
        "estimated_pi = monte_carlo_pi(10000000)\n",
        "print(\"Estimated value of pi:\", estimated_pi)"
      ]
    },
    {
      "cell_type": "markdown",
      "source": [
        "As you increase the number of samples, the estimated value of π becomes more accurate, demonstrating the power of Monte Carlo Simulation in approximating outcomes through random sampling."
      ],
      "metadata": {
        "id": "hJxSgXhquWL0"
      }
    },
    {
      "cell_type": "markdown",
      "source": [
        "Example 1: Estimating Project Completion Time\n",
        "Problem:\n",
        "You are managing a project with several tasks, each with its estimated completion time. Due to uncertainties and dependencies, you want to estimate the overall project completion time.\n",
        "\n",
        "Monte Carlo Simulation Steps:\n",
        "\n",
        "Define the Problem:\n",
        "\n",
        "Estimate the project completion time.\n",
        "Identify Variables:\n",
        "\n",
        "Project tasks with their estimated completion times.\n",
        "Assign Probability Distributions:\n",
        "\n",
        "Use probability distributions for task completion times (e.g., normal distribution for each task).\n",
        "Generate Random Samples:\n",
        "\n",
        "Generate random completion times for each task based on their distributions.\n",
        "Run Simulations:\n",
        "\n",
        "Sum the completion times of all tasks for each simulation.\n",
        "Aggregate Results:\n",
        "\n",
        "Analyze the distribution of the total project completion time from the simulations."
      ],
      "metadata": {
        "id": "eA7MrAa7vQCy"
      }
    },
    {
      "cell_type": "code",
      "source": [
        "import random\n",
        "\n",
        "def project_completion_time_simulation(task_completion_times):\n",
        "    num_simulations = 1000\n",
        "    project_completion_times = []\n",
        "\n",
        "    for _ in range(num_simulations):\n",
        "        simulation_completion_time = sum(random.normalvariate(task[0], task[1]) for task in task_completion_times)\n",
        "        project_completion_times.append(simulation_completion_time)\n",
        "\n",
        "    return project_completion_times\n",
        "\n",
        "# Example usage:\n",
        "task_completion_times = [(5, 1), (8, 2), (6, 1.5)]  # Format: (mean, standard deviation)\n",
        "project_completion_times = project_completion_time_simulation(task_completion_times)\n",
        "\n",
        "# Analyze results\n",
        "average_completion_time = sum(project_completion_times) / len(project_completion_times)\n",
        "print(\"Average Project Completion Time:\", average_completion_time)"
      ],
      "metadata": {
        "id": "vJViX6jAvSGG",
        "outputId": "24b5e078-1142-4f7b-abef-499b87dfde5d",
        "colab": {
          "base_uri": "https://localhost:8080/"
        }
      },
      "execution_count": 1,
      "outputs": [
        {
          "output_type": "stream",
          "name": "stdout",
          "text": [
            "Average Project Completion Time: 19.142901522779418\n"
          ]
        }
      ]
    },
    {
      "cell_type": "markdown",
      "source": [
        "Example 2: Stock Price Simulation\n",
        "Problem:\n",
        "You want to simulate the future stock price of a given company based on historical data and volatility.\n",
        "\n",
        "Monte Carlo Simulation Steps:\n",
        "\n",
        "Define the Problem:\n",
        "\n",
        "Simulate future stock prices.\n",
        "Identify Variables:\n",
        "\n",
        "Initial stock price, historical stock price data, and volatility.\n",
        "Assign Probability Distributions:\n",
        "\n",
        "Use historical data to estimate the stock price changes and assign a probability distribution (e.g., normal distribution) for future price movements.\n",
        "Generate Random Samples:\n",
        "\n",
        "Generate random price changes based on the assigned distribution.\n",
        "Run Simulations:\n",
        "\n",
        "Cumulatively sum the random price changes to get simulated future stock prices.\n",
        "Aggregate Results:\n",
        "\n",
        "Analyze the distribution of simulated future stock prices to understand potential outcomes and risks.\n",
        "These examples illustrate the versatility of Monte Carlo Simulation in various fields, from project management to financial modeling. The technique allows for the consideration of uncertainties and variability in the input parameters to make more informed decisions."
      ],
      "metadata": {
        "id": "0yNunT1wvibn"
      }
    },
    {
      "cell_type": "code",
      "source": [
        "import numpy as np\n",
        "import matplotlib.pyplot as plt\n",
        "\n",
        "def stock_price_simulation(initial_price, historical_data, volatility, num_days):\n",
        "    daily_returns = np.log(1 + historical_data.pct_change())\n",
        "    daily_volatility = daily_returns.std()\n",
        "\n",
        "    price_simulations = [initial_price]\n",
        "\n",
        "    for _ in range(num_days):\n",
        "        daily_return = np.random.normal(loc=daily_returns.mean(), scale=daily_volatility)\n",
        "        price_simulations.append(price_simulations[-1] * np.exp(daily_return))\n",
        "\n",
        "    return price_simulations\n",
        "\n",
        "# Example usage:\n",
        "initial_stock_price = 100\n",
        "historical_stock_data = # Historical stock price data (e.g., pandas DataFrame)\n",
        "volatility = 0.2\n",
        "simulation_days = 252  # Number of trading days in a year\n",
        "\n",
        "simulated_prices = stock_price_simulation(initial_stock_price, historical_stock_data, volatility, simulation_days)\n",
        "\n",
        "# Visualize results\n",
        "plt.plot(simulated_prices)\n",
        "plt.xlabel('Days')\n",
        "plt.ylabel('Stock Price')\n",
        "plt.title('Stock Price Simulation')\n",
        "plt.show()"
      ],
      "metadata": {
        "id": "1iKpfoCOvpS_",
        "outputId": "faf78b49-401b-47b7-b2f5-26ee86ab0a54",
        "colab": {
          "base_uri": "https://localhost:8080/",
          "height": 106
        }
      },
      "execution_count": 2,
      "outputs": [
        {
          "output_type": "error",
          "ename": "SyntaxError",
          "evalue": "invalid syntax (<ipython-input-2-77294566c406>, line 18)",
          "traceback": [
            "\u001b[0;36m  File \u001b[0;32m\"<ipython-input-2-77294566c406>\"\u001b[0;36m, line \u001b[0;32m18\u001b[0m\n\u001b[0;31m    historical_stock_data = # Historical stock price data (e.g., pandas DataFrame)\u001b[0m\n\u001b[0m                            ^\u001b[0m\n\u001b[0;31mSyntaxError\u001b[0m\u001b[0;31m:\u001b[0m invalid syntax\n"
          ]
        }
      ]
    }
  ]
}
