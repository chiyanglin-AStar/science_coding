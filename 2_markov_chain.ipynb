{
  "nbformat": 4,
  "nbformat_minor": 0,
  "metadata": {
    "colab": {
      "provenance": [],
      "authorship_tag": "ABX9TyMN+tKWl4/SHxOcr0H9NcQc",
      "include_colab_link": true
    },
    "kernelspec": {
      "name": "python3",
      "display_name": "Python 3"
    },
    "language_info": {
      "name": "python"
    }
  },
  "cells": [
    {
      "cell_type": "markdown",
      "metadata": {
        "id": "view-in-github",
        "colab_type": "text"
      },
      "source": [
        "<a href=\"https://colab.research.google.com/github/chiyanglin-AStar/science_coding/blob/main/markov_chain.ipynb\" target=\"_parent\"><img src=\"https://colab.research.google.com/assets/colab-badge.svg\" alt=\"Open In Colab\"/></a>"
      ]
    },
    {
      "cell_type": "markdown",
      "source": [
        "## Markov chain\n",
        "\n",
        "A Markov chain is a mathematical system that undergoes transitions between different states according to certain probabilistic rules. It is a memoryless process, meaning that the probability of transitioning to any particular state depends solely on the current state and time elapsed, regardless of how the system arrived at its current state.\n",
        "\n",
        "Here's a simple example of a first-order discrete-time Markov chain in Python. In this example, we'll model the weather as a Markov chain with states \"Sunny\" and \"Rainy.\" The transition probabilities between states represent the likelihood of the weather changing from one day to the next."
      ],
      "metadata": {
        "id": "YW-Hbfx1w_4q"
      }
    },
    {
      "cell_type": "code",
      "execution_count": 1,
      "metadata": {
        "colab": {
          "base_uri": "https://localhost:8080/"
        },
        "id": "5aC5bi_Hw9Gy",
        "outputId": "092b5766-163c-428b-92b7-b9254d4e24a0"
      },
      "outputs": [
        {
          "output_type": "stream",
          "name": "stdout",
          "text": [
            "Simulated Weather Sequence: ['Sunny', 'Rainy', 'Sunny', 'Sunny', 'Sunny', 'Rainy', 'Rainy', 'Rainy', 'Rainy', 'Sunny']\n"
          ]
        }
      ],
      "source": [
        "import numpy as np\n",
        "\n",
        "# Define the transition matrix\n",
        "transition_matrix = np.array([[0.8, 0.2],  # Sunny to Sunny, Sunny to Rainy\n",
        "                              [0.4, 0.6]])  # Rainy to Sunny, Rainy to Rainy\n",
        "\n",
        "# Initial state probabilities\n",
        "initial_state = np.array([0.5, 0.5])  # Equally likely to start as Sunny or Rainy\n",
        "\n",
        "def simulate_markov_chain(transition_matrix, initial_state, num_steps):\n",
        "    num_states = len(initial_state)\n",
        "    states = np.zeros((num_steps,), dtype=int)\n",
        "\n",
        "    # Initialize the current state\n",
        "    current_state = np.random.choice(np.arange(num_states), p=initial_state)\n",
        "    states[0] = current_state\n",
        "\n",
        "    # Simulate the Markov chain\n",
        "    for step in range(1, num_steps):\n",
        "        current_state = np.random.choice(np.arange(num_states), p=transition_matrix[current_state])\n",
        "        states[step] = current_state\n",
        "\n",
        "    return states\n",
        "\n",
        "# Simulate weather for 10 days\n",
        "num_steps = 10\n",
        "weather_states = simulate_markov_chain(transition_matrix, initial_state, num_steps)\n",
        "\n",
        "# Map numeric states to corresponding labels\n",
        "weather_labels = [\"Sunny\", \"Rainy\"]\n",
        "weather_sequence = [weather_labels[state] for state in weather_states]\n",
        "\n",
        "# Display the simulated weather sequence\n",
        "print(\"Simulated Weather Sequence:\", weather_sequence)"
      ]
    },
    {
      "cell_type": "markdown",
      "source": [
        "In this example, the transition_matrix defines the probabilities of transitioning between states. The simulate_markov_chain function generates a sequence of states based on these probabilities. The result is a simulated sequence of weather conditions (Sunny or Rainy) over a specified number of days.\n",
        "\n",
        "Note that the initial state is chosen based on the initial_state probabilities, and subsequent states are chosen based on the transition probabilities defined in the matrix. The simplicity of this example allows for a clear understanding of the basic principles behind a Markov chain."
      ],
      "metadata": {
        "id": "lDmNzgjUxTax"
      }
    }
  ]
}
