{
  "nbformat": 4,
  "nbformat_minor": 0,
  "metadata": {
    "colab": {
      "provenance": [],
      "authorship_tag": "ABX9TyOy3i1Yp/72GY6aZIc5dsQF",
      "include_colab_link": true
    },
    "kernelspec": {
      "name": "python3",
      "display_name": "Python 3"
    },
    "language_info": {
      "name": "python"
    }
  },
  "cells": [
    {
      "cell_type": "markdown",
      "metadata": {
        "id": "view-in-github",
        "colab_type": "text"
      },
      "source": [
        "<a href=\"https://colab.research.google.com/github/chiyanglin-AStar/science_coding/blob/main/7_path_integration.ipynb\" target=\"_parent\"><img src=\"https://colab.research.google.com/assets/colab-badge.svg\" alt=\"Open In Colab\"/></a>"
      ]
    },
    {
      "cell_type": "markdown",
      "source": [
        "## Path Integration\n",
        "\n",
        "Path integration is a process used by animals, particularly in navigation, where they integrate information about their own movements to determine their current position. It is a mechanism that allows an organism to keep track of its location relative to a starting point, even in the absence of external cues like landmarks.\n",
        "\n",
        "The process involves continuously updating the current position based on self-generated information about the direction and distance traveled from a reference point. This is often achieved through the integration of sensory information, such as proprioceptive (sensations from muscles and joints) and vestibular (related to balance and spatial orientation) inputs.\n",
        "\n",
        "Path integration is prevalent in various species, particularly those that navigate in environments where external landmarks are scarce or not reliable. For example, desert ants use path integration to navigate back to their nest after foraging for food. Humans also use path integration to some extent, particularly in situations where visual cues are limited, such as when walking in a featureless environment.\n",
        "\n",
        "In the context of physics and mathematics, path integration refers to a technique used in calculus and quantum mechanics, where the integration is performed over all possible paths between two points. This is known as the path integral formulation and is a fundamental concept in quantum field theory and quantum mechanics."
      ],
      "metadata": {
        "id": "-LG16TkzQkOz"
      }
    },
    {
      "cell_type": "markdown",
      "source": [
        "## Path Example 1:\n",
        "\n",
        "A simple example of path integration in Python can involve keeping track of the position of an object as it moves along a path. Here's a basic example:"
      ],
      "metadata": {
        "id": "UAb_l5CRQ_38"
      }
    },
    {
      "cell_type": "code",
      "execution_count": 1,
      "metadata": {
        "colab": {
          "base_uri": "https://localhost:8080/"
        },
        "id": "IrRZhcF5QjZ-",
        "outputId": "89de026a-1a18-413c-c031-f4d1c456049b"
      },
      "outputs": [
        {
          "output_type": "stream",
          "name": "stdout",
          "text": [
            "Final Position: [3, 3]\n"
          ]
        }
      ],
      "source": [
        "class PathIntegration:\n",
        "    def __init__(self):\n",
        "        self.current_position = [0, 0]  # Initial position at the origin\n",
        "\n",
        "    def move(self, direction, distance):\n",
        "        if direction == 'up':\n",
        "            self.current_position[1] += distance\n",
        "        elif direction == 'down':\n",
        "            self.current_position[1] -= distance\n",
        "        elif direction == 'right':\n",
        "            self.current_position[0] += distance\n",
        "        elif direction == 'left':\n",
        "            self.current_position[0] -= distance\n",
        "\n",
        "    def get_position(self):\n",
        "        return self.current_position\n",
        "\n",
        "# Example usage:\n",
        "path_integration_system = PathIntegration()\n",
        "\n",
        "# Move the object\n",
        "path_integration_system.move('right', 5)\n",
        "path_integration_system.move('up', 3)\n",
        "path_integration_system.move('left', 2)\n",
        "\n",
        "# Get the final position\n",
        "final_position = path_integration_system.get_position()\n",
        "print(\"Final Position:\", final_position)"
      ]
    },
    {
      "cell_type": "markdown",
      "source": [
        "In this example, the PathIntegration class has a method move that takes a direction ('up', 'down', 'right', 'left') and a distance, and updates the current position accordingly. The get_position method returns the current position.\n",
        "\n",
        "This is a simplistic example, and in real-world scenarios, you might have more sophisticated algorithms for path integration, especially if you're dealing with continuous updates of position using sensors or integrating over a set of movements."
      ],
      "metadata": {
        "id": "TuNWlc6SRPVr"
      }
    },
    {
      "cell_type": "markdown",
      "source": [
        "## Path Example 2:\n",
        "\n",
        "Let's consider a simple physics scenario where an object is moving with constant velocity. We can use the basic kinematic equation to perform path integration. Here's a Python example:"
      ],
      "metadata": {
        "id": "6_j3HuPYSRlj"
      }
    },
    {
      "cell_type": "code",
      "source": [
        "class PathIntegrationPhysics:\n",
        "    def __init__(self, initial_position, initial_velocity):\n",
        "        self.current_position = initial_position\n",
        "        self.current_velocity = initial_velocity\n",
        "\n",
        "    def move(self, time):\n",
        "        # Using basic kinematic equation: position = initial_position + (initial_velocity * time)\n",
        "        self.current_position += self.current_velocity * time\n",
        "\n",
        "    def get_position(self):\n",
        "        return self.current_position\n",
        "\n",
        "# Example usage:\n",
        "initial_position = 0\n",
        "initial_velocity = 5  # m/s\n",
        "\n",
        "path_integration_system = PathIntegrationPhysics(initial_position, initial_velocity)\n",
        "\n",
        "# Move the object for 2 seconds\n",
        "time_elapsed = 2  # seconds\n",
        "path_integration_system.move(time_elapsed)\n",
        "\n",
        "# Get the final position\n",
        "final_position = path_integration_system.get_position()\n",
        "print(f\"Final Position after {time_elapsed} seconds: {final_position} meters\")"
      ],
      "metadata": {
        "colab": {
          "base_uri": "https://localhost:8080/"
        },
        "id": "LOJFVeT1ShIf",
        "outputId": "ce364859-a170-4f01-8c08-e8ffb1e2a842"
      },
      "execution_count": 2,
      "outputs": [
        {
          "output_type": "stream",
          "name": "stdout",
          "text": [
            "Final Position after 2 seconds: 10 meters\n"
          ]
        }
      ]
    },
    {
      "cell_type": "markdown",
      "source": [
        "In this example, the PathIntegrationPhysics class takes an initial position and velocity. The move method updates the current position based on the constant velocity using the kinematic equation. The final position is obtained by calling the get_position method.\n",
        "\n",
        "This is a simplified example, and in more complex physics scenarios, you might need to consider acceleration, forces, and more sophisticated integration methods."
      ],
      "metadata": {
        "id": "U3_YcRgISqY5"
      }
    }
  ]
}