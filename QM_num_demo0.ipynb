{
  "nbformat": 4,
  "nbformat_minor": 0,
  "metadata": {
    "colab": {
      "provenance": [],
      "authorship_tag": "ABX9TyO/x+qEAFjH+iIIPDXEhSb7",
      "include_colab_link": true
    },
    "kernelspec": {
      "name": "python3",
      "display_name": "Python 3"
    },
    "language_info": {
      "name": "python"
    }
  },
  "cells": [
    {
      "cell_type": "markdown",
      "metadata": {
        "id": "view-in-github",
        "colab_type": "text"
      },
      "source": [
        "<a href=\"https://colab.research.google.com/github/chiyanglin-AStar/science_coding/blob/main/QM_num_demo0.ipynb\" target=\"_parent\"><img src=\"https://colab.research.google.com/assets/colab-badge.svg\" alt=\"Open In Colab\"/></a>"
      ]
    },
    {
      "cell_type": "markdown",
      "source": [
        "## Numerical Methods of Quantum Mechanics"
      ],
      "metadata": {
        "id": "cwPUQePfGLHw"
      }
    },
    {
      "cell_type": "markdown",
      "source": [
        "Sure, let's go through each of the four quantum simulation methods using a simple example of a **single spin-1/2 particle** (such as an electron with spin-up and spin-down states) in a magnetic field. We'll outline the key ideas and provide simple pseudocode or Python snippets for each method.\n",
        "\n",
        "In this example:\n",
        "- The Hamiltonian of the system is $H = -\\gamma B \\sigma_z$, where $\\gamma$ is the gyromagnetic ratio, $B$ is the magnetic field strength, and $\\sigma_z$ is the Pauli-Z matrix.\n",
        "- The two possible states are represented by \\(|\\uparrow\\rangle\\) (spin-up) and \\(|\\downarrow\\rangle\\) (spin-down).\n",
        "\n",
        "Let's explore how each method can simulate this system:"
      ],
      "metadata": {
        "id": "fNGTmiEYGEl6"
      }
    },
    {
      "cell_type": "markdown",
      "source": [],
      "metadata": {
        "id": "PGvLE9gTFwu4"
      }
    },
    {
      "cell_type": "markdown",
      "source": [
        "### 1. **Matrix Methods**\n",
        "\n",
        "Matrix methods involve representing the Hamiltonian and state vectors as matrices and vectors, respectively. The time evolution is obtained by applying the time-evolution operator $U = e^{-i H t}$.\n",
        "\n",
        "In our case:\n",
        "- **Hamiltonian** $H = -\\gamma B \\begin{bmatrix} 1 & 0 \\\\ 0 & -1 \\end{bmatrix}$\n",
        "- **Initial State** $\\psi(0) = \\begin{bmatrix} 1 \\\\ 0 \\end{bmatrix}$ (spin-up)"
      ],
      "metadata": {
        "id": "CBE6s-YGGyIP"
      }
    },
    {
      "cell_type": "code",
      "execution_count": 7,
      "metadata": {
        "colab": {
          "base_uri": "https://localhost:8080/"
        },
        "id": "k7KqcHrUFtUB",
        "outputId": "fbee7e67-92b3-4fa4-d200-d5a0fd80f0b3"
      },
      "outputs": [
        {
          "output_type": "stream",
          "name": "stdout",
          "text": [
            "State at time t: [0.54030231+0.84147098j 0.        +0.j        ]\n"
          ]
        }
      ],
      "source": [
        "import numpy as np\n",
        "from scipy.linalg import expm\n",
        "\n",
        "# Parameters\n",
        "gamma = 1.0  # Gyromagnetic ratio\n",
        "B = 1.0      # Magnetic field strength\n",
        "t = 1.0      # Time of evolution\n",
        "\n",
        "# Pauli-Z matrix\n",
        "sigma_z = np.array([[1, 0], [0, -1]])\n",
        "\n",
        "# Hamiltonian\n",
        "H = -gamma * B * sigma_z\n",
        "\n",
        "# Time evolution operator U = exp(-i * H * t)\n",
        "U = expm(-1j * H * t)\n",
        "\n",
        "# Initial state (spin-up)\n",
        "psi_0 = np.array([1, 0])\n",
        "\n",
        "# Evolved state at time t\n",
        "psi_t = U @ psi_0\n",
        "print(\"State at time t:\", psi_t)\n"
      ]
    },
    {
      "cell_type": "markdown",
      "source": [
        "This code calculates the state of the particle after time $t$ using matrix exponentiation."
      ],
      "metadata": {
        "id": "nNYOLMbWKOvg"
      }
    },
    {
      "cell_type": "markdown",
      "source": [
        "### 2. **Wavefunction Methods**\n",
        "\n",
        "In wavefunction methods, we solve the **time-dependent Schrödinger equation** for the wavefunction $\\psi(t)$. For a small system, we can solve it by applying the Hamiltonian repeatedly over small time steps.\n"
      ],
      "metadata": {
        "id": "wmdgQc7LKpj1"
      }
    },
    {
      "cell_type": "code",
      "source": [
        "# Time-dependent Schrödinger equation with Euler's method\n",
        "dt = 0.01  # Small time step\n",
        "num_steps = int(t / dt)\n",
        "\n",
        "# Initial state (spin-up)\n",
        "psi_t = psi_0.copy()\n",
        "\n",
        "# Time evolution using Schrödinger's equation: psi(t + dt) = psi(t) - i * H * psi(t) * dt\n",
        "for _ in range(num_steps):\n",
        "    psi_t = psi_t - 1j * H @ psi_t * dt\n",
        "\n",
        "print(\"State at time t:\", psi_t)"
      ],
      "metadata": {
        "id": "ViOHezp7LjOF",
        "outputId": "4a64bdfc-618a-4471-de2c-d906bf14d37e",
        "colab": {
          "base_uri": "https://localhost:8080/"
        }
      },
      "execution_count": 8,
      "outputs": [
        {
          "output_type": "stream",
          "name": "stdout",
          "text": [
            "State at time t: [0.54303863+0.84567056j 0.        +0.j        ]\n"
          ]
        }
      ]
    },
    {
      "cell_type": "markdown",
      "source": [
        "Here, we iteratively evolve the wavefunction by a small time step $dt$ using the Schrödinger equation."
      ],
      "metadata": {
        "id": "4bmqo9E1MLZn"
      }
    },
    {
      "cell_type": "markdown",
      "source": [
        "### 3. **Density Matrix Methods**\n",
        "\n",
        "The density matrix $\\rho$ represents the probabilities of different quantum states and can describe mixed states (not just pure states). This method is useful for open quantum systems where decoherence may occur.\n",
        "\n",
        "In our example:\n",
        "- We start with a pure state $\\rho = |\\psi\\rangle \\langle \\psi|$ and evolve it using $\\rho(t) = U \\rho(0) U^\\dagger$."
      ],
      "metadata": {
        "id": "uLt-qu6mMRnl"
      }
    },
    {
      "cell_type": "code",
      "source": [
        "# Initial density matrix for pure state (spin-up)\n",
        "rho_0 = np.outer(psi_0, np.conj(psi_0))\n",
        "\n",
        "# Time evolution of density matrix: rho(t) = U * rho_0 * U_dagger\n",
        "rho_t = U @ rho_0 @ U.conj().T\n",
        "print(\"Density matrix at time t:\\n\", rho_t)"
      ],
      "metadata": {
        "id": "bzLLX1EyMa5G",
        "outputId": "39625fae-2002-47e8-e3a5-62b94a5417a4",
        "colab": {
          "base_uri": "https://localhost:8080/"
        }
      },
      "execution_count": 9,
      "outputs": [
        {
          "output_type": "stream",
          "name": "stdout",
          "text": [
            "Density matrix at time t:\n",
            " [[1.+0.j 0.+0.j]\n",
            " [0.+0.j 0.+0.j]]\n"
          ]
        }
      ]
    },
    {
      "cell_type": "markdown",
      "source": [
        "This code computes the density matrix at time $t$, which would allow us to calculate observables or track decoherence."
      ],
      "metadata": {
        "id": "kABbtqtjM0gN"
      }
    },
    {
      "cell_type": "markdown",
      "source": [
        "### 4. **Monte Carlo Methods**\n",
        "\n",
        "Monte Carlo methods involve random sampling to estimate the properties of a quantum system. For this example, we could use a **Quantum Monte Carlo** approach by randomly sampling the probability of measuring spin-up or spin-down.\n"
      ],
      "metadata": {
        "id": "QZj-5D1JNK7G"
      }
    },
    {
      "cell_type": "code",
      "source": [
        "# Probability of measuring spin-up and spin-down\n",
        "p_spin_up = abs(psi_t[0])**2\n",
        "p_spin_down = abs(psi_t[1])**2\n",
        "\n",
        "# Monte Carlo sampling\n",
        "n_samples = 10000\n",
        "results = np.random.choice([\"spin_up\", \"spin_down\"], size=n_samples, p=[p_spin_up, p_spin_down])\n",
        "spin_up_count = np.sum(results == \"spin_up\")\n",
        "spin_down_count = np.sum(results == \"spin_down\")\n",
        "\n",
        "print(\"Measured probability of spin-up:\", spin_up_count / n_samples)\n",
        "print(\"Measured probability of spin-down:\", spin_down_count / n_samples)"
      ],
      "metadata": {
        "id": "aPEkXiesNQWA",
        "outputId": "57dd8478-b5bb-4b21-8ebc-8dc7a1cf3a9c",
        "colab": {
          "base_uri": "https://localhost:8080/",
          "height": 245
        }
      },
      "execution_count": 10,
      "outputs": [
        {
          "output_type": "error",
          "ename": "ValueError",
          "evalue": "probabilities do not sum to 1",
          "traceback": [
            "\u001b[0;31m---------------------------------------------------------------------------\u001b[0m",
            "\u001b[0;31mValueError\u001b[0m                                Traceback (most recent call last)",
            "\u001b[0;32m<ipython-input-10-f6ec140f7f1b>\u001b[0m in \u001b[0;36m<cell line: 7>\u001b[0;34m()\u001b[0m\n\u001b[1;32m      5\u001b[0m \u001b[0;31m# Monte Carlo sampling\u001b[0m\u001b[0;34m\u001b[0m\u001b[0;34m\u001b[0m\u001b[0m\n\u001b[1;32m      6\u001b[0m \u001b[0mn_samples\u001b[0m \u001b[0;34m=\u001b[0m \u001b[0;36m10000\u001b[0m\u001b[0;34m\u001b[0m\u001b[0;34m\u001b[0m\u001b[0m\n\u001b[0;32m----> 7\u001b[0;31m \u001b[0mresults\u001b[0m \u001b[0;34m=\u001b[0m \u001b[0mnp\u001b[0m\u001b[0;34m.\u001b[0m\u001b[0mrandom\u001b[0m\u001b[0;34m.\u001b[0m\u001b[0mchoice\u001b[0m\u001b[0;34m(\u001b[0m\u001b[0;34m[\u001b[0m\u001b[0;34m\"spin_up\"\u001b[0m\u001b[0;34m,\u001b[0m \u001b[0;34m\"spin_down\"\u001b[0m\u001b[0;34m]\u001b[0m\u001b[0;34m,\u001b[0m \u001b[0msize\u001b[0m\u001b[0;34m=\u001b[0m\u001b[0mn_samples\u001b[0m\u001b[0;34m,\u001b[0m \u001b[0mp\u001b[0m\u001b[0;34m=\u001b[0m\u001b[0;34m[\u001b[0m\u001b[0mp_spin_up\u001b[0m\u001b[0;34m,\u001b[0m \u001b[0mp_spin_down\u001b[0m\u001b[0;34m]\u001b[0m\u001b[0;34m)\u001b[0m\u001b[0;34m\u001b[0m\u001b[0;34m\u001b[0m\u001b[0m\n\u001b[0m\u001b[1;32m      8\u001b[0m \u001b[0mspin_up_count\u001b[0m \u001b[0;34m=\u001b[0m \u001b[0mnp\u001b[0m\u001b[0;34m.\u001b[0m\u001b[0msum\u001b[0m\u001b[0;34m(\u001b[0m\u001b[0mresults\u001b[0m \u001b[0;34m==\u001b[0m \u001b[0;34m\"spin_up\"\u001b[0m\u001b[0;34m)\u001b[0m\u001b[0;34m\u001b[0m\u001b[0;34m\u001b[0m\u001b[0m\n\u001b[1;32m      9\u001b[0m \u001b[0mspin_down_count\u001b[0m \u001b[0;34m=\u001b[0m \u001b[0mnp\u001b[0m\u001b[0;34m.\u001b[0m\u001b[0msum\u001b[0m\u001b[0;34m(\u001b[0m\u001b[0mresults\u001b[0m \u001b[0;34m==\u001b[0m \u001b[0;34m\"spin_down\"\u001b[0m\u001b[0;34m)\u001b[0m\u001b[0;34m\u001b[0m\u001b[0;34m\u001b[0m\u001b[0m\n",
            "\u001b[0;32mnumpy/random/mtrand.pyx\u001b[0m in \u001b[0;36mnumpy.random.mtrand.RandomState.choice\u001b[0;34m()\u001b[0m\n",
            "\u001b[0;31mValueError\u001b[0m: probabilities do not sum to 1"
          ]
        }
      ]
    },
    {
      "cell_type": "markdown",
      "source": [
        "This code uses Monte Carlo sampling to estimate the probability of measuring each spin state after time $t$. With many samples, it approximates the true probabilities."
      ],
      "metadata": {
        "id": "GZHftsl1Nljm"
      }
    },
    {
      "cell_type": "markdown",
      "source": [
        "These simple examples show how each method can be applied to a straightforward quantum system. In practice, each method is often used for different kinds of quantum systems or problems:\n",
        "\n",
        "- **Matrix methods** are great for small systems with well-defined bases.\n",
        "- **Wavefunction methods** are often used in quantum chemistry and larger quantum systems.\n",
        "- **Density matrix methods** are suitable for open systems where decoherence or mixed states are involved.\n",
        "- **Monte Carlo methods** are powerful for large, complex systems where exact calculations are infeasible.\n",
        "\n",
        "Feel free to try these examples on your own and experiment with different parameters! Let me know if you'd like more details on any specific method."
      ],
      "metadata": {
        "id": "iaXfHuyFNx69"
      }
    }
  ]
}