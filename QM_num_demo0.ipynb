{
  "nbformat": 4,
  "nbformat_minor": 0,
  "metadata": {
    "colab": {
      "provenance": [],
      "authorship_tag": "ABX9TyNAZG9wzjFCxvUMNooHRN1I",
      "include_colab_link": true
    },
    "kernelspec": {
      "name": "python3",
      "display_name": "Python 3"
    },
    "language_info": {
      "name": "python"
    }
  },
  "cells": [
    {
      "cell_type": "markdown",
      "metadata": {
        "id": "view-in-github",
        "colab_type": "text"
      },
      "source": [
        "<a href=\"https://colab.research.google.com/github/chiyanglin-AStar/science_coding/blob/main/QM_num_demo0.ipynb\" target=\"_parent\"><img src=\"https://colab.research.google.com/assets/colab-badge.svg\" alt=\"Open In Colab\"/></a>"
      ]
    },
    {
      "cell_type": "markdown",
      "source": [
        "## Numerical Methods of Quantum Mechanics"
      ],
      "metadata": {
        "id": "cwPUQePfGLHw"
      }
    },
    {
      "cell_type": "markdown",
      "source": [
        "Sure, let's go through each of the four quantum simulation methods using a simple example of a **single spin-1/2 particle** (such as an electron with spin-up and spin-down states) in a magnetic field. We'll outline the key ideas and provide simple pseudocode or Python snippets for each method.\n",
        "\n",
        "In this example:\n",
        "- The Hamiltonian of the system is $H = -\\gamma B \\sigma_z$, where $\\gamma$ is the gyromagnetic ratio, $B$ is the magnetic field strength, and $\\sigma_z$ is the Pauli-Z matrix.\n",
        "- The two possible states are represented by \\(|\\uparrow\\rangle\\) (spin-up) and \\(|\\downarrow\\rangle\\) (spin-down).\n",
        "\n",
        "Let's explore how each method can simulate this system:"
      ],
      "metadata": {
        "id": "fNGTmiEYGEl6"
      }
    },
    {
      "cell_type": "markdown",
      "source": [],
      "metadata": {
        "id": "PGvLE9gTFwu4"
      }
    },
    {
      "cell_type": "markdown",
      "source": [
        "### 1. **Matrix Methods**\n",
        "\n",
        "Matrix methods involve representing the Hamiltonian and state vectors as matrices and vectors, respectively. The time evolution is obtained by applying the time-evolution operator $U = e^{-i H t}$.\n",
        "\n",
        "In our case:\n",
        "- **Hamiltonian** $H = -\\gamma B \\begin{bmatrix} 1 & 0 \\\\ 0 & -1 \\end{bmatrix}$\n",
        "- **Initial State** $\\psi(0) = \\begin{bmatrix} 1 \\\\ 0 \\end{bmatrix}$ (spin-up)"
      ],
      "metadata": {
        "id": "CBE6s-YGGyIP"
      }
    },
    {
      "cell_type": "code",
      "execution_count": 4,
      "metadata": {
        "colab": {
          "base_uri": "https://localhost:8080/"
        },
        "id": "k7KqcHrUFtUB",
        "outputId": "6e4319a3-c658-4036-aad8-f755399d49f0"
      },
      "outputs": [
        {
          "output_type": "stream",
          "name": "stdout",
          "text": [
            "State at time t: [0.54030231+0.84147098j 0.        +0.j        ]\n"
          ]
        }
      ],
      "source": [
        "import numpy as np\n",
        "from scipy.linalg import expm\n",
        "\n",
        "# Parameters\n",
        "gamma = 1.0  # Gyromagnetic ratio\n",
        "B = 1.0      # Magnetic field strength\n",
        "t = 1.0      # Time of evolution\n",
        "\n",
        "# Pauli-Z matrix\n",
        "sigma_z = np.array([[1, 0], [0, -1]])\n",
        "\n",
        "# Hamiltonian\n",
        "H = -gamma * B * sigma_z\n",
        "\n",
        "# Time evolution operator U = exp(-i * H * t)\n",
        "U = expm(-1j * H * t)\n",
        "\n",
        "# Initial state (spin-up)\n",
        "psi_0 = np.array([1, 0])\n",
        "\n",
        "# Evolved state at time t\n",
        "psi_t = U @ psi_0\n",
        "print(\"State at time t:\", psi_t)\n"
      ]
    }
  ]
}